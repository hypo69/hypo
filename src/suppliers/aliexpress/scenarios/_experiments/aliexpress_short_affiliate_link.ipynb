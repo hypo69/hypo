{
 "cells": [
  {
   "cell_type": "code",
   "execution_count": 1,
   "id": "d001507f",
   "metadata": {},
   "outputs": [
    {
     "name": "stdout",
     "output_type": "stream",
     "text": [
      "Master password for KeePass database: ········\n"
     ]
    },
    {
     "ename": "ImportError",
     "evalue": "cannot import name 'AffiliateLinksShortener' from partially initialized module 'src.suppliers.aliexpress.link_shortener' (most likely due to a circular import) (C:\\Users\\user\\Documents\\repos\\hypotez\\src\\suppliers\\aliexpress\\link_shortener.py)",
     "output_type": "error",
     "traceback": [
      "\u001b[1;31m---------------------------------------------------------------------------\u001b[0m",
      "\u001b[1;31mImportError\u001b[0m                               Traceback (most recent call last)",
      "Cell \u001b[1;32mIn[1], line 2\u001b[0m\n\u001b[0;32m      1\u001b[0m \u001b[38;5;28;01mimport\u001b[39;00m \u001b[38;5;21;01mheader\u001b[39;00m\n\u001b[1;32m----> 2\u001b[0m \u001b[38;5;28;01mfrom\u001b[39;00m \u001b[38;5;21;01msrc\u001b[39;00m\u001b[38;5;21;01m.\u001b[39;00m\u001b[38;5;21;01msuppliers\u001b[39;00m\u001b[38;5;21;01m.\u001b[39;00m\u001b[38;5;21;01maliexpress\u001b[39;00m \u001b[38;5;28;01mimport\u001b[39;00m AffiliateLinksShortener\n",
      "File \u001b[1;32m~\\Documents\\repos\\hypotez\\src\\suppliers\\aliexpress\\__init__.py:12\u001b[0m\n\u001b[0;32m     10\u001b[0m \u001b[38;5;28;01mfrom\u001b[39;00m \u001b[38;5;21;01m.\u001b[39;00m\u001b[38;5;21;01maliapi\u001b[39;00m \u001b[38;5;28;01mimport\u001b[39;00m AliApi\n\u001b[0;32m     11\u001b[0m \u001b[38;5;28;01mfrom\u001b[39;00m \u001b[38;5;21;01m.\u001b[39;00m\u001b[38;5;21;01malirequests\u001b[39;00m \u001b[38;5;28;01mimport\u001b[39;00m AliRequests\n\u001b[1;32m---> 12\u001b[0m \u001b[38;5;28;01mfrom\u001b[39;00m \u001b[38;5;21;01m.\u001b[39;00m\u001b[38;5;21;01mlink_shortener\u001b[39;00m \u001b[38;5;28;01mimport\u001b[39;00m AffiliateLinksShortener\n\u001b[0;32m     14\u001b[0m \u001b[38;5;66;03m#from .scenarios import DealsFromXLS\u001b[39;00m\n",
      "File \u001b[1;32m~\\Documents\\repos\\hypotez\\src\\suppliers\\aliexpress\\link_shortener.py:12\u001b[0m\n\u001b[0;32m     10\u001b[0m \u001b[38;5;28;01mfrom\u001b[39;00m \u001b[38;5;21;01msrc\u001b[39;00m\u001b[38;5;21;01m.\u001b[39;00m\u001b[38;5;21;01msettings\u001b[39;00m \u001b[38;5;28;01mimport\u001b[39;00m gs\n\u001b[0;32m     11\u001b[0m \u001b[38;5;28;01mfrom\u001b[39;00m \u001b[38;5;21;01msrc\u001b[39;00m\u001b[38;5;21;01m.\u001b[39;00m\u001b[38;5;21;01mwebdriver\u001b[39;00m \u001b[38;5;28;01mimport\u001b[39;00m Driver, Chrome, Firefox, Edge\n\u001b[1;32m---> 12\u001b[0m \u001b[38;5;28;01mfrom\u001b[39;00m \u001b[38;5;21;01m.\u001b[39;00m\u001b[38;5;21;01mscenarios\u001b[39;00m \u001b[38;5;28;01mimport\u001b[39;00m short_affiliate_link\n\u001b[0;32m     13\u001b[0m \u001b[38;5;66;03m#from src.suppliers.aliexpress.scenarios.link_shortener_scenario import short_affiliate_link\u001b[39;00m\n\u001b[0;32m     14\u001b[0m \u001b[38;5;28;01mfrom\u001b[39;00m \u001b[38;5;21;01msrc\u001b[39;00m\u001b[38;5;21;01m.\u001b[39;00m\u001b[38;5;21;01mutils\u001b[39;00m \u001b[38;5;28;01mimport\u001b[39;00m j_loads\n",
      "File \u001b[1;32m~\\Documents\\repos\\hypotez\\src\\suppliers\\aliexpress\\scenarios\\__init__.py:10\u001b[0m\n\u001b[0;32m      6\u001b[0m \u001b[38;5;28;01mfrom\u001b[39;00m \u001b[38;5;21;01m.\u001b[39;00m\u001b[38;5;21;01mversion\u001b[39;00m \u001b[38;5;28;01mimport\u001b[39;00m __version__, \u001b[38;5;18m__name__\u001b[39m, \u001b[38;5;18m__doc__\u001b[39m, __details__, \u001b[38;5;18m__annotations__\u001b[39m,  __author__ \n\u001b[0;32m      8\u001b[0m \u001b[38;5;66;03m#from .deals import DealsFromXLS\u001b[39;00m\n\u001b[1;32m---> 10\u001b[0m \u001b[38;5;28;01mfrom\u001b[39;00m \u001b[38;5;21;01m.\u001b[39;00m\u001b[38;5;21;01mpromote_deal\u001b[39;00m \u001b[38;5;28;01mimport\u001b[39;00m AliPromoDeal\n\u001b[0;32m     11\u001b[0m \u001b[38;5;28;01mfrom\u001b[39;00m \u001b[38;5;21;01m.\u001b[39;00m\u001b[38;5;21;01mlink_shortener_scenario\u001b[39;00m \u001b[38;5;28;01mimport\u001b[39;00m short_affiliate_link\n",
      "File \u001b[1;32m~\\Documents\\repos\\hypotez\\src\\suppliers\\aliexpress\\scenarios\\promote_deal.py:10\u001b[0m\n\u001b[0;32m      8\u001b[0m \u001b[38;5;28;01mfrom\u001b[39;00m \u001b[38;5;21;01msrc\u001b[39;00m\u001b[38;5;21;01m.\u001b[39;00m\u001b[38;5;21;01msettings\u001b[39;00m \u001b[38;5;28;01mimport\u001b[39;00m gs\n\u001b[0;32m      9\u001b[0m \u001b[38;5;28;01mfrom\u001b[39;00m \u001b[38;5;21;01msrc\u001b[39;00m\u001b[38;5;21;01m.\u001b[39;00m\u001b[38;5;21;01mutils\u001b[39;00m\u001b[38;5;21;01m.\u001b[39;00m\u001b[38;5;21;01mjjson\u001b[39;00m \u001b[38;5;28;01mimport\u001b[39;00m j_loads, j_loads_ns\n\u001b[1;32m---> 10\u001b[0m \u001b[38;5;28;01mfrom\u001b[39;00m \u001b[38;5;21;01msrc\u001b[39;00m\u001b[38;5;21;01m.\u001b[39;00m\u001b[38;5;21;01msuppliers\u001b[39;00m\u001b[38;5;21;01m.\u001b[39;00m\u001b[38;5;21;01maliexpress\u001b[39;00m\u001b[38;5;21;01m.\u001b[39;00m\u001b[38;5;21;01maffiliated_products_generator\u001b[39;00m \u001b[38;5;28;01mimport\u001b[39;00m AliAffiliatedProducts\n\u001b[0;32m     12\u001b[0m \u001b[38;5;28;01mclass\u001b[39;00m \u001b[38;5;21;01mAliPromoDeal\u001b[39;00m:\n\u001b[0;32m     13\u001b[0m \u001b[38;5;250m    \u001b[39m\u001b[38;5;124;03m\"\"\"! Рекламное сообщение с товарами и описаниями внутри \"\"\"\u001b[39;00m\n",
      "File \u001b[1;32m~\\Documents\\repos\\hypotez\\src\\suppliers\\aliexpress\\affiliated_products_generator.py:19\u001b[0m\n\u001b[0;32m     17\u001b[0m \u001b[38;5;28;01mfrom\u001b[39;00m \u001b[38;5;21;01msrc\u001b[39;00m\u001b[38;5;21;01m.\u001b[39;00m\u001b[38;5;21;01mutils\u001b[39;00m \u001b[38;5;28;01mimport\u001b[39;00m pprint\n\u001b[0;32m     18\u001b[0m \u001b[38;5;28;01mfrom\u001b[39;00m \u001b[38;5;21;01msrc\u001b[39;00m\u001b[38;5;21;01m.\u001b[39;00m\u001b[38;5;21;01mlogger\u001b[39;00m \u001b[38;5;28;01mimport\u001b[39;00m logger\n\u001b[1;32m---> 19\u001b[0m \u001b[38;5;28;01mfrom\u001b[39;00m \u001b[38;5;21;01m.\u001b[39;00m\u001b[38;5;21;01mlink_shortener\u001b[39;00m \u001b[38;5;28;01mimport\u001b[39;00m AffiliateLinksShortener\n\u001b[0;32m     21\u001b[0m \u001b[38;5;28;01mclass\u001b[39;00m \u001b[38;5;21;01mAliAffiliatedProducts\u001b[39;00m(AliexpressApi):\n\u001b[0;32m     22\u001b[0m \u001b[38;5;250m    \u001b[39m\u001b[38;5;124;03m\"\"\"! Class to collect full product data from URLs product_ids\u001b[39;00m\n\u001b[0;32m     23\u001b[0m \u001b[38;5;124;03m    locator_description For more details on how to create templates for ad campaigns, see the section `Managing Aliexpress Ad Campaigns`\u001b[39;00m\n\u001b[0;32m     24\u001b[0m \u001b[38;5;124;03m    @code\u001b[39;00m\n\u001b[1;32m   (...)\u001b[0m\n\u001b[0;32m     30\u001b[0m \u001b[38;5;124;03m    @endcode\u001b[39;00m\n\u001b[0;32m     31\u001b[0m \u001b[38;5;124;03m    \"\"\"\u001b[39;00m\n",
      "\u001b[1;31mImportError\u001b[0m: cannot import name 'AffiliateLinksShortener' from partially initialized module 'src.suppliers.aliexpress.link_shortener' (most likely due to a circular import) (C:\\Users\\user\\Documents\\repos\\hypotez\\src\\suppliers\\aliexpress\\link_shortener.py)"
     ]
    }
   ],
   "source": [
    "import header\n",
    "from src.suppliers.aliexpress import AffiliateLinksShortener"
   ]
  },
  {
   "cell_type": "code",
   "execution_count": null,
   "id": "4b93349b",
   "metadata": {},
   "outputs": [],
   "source": [
    "a = AffiliateLinksShortener('firefox')"
   ]
  },
  {
   "cell_type": "code",
   "execution_count": null,
   "id": "7d969535",
   "metadata": {},
   "outputs": [],
   "source": []
  }
 ],
 "metadata": {
  "kernelspec": {
   "display_name": "Python 3 (ipykernel)",
   "language": "python",
   "name": "python3"
  },
  "language_info": {
   "codemirror_mode": {
    "name": "ipython",
    "version": 3
   },
   "file_extension": ".py",
   "mimetype": "text/x-python",
   "name": "python",
   "nbconvert_exporter": "python",
   "pygments_lexer": "ipython3",
   "version": "3.11.9"
  }
 },
 "nbformat": 4,
 "nbformat_minor": 5
}
