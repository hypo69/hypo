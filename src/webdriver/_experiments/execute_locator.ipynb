{
 "cells": [
  {
   "cell_type": "code",
   "execution_count": 1,
   "id": "f4ee3a2a",
   "metadata": {},
   "outputs": [
    {
     "name": "stdout",
     "output_type": "stream",
     "text": [
      "Master password for KeePass database: ········\n"
     ]
    }
   ],
   "source": [
    "import header\n",
    "from pathlib import Path\n",
    "\n",
    "from header import gs\n",
    "from src.webdriver import Driver, Firefox, Chrome, Edge\n",
    "from src.utils import j_loads_ns\n",
    "from src.utils import pprint"
   ]
  },
  {
   "cell_type": "markdown",
   "id": "fc455629",
   "metadata": {},
   "source": [
    "### Firefox"
   ]
  },
  {
   "cell_type": "code",
   "execution_count": 6,
   "id": "0b8fe995",
   "metadata": {},
   "outputs": [
    {
     "name": "stderr",
     "output_type": "stream",
     "text": [
      "2024-06-25 20:19:48,130 - INFO - \u001b[32mStart Firefox \u001b[0m\n"
     ]
    }
   ],
   "source": [
    "d = Driver(Firefox)"
   ]
  },
  {
   "cell_type": "markdown",
   "id": "259de792",
   "metadata": {},
   "source": [
    "### Проверка через алиэкспресс `portals.aliexpress.com/affiportals/web/link_generator.htm`"
   ]
  },
  {
   "cell_type": "code",
   "execution_count": 12,
   "id": "c3ecdbe3",
   "metadata": {},
   "outputs": [],
   "source": [
    "#pprint(d)"
   ]
  },
  {
   "cell_type": "code",
   "execution_count": 14,
   "id": "7e7f2f20",
   "metadata": {},
   "outputs": [],
   "source": [
    "url = r'https://portals.aliexpress.com/affiportals/web/link_generator.htm'"
   ]
  },
  {
   "cell_type": "code",
   "execution_count": 16,
   "id": "0eea05e4",
   "metadata": {},
   "outputs": [
    {
     "name": "stderr",
     "output_type": "stream",
     "text": [
      "2024-06-25 20:21:53,197 - INFO - \u001b[34mcookies was saved to C:\\Users\\user\\Documents\\repos\\hypotez\\cookies\\portals.aliexpress.com\\firefox\\cookie \u001b[0m\n"
     ]
    },
    {
     "data": {
      "text/plain": [
       "True"
      ]
     },
     "execution_count": 16,
     "metadata": {},
     "output_type": "execute_result"
    }
   ],
   "source": [
    "d.get_url(url)"
   ]
  },
  {
   "cell_type": "code",
   "execution_count": 17,
   "id": "f22f1407",
   "metadata": {},
   "outputs": [],
   "source": [
    "locator = j_loads_ns(Path(gs.path.src,\n",
    "                          'suppliers','aliexpress','locators','link_shortener.json' ))"
   ]
  },
  {
   "cell_type": "code",
   "execution_count": 18,
   "id": "9326be8e",
   "metadata": {},
   "outputs": [
    {
     "name": "stderr",
     "output_type": "stream",
     "text": [
      "2024-06-25 20:22:03,144 - WARNING - \u001b[33mList of elements not found \n",
      "                           Locator None Message: unknown variant `xpath`, expected one of `css selector`, `link text`, `partial link text`, `tag name`, `xpath` at line 1 column 17\n",
      "\u001b[0m Exception: Message: unknown variant `xpath`, expected one of `css selector`, `link text`, `partial link text`, `tag name`, `xpath` at line 1 column 17\n",
      "   \n",
      "        File: C:\\Users\\user\\Documents\\repos\\hypotez\\src\\webdriver\\executor.py,\n",
      "        Function: get_webelement_by_locator,\n",
      "        Line: 321\n",
      "Traceback (most recent call last):\n",
      "  File \"C:\\Users\\user\\Documents\\repos\\hypotez\\src\\webdriver\\executor.py\", line 319, in get_webelement_by_locator\n",
      "    el = d.find_elements(locator['by'], locator['selector'])\n",
      "         ^^^^^^^^^^^^^^^^^^^^^^^^^^^^^^^^^^^^^^^^^^^^^^^^^^^\n",
      "  File \"C:\\Users\\user\\Documents\\repos\\hypotez\\venv\\Lib\\site-packages\\selenium\\webdriver\\remote\\webdriver.py\", line 771, in find_elements\n",
      "    return self.execute(Command.FIND_ELEMENTS, {\"using\": by, \"value\": value})[\"value\"] or []\n",
      "           ^^^^^^^^^^^^^^^^^^^^^^^^^^^^^^^^^^^^^^^^^^^^^^^^^^^^^^^^^^^^^^^^^^\n",
      "  File \"C:\\Users\\user\\Documents\\repos\\hypotez\\venv\\Lib\\site-packages\\selenium\\webdriver\\remote\\webdriver.py\", line 347, in execute\n",
      "    self.error_handler.check_response(response)\n",
      "  File \"C:\\Users\\user\\Documents\\repos\\hypotez\\venv\\Lib\\site-packages\\selenium\\webdriver\\remote\\errorhandler.py\", line 229, in check_response\n",
      "    raise exception_class(message, screen, stacktrace)\n",
      "selenium.common.exceptions.InvalidArgumentException: Message: unknown variant `xpath`, expected one of `css selector`, `link text`, `partial link text`, `tag name`, `xpath` at line 1 column 17\n",
      "\n",
      "2024-06-25 20:22:03,169 - WARNING - \u001b[33mOne element not found Message: unknown variant `xpath`, expected one of `css selector`, `link text`, `partial link text`, `tag name`, `xpath` at line 1 column 17\n",
      "\u001b[0m Exception: Message: unknown variant `xpath`, expected one of `css selector`, `link text`, `partial link text`, `tag name`, `xpath` at line 1 column 17\n",
      "   \n",
      "        File: C:\\Users\\user\\Documents\\repos\\hypotez\\src\\webdriver\\executor.py,\n",
      "        Function: get_webelement_by_locator,\n",
      "        Line: 327\n",
      "Traceback (most recent call last):\n",
      "  File \"C:\\Users\\user\\Documents\\repos\\hypotez\\src\\webdriver\\executor.py\", line 319, in get_webelement_by_locator\n",
      "    el = d.find_elements(locator['by'], locator['selector'])\n",
      "         ^^^^^^^^^^^^^^^^^^^^^^^^^^^^^^^^^^^^^^^^^^^^^^^^^^^\n",
      "  File \"C:\\Users\\user\\Documents\\repos\\hypotez\\venv\\Lib\\site-packages\\selenium\\webdriver\\remote\\webdriver.py\", line 771, in find_elements\n",
      "    return self.execute(Command.FIND_ELEMENTS, {\"using\": by, \"value\": value})[\"value\"] or []\n",
      "           ^^^^^^^^^^^^^^^^^^^^^^^^^^^^^^^^^^^^^^^^^^^^^^^^^^^^^^^^^^^^^^^^^^\n",
      "  File \"C:\\Users\\user\\Documents\\repos\\hypotez\\venv\\Lib\\site-packages\\selenium\\webdriver\\remote\\webdriver.py\", line 347, in execute\n",
      "    self.error_handler.check_response(response)\n",
      "  File \"C:\\Users\\user\\Documents\\repos\\hypotez\\venv\\Lib\\site-packages\\selenium\\webdriver\\remote\\errorhandler.py\", line 229, in check_response\n",
      "    raise exception_class(message, screen, stacktrace)\n",
      "selenium.common.exceptions.InvalidArgumentException: Message: unknown variant `xpath`, expected one of `css selector`, `link text`, `partial link text`, `tag name`, `xpath` at line 1 column 17\n",
      "\n",
      "\n",
      "During handling of the above exception, another exception occurred:\n",
      "\n",
      "Traceback (most recent call last):\n",
      "  File \"C:\\Users\\user\\Documents\\repos\\hypotez\\src\\webdriver\\executor.py\", line 325, in get_webelement_by_locator\n",
      "    el = [d.find_element(locator['by'], locator['selector'])]\n",
      "          ^^^^^^^^^^^^^^^^^^^^^^^^^^^^^^^^^^^^^^^^^^^^^^^^^^\n",
      "  File \"C:\\Users\\user\\Documents\\repos\\hypotez\\venv\\Lib\\site-packages\\selenium\\webdriver\\remote\\webdriver.py\", line 741, in find_element\n",
      "    return self.execute(Command.FIND_ELEMENT, {\"using\": by, \"value\": value})[\"value\"]\n",
      "           ^^^^^^^^^^^^^^^^^^^^^^^^^^^^^^^^^^^^^^^^^^^^^^^^^^^^^^^^^^^^^^^^^\n",
      "  File \"C:\\Users\\user\\Documents\\repos\\hypotez\\venv\\Lib\\site-packages\\selenium\\webdriver\\remote\\webdriver.py\", line 347, in execute\n",
      "    self.error_handler.check_response(response)\n",
      "  File \"C:\\Users\\user\\Documents\\repos\\hypotez\\venv\\Lib\\site-packages\\selenium\\webdriver\\remote\\errorhandler.py\", line 229, in check_response\n",
      "    raise exception_class(message, screen, stacktrace)\n",
      "selenium.common.exceptions.InvalidArgumentException: Message: unknown variant `xpath`, expected one of `css selector`, `link text`, `partial link text`, `tag name`, `xpath` at line 1 column 17\n",
      "\n",
      "2024-06-25 20:22:03,180 - WARNING - \u001b[33mList of elements with wait not found 'Driver' object has no attribute 'driverWait'\u001b[0m Exception: 'Driver' object has no attribute 'driverWait'   \n",
      "        File: C:\\Users\\user\\Documents\\repos\\hypotez\\src\\webdriver\\executor.py,\n",
      "        Function: get_webelement_by_locator,\n",
      "        Line: 332\n",
      "Traceback (most recent call last):\n",
      "  File \"C:\\Users\\user\\Documents\\repos\\hypotez\\src\\webdriver\\executor.py\", line 319, in get_webelement_by_locator\n",
      "    el = d.find_elements(locator['by'], locator['selector'])\n",
      "         ^^^^^^^^^^^^^^^^^^^^^^^^^^^^^^^^^^^^^^^^^^^^^^^^^^^\n",
      "  File \"C:\\Users\\user\\Documents\\repos\\hypotez\\venv\\Lib\\site-packages\\selenium\\webdriver\\remote\\webdriver.py\", line 771, in find_elements\n",
      "    return self.execute(Command.FIND_ELEMENTS, {\"using\": by, \"value\": value})[\"value\"] or []\n",
      "           ^^^^^^^^^^^^^^^^^^^^^^^^^^^^^^^^^^^^^^^^^^^^^^^^^^^^^^^^^^^^^^^^^^\n",
      "  File \"C:\\Users\\user\\Documents\\repos\\hypotez\\venv\\Lib\\site-packages\\selenium\\webdriver\\remote\\webdriver.py\", line 347, in execute\n",
      "    self.error_handler.check_response(response)\n",
      "  File \"C:\\Users\\user\\Documents\\repos\\hypotez\\venv\\Lib\\site-packages\\selenium\\webdriver\\remote\\errorhandler.py\", line 229, in check_response\n",
      "    raise exception_class(message, screen, stacktrace)\n",
      "selenium.common.exceptions.InvalidArgumentException: Message: unknown variant `xpath`, expected one of `css selector`, `link text`, `partial link text`, `tag name`, `xpath` at line 1 column 17\n",
      "\n",
      "\n",
      "During handling of the above exception, another exception occurred:\n",
      "\n",
      "Traceback (most recent call last):\n",
      "  File \"C:\\Users\\user\\Documents\\repos\\hypotez\\src\\webdriver\\executor.py\", line 325, in get_webelement_by_locator\n",
      "    el = [d.find_element(locator['by'], locator['selector'])]\n",
      "          ^^^^^^^^^^^^^^^^^^^^^^^^^^^^^^^^^^^^^^^^^^^^^^^^^^\n",
      "  File \"C:\\Users\\user\\Documents\\repos\\hypotez\\venv\\Lib\\site-packages\\selenium\\webdriver\\remote\\webdriver.py\", line 741, in find_element\n",
      "    return self.execute(Command.FIND_ELEMENT, {\"using\": by, \"value\": value})[\"value\"]\n",
      "           ^^^^^^^^^^^^^^^^^^^^^^^^^^^^^^^^^^^^^^^^^^^^^^^^^^^^^^^^^^^^^^^^^\n",
      "  File \"C:\\Users\\user\\Documents\\repos\\hypotez\\venv\\Lib\\site-packages\\selenium\\webdriver\\remote\\webdriver.py\", line 347, in execute\n",
      "    self.error_handler.check_response(response)\n",
      "  File \"C:\\Users\\user\\Documents\\repos\\hypotez\\venv\\Lib\\site-packages\\selenium\\webdriver\\remote\\errorhandler.py\", line 229, in check_response\n",
      "    raise exception_class(message, screen, stacktrace)\n",
      "selenium.common.exceptions.InvalidArgumentException: Message: unknown variant `xpath`, expected one of `css selector`, `link text`, `partial link text`, `tag name`, `xpath` at line 1 column 17\n",
      "\n",
      "\n",
      "During handling of the above exception, another exception occurred:\n",
      "\n",
      "Traceback (most recent call last):\n",
      "  File \"C:\\Users\\user\\Documents\\repos\\hypotez\\src\\webdriver\\executor.py\", line 330, in get_webelement_by_locator\n",
      "    el = d.driverWait(d, 1).until(EC.visibility_of_all_elements_located((locator['by'], locator['selector'])))\n",
      "         ^^^^^^^^^^^^\n",
      "AttributeError: 'Driver' object has no attribute 'driverWait'\n",
      "2024-06-25 20:22:03,197 - WARNING - \u001b[33mOne element with wait not found 'Driver' object has no attribute 'driverWait'\u001b[0m Exception: 'Driver' object has no attribute 'driverWait'   \n",
      "        File: C:\\Users\\user\\Documents\\repos\\hypotez\\src\\webdriver\\executor.py,\n",
      "        Function: get_webelement_by_locator,\n",
      "        Line: 337\n",
      "Traceback (most recent call last):\n",
      "  File \"C:\\Users\\user\\Documents\\repos\\hypotez\\src\\webdriver\\executor.py\", line 319, in get_webelement_by_locator\n",
      "    el = d.find_elements(locator['by'], locator['selector'])\n",
      "         ^^^^^^^^^^^^^^^^^^^^^^^^^^^^^^^^^^^^^^^^^^^^^^^^^^^\n",
      "  File \"C:\\Users\\user\\Documents\\repos\\hypotez\\venv\\Lib\\site-packages\\selenium\\webdriver\\remote\\webdriver.py\", line 771, in find_elements\n",
      "    return self.execute(Command.FIND_ELEMENTS, {\"using\": by, \"value\": value})[\"value\"] or []\n",
      "           ^^^^^^^^^^^^^^^^^^^^^^^^^^^^^^^^^^^^^^^^^^^^^^^^^^^^^^^^^^^^^^^^^^\n",
      "  File \"C:\\Users\\user\\Documents\\repos\\hypotez\\venv\\Lib\\site-packages\\selenium\\webdriver\\remote\\webdriver.py\", line 347, in execute\n",
      "    self.error_handler.check_response(response)\n",
      "  File \"C:\\Users\\user\\Documents\\repos\\hypotez\\venv\\Lib\\site-packages\\selenium\\webdriver\\remote\\errorhandler.py\", line 229, in check_response\n",
      "    raise exception_class(message, screen, stacktrace)\n",
      "selenium.common.exceptions.InvalidArgumentException: Message: unknown variant `xpath`, expected one of `css selector`, `link text`, `partial link text`, `tag name`, `xpath` at line 1 column 17\n",
      "\n",
      "\n",
      "During handling of the above exception, another exception occurred:\n",
      "\n",
      "Traceback (most recent call last):\n",
      "  File \"C:\\Users\\user\\Documents\\repos\\hypotez\\src\\webdriver\\executor.py\", line 325, in get_webelement_by_locator\n",
      "    el = [d.find_element(locator['by'], locator['selector'])]\n",
      "          ^^^^^^^^^^^^^^^^^^^^^^^^^^^^^^^^^^^^^^^^^^^^^^^^^^\n",
      "  File \"C:\\Users\\user\\Documents\\repos\\hypotez\\venv\\Lib\\site-packages\\selenium\\webdriver\\remote\\webdriver.py\", line 741, in find_element\n",
      "    return self.execute(Command.FIND_ELEMENT, {\"using\": by, \"value\": value})[\"value\"]\n",
      "           ^^^^^^^^^^^^^^^^^^^^^^^^^^^^^^^^^^^^^^^^^^^^^^^^^^^^^^^^^^^^^^^^^\n",
      "  File \"C:\\Users\\user\\Documents\\repos\\hypotez\\venv\\Lib\\site-packages\\selenium\\webdriver\\remote\\webdriver.py\", line 347, in execute\n",
      "    self.error_handler.check_response(response)\n",
      "  File \"C:\\Users\\user\\Documents\\repos\\hypotez\\venv\\Lib\\site-packages\\selenium\\webdriver\\remote\\errorhandler.py\", line 229, in check_response\n",
      "    raise exception_class(message, screen, stacktrace)\n",
      "selenium.common.exceptions.InvalidArgumentException: Message: unknown variant `xpath`, expected one of `css selector`, `link text`, `partial link text`, `tag name`, `xpath` at line 1 column 17\n",
      "\n",
      "\n",
      "During handling of the above exception, another exception occurred:\n",
      "\n",
      "Traceback (most recent call last):\n",
      "  File \"C:\\Users\\user\\Documents\\repos\\hypotez\\src\\webdriver\\executor.py\", line 330, in get_webelement_by_locator\n",
      "    el = d.driverWait(d, 1).until(EC.visibility_of_all_elements_located((locator['by'], locator['selector'])))\n",
      "         ^^^^^^^^^^^^\n",
      "AttributeError: 'Driver' object has no attribute 'driverWait'\n",
      "\n",
      "During handling of the above exception, another exception occurred:\n",
      "\n",
      "Traceback (most recent call last):\n",
      "  File \"C:\\Users\\user\\Documents\\repos\\hypotez\\src\\webdriver\\executor.py\", line 335, in get_webelement_by_locator\n",
      "    el = [d.driverWait(d, 1).until(EC.visibility_of_element_located((locator['by'], locator['selector'])))]\n",
      "          ^^^^^^^^^^^^\n",
      "AttributeError: 'Driver' object has no attribute 'driverWait'\n"
     ]
    },
    {
     "name": "stderr",
     "output_type": "stream",
     "text": [
      "2024-06-25 20:22:03,212 - WARNING - \u001b[36mLocator None \u001b[0m\n",
      "2024-06-25 20:22:03,232 - CRITICAL - \u001b[30m\u001b[43mError sending message. Locator None \u001b[0m Exception: move_to requires a WebElement   \n",
      "        File: C:\\Users\\user\\Documents\\repos\\hypotez\\src\\webdriver\\executor.py,\n",
      "        Function: send_message,\n",
      "        Line: 417\n",
      "Traceback (most recent call last):\n",
      "  File \"C:\\Users\\user\\Documents\\repos\\hypotez\\src\\webdriver\\executor.py\", line 391, in send_message\n",
      "    self.actions.move_to_element(el).click().perform()\n",
      "    ^^^^^^^^^^^^^^^^^^^^^^^^^^^^^^^^\n",
      "  File \"C:\\Users\\user\\Documents\\repos\\hypotez\\venv\\Lib\\site-packages\\selenium\\webdriver\\common\\action_chains.py\", line 253, in move_to_element\n",
      "    self.w3c_actions.pointer_action.move_to(to_element)\n",
      "  File \"C:\\Users\\user\\Documents\\repos\\hypotez\\venv\\Lib\\site-packages\\selenium\\webdriver\\common\\actions\\pointer_actions.py\", line 88, in move_to\n",
      "    raise AttributeError(\"move_to requires a WebElement\")\n",
      "AttributeError: move_to requires a WebElement\n"
     ]
    },
    {
     "name": "stdout",
     "output_type": "stream",
     "text": [
      "{\n",
      "    \"attribute\": false,\n",
      "    \"by\": \"xpath\",\n",
      "    \"selector\": \"//textarea[@id = 'targetUrl']\",\n",
      "    \"use_mouse\": false,\n",
      "    \"event\": \"%EXTERNAL_MESSAGE%\",\n",
      "    \"mandatory\": true,\n",
      "    \"locator_description\": \"Full link input box\"\n",
      "}\n",
      "{\n",
      "    \"attribute\": false,\n",
      "    \"by\": \"xpath\",\n",
      "    \"selector\": \"//textarea[@id = 'targetUrl']\",\n",
      "    \"use_mouse\": false,\n",
      "    \"event\": \"%EXTERNAL_MESSAGE%\",\n",
      "    \"mandatory\": true,\n",
      "    \"locator_description\": \"Full link input box\"\n",
      "}\n",
      "{\n",
      "    \"attribute\": false,\n",
      "    \"by\": \"xpath\",\n",
      "    \"selector\": \"//textarea[@id = 'targetUrl']\",\n",
      "    \"use_mouse\": false,\n",
      "    \"event\": \"%EXTERNAL_MESSAGE%\",\n",
      "    \"mandatory\": true,\n",
      "    \"locator_description\": \"Full link input box\"\n",
      "}\n"
     ]
    },
    {
     "data": {
      "text/plain": [
       "False"
      ]
     },
     "execution_count": 18,
     "metadata": {},
     "output_type": "execute_result"
    }
   ],
   "source": [
    "d.send_message(locator.textarea_target_url, 'https://aliexpress.com')"
   ]
  },
  {
   "cell_type": "code",
   "execution_count": null,
   "id": "8bf8a3cb",
   "metadata": {},
   "outputs": [],
   "source": []
  }
 ],
 "metadata": {
  "kernelspec": {
   "display_name": "Python 3 (ipykernel)",
   "language": "python",
   "name": "python3"
  },
  "language_info": {
   "codemirror_mode": {
    "name": "ipython",
    "version": 3
   },
   "file_extension": ".py",
   "mimetype": "text/x-python",
   "name": "python",
   "nbconvert_exporter": "python",
   "pygments_lexer": "ipython3",
   "version": "3.11.9"
  }
 },
 "nbformat": 4,
 "nbformat_minor": 5
}
