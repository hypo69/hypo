{
 "cells": [
  {
   "cell_type": "code",
   "execution_count": 1,
   "id": "00320978",
   "metadata": {},
   "outputs": [
    {
     "name": "stdout",
     "output_type": "stream",
     "text": [
      "Master password for KeePass database: ········\n"
     ]
    }
   ],
   "source": [
    "import header\n",
    "from src.suppliers.aliexpress import AliPromoDeal\n",
    "from src.utils import pprint"
   ]
  },
  {
   "cell_type": "code",
   "execution_count": 2,
   "id": "eb367d87",
   "metadata": {},
   "outputs": [],
   "source": [
    "deal = AliPromoDeal('150624_baseus_deals')"
   ]
  },
  {
   "cell_type": "code",
   "execution_count": 3,
   "id": "9ff5fb2a",
   "metadata": {
    "scrolled": true
   },
   "outputs": [
    {
     "name": "stderr",
     "output_type": "stream",
     "text": [
      "2024-06-26 06:09:47,527 - INFO - \u001b[32mStart Firefox \u001b[0m\n",
      "2024-06-26 06:10:35,934 - INFO - \u001b[34mcookies was saved to C:\\Users\\user\\Documents\\repos\\hypotez\\cookies\\portals.aliexpress.com\\firefox\\cookie \u001b[0m\n",
      "2024-06-26 06:10:38,326 - INFO - \u001b[34mImage saved locally to:C:\\Users\\user\\Documents\\repos\\hypotez\\data\\aliexpress\\event_promotion\\150624_baseus_deals\\images\\3256806549168768.png \u001b[0m\n",
      "2024-06-26 06:10:41,513 - INFO - \u001b[34mFile C:\\Users\\user\\Documents\\repos\\hypotez\\data\\aliexpress\\event_promotion\\150624_baseus_deals\\parsed_products\\3256806549168768.json was created succefully! \u001b[0m\n",
      "2024-06-26 06:10:42,266 - INFO - \u001b[34mImage saved locally to:C:\\Users\\user\\Documents\\repos\\hypotez\\data\\aliexpress\\event_promotion\\150624_baseus_deals\\images\\3256806664544538.png \u001b[0m\n",
      "2024-06-26 06:10:44,812 - INFO - \u001b[34mFile C:\\Users\\user\\Documents\\repos\\hypotez\\data\\aliexpress\\event_promotion\\150624_baseus_deals\\parsed_products\\3256806664544538.json was created succefully! \u001b[0m\n",
      "2024-06-26 06:10:45,576 - INFO - \u001b[34mImage saved locally to:C:\\Users\\user\\Documents\\repos\\hypotez\\data\\aliexpress\\event_promotion\\150624_baseus_deals\\images\\3256806618229209.png \u001b[0m\n",
      "2024-06-26 06:10:48,262 - INFO - \u001b[34mFile C:\\Users\\user\\Documents\\repos\\hypotez\\data\\aliexpress\\event_promotion\\150624_baseus_deals\\parsed_products\\3256806618229209.json was created succefully! \u001b[0m\n",
      "2024-06-26 06:10:48,952 - INFO - \u001b[34mImage saved locally to:C:\\Users\\user\\Documents\\repos\\hypotez\\data\\aliexpress\\event_promotion\\150624_baseus_deals\\images\\3256806512732190.png \u001b[0m\n",
      "2024-06-26 06:10:51,495 - INFO - \u001b[34mFile C:\\Users\\user\\Documents\\repos\\hypotez\\data\\aliexpress\\event_promotion\\150624_baseus_deals\\parsed_products\\3256806512732190.json was created succefully! \u001b[0m\n",
      "2024-06-26 06:10:52,260 - INFO - \u001b[34mImage saved locally to:C:\\Users\\user\\Documents\\repos\\hypotez\\data\\aliexpress\\event_promotion\\150624_baseus_deals\\images\\3256804489531583.png \u001b[0m\n",
      "2024-06-26 06:10:54,774 - INFO - \u001b[34mFile C:\\Users\\user\\Documents\\repos\\hypotez\\data\\aliexpress\\event_promotion\\150624_baseus_deals\\parsed_products\\3256804489531583.json was created succefully! \u001b[0m\n",
      "2024-06-26 06:10:55,479 - INFO - \u001b[34mImage saved locally to:C:\\Users\\user\\Documents\\repos\\hypotez\\data\\aliexpress\\event_promotion\\150624_baseus_deals\\images\\3256806540530714.png \u001b[0m\n",
      "2024-06-26 06:10:58,039 - INFO - \u001b[34mFile C:\\Users\\user\\Documents\\repos\\hypotez\\data\\aliexpress\\event_promotion\\150624_baseus_deals\\parsed_products\\3256806540530714.json was created succefully! \u001b[0m\n"
     ]
    }
   ],
   "source": [
    "products = deal.prepare_products_for_deal()"
   ]
  },
  {
   "cell_type": "code",
   "execution_count": null,
   "id": "90386eca",
   "metadata": {},
   "outputs": [],
   "source": [
    "pprint(product)"
   ]
  },
  {
   "cell_type": "code",
   "execution_count": null,
   "id": "4a31ab6a",
   "metadata": {},
   "outputs": [],
   "source": []
  }
 ],
 "metadata": {
  "kernelspec": {
   "display_name": "Python 3 (ipykernel)",
   "language": "python",
   "name": "python3"
  },
  "language_info": {
   "codemirror_mode": {
    "name": "ipython",
    "version": 3
   },
   "file_extension": ".py",
   "mimetype": "text/x-python",
   "name": "python",
   "nbconvert_exporter": "python",
   "pygments_lexer": "ipython3",
   "version": "3.11.9"
  }
 },
 "nbformat": 4,
 "nbformat_minor": 5
}
