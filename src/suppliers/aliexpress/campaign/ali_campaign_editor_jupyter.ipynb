{
 "cells": [
  {
   "cell_type": "markdown",
   "id": "29a83fa6-6759-4fe7-8cd0-51692079ce43",
   "metadata": {},
   "source": [
    "- #### module: src.suppliers.aliexpress.cmapaign "
   ]
  },
  {
   "cell_type": "markdown",
   "id": "ea522deb-a58d-4862-b331-8f2682c6215e",
   "metadata": {},
   "source": [
    "# Редактор рекламной кампании aliexpress"
   ]
  },
  {
   "cell_type": "markdown",
   "id": "387b9ebf-a4f6-4e9c-ae3d-34ae88a67d81",
   "metadata": {},
   "source": [
    "<font color=yellow>Виджеты редактора</font>"
   ]
  },
  {
   "cell_type": "code",
   "execution_count": 1,
   "id": "c0dc64dc-784e-4615-b4ea-0cef76640278",
   "metadata": {
    "jupyter": {
     "source_hidden": true
    }
   },
   "outputs": [
    {
     "name": "stdin",
     "output_type": "stream",
     "text": [
      "Enter KeePass master password:  ········\n"
     ]
    },
    {
     "data": {
      "application/vnd.jupyter.widget-view+json": {
       "model_id": "b2561d9e97da4206b88e3095a3e5c8cb",
       "version_major": 2,
       "version_minor": 0
      },
      "text/plain": [
       "Dropdown(description='Campaign Name:', options=('building_bricks', 'lighting'), value='building_bricks')"
      ]
     },
     "metadata": {},
     "output_type": "display_data"
    },
    {
     "data": {
      "application/vnd.jupyter.widget-view+json": {
       "model_id": "e5b24a2b0db845fe98dc99a67156fe93",
       "version_major": 2,
       "version_minor": 0
      },
      "text/plain": [
       "Dropdown(description='Category:', options=(), value=None)"
      ]
     },
     "metadata": {},
     "output_type": "display_data"
    },
    {
     "data": {
      "application/vnd.jupyter.widget-view+json": {
       "model_id": "168a88c6eaf54701843b91448e264687",
       "version_major": 2,
       "version_minor": 0
      },
      "text/plain": [
       "Dropdown(description='Language/Currency:', options=(('EN - USD', {'EN': 'USD'}), ('HE - ILS', {'HE': 'ILS'}), …"
      ]
     },
     "metadata": {},
     "output_type": "display_data"
    },
    {
     "data": {
      "application/vnd.jupyter.widget-view+json": {
       "model_id": "a653e534fd5d42638e52872863eec4e5",
       "version_major": 2,
       "version_minor": 0
      },
      "text/plain": [
       "Button(description='Initialize Campaign Editor', style=ButtonStyle())"
      ]
     },
     "metadata": {},
     "output_type": "display_data"
    },
    {
     "data": {
      "application/vnd.jupyter.widget-view+json": {
       "model_id": "9d5533a0ccd6440198b60870798e976e",
       "version_major": 2,
       "version_minor": 0
      },
      "text/plain": [
       "Button(description='Save campaign', style=ButtonStyle())"
      ]
     },
     "metadata": {},
     "output_type": "display_data"
    },
    {
     "data": {
      "application/vnd.jupyter.widget-view+json": {
       "model_id": "32cecb4b0afe4d48b007cc2b80919483",
       "version_major": 2,
       "version_minor": 0
      },
      "text/plain": [
       "Button(description='Show Products', style=ButtonStyle())"
      ]
     },
     "metadata": {},
     "output_type": "display_data"
    },
    {
     "data": {
      "application/vnd.jupyter.widget-view+json": {
       "model_id": "2634d846a61643fdba6631507bbe4ccd",
       "version_major": 2,
       "version_minor": 0
      },
      "text/plain": [
       "Button(description='Open Google Spreadsheet', style=ButtonStyle())"
      ]
     },
     "metadata": {},
     "output_type": "display_data"
    },
    {
     "name": "stderr",
     "output_type": "stream",
     "text": [
      "2024-08-13 06:49:41,926 - WARNING - \u001b[36mAvailable categories: ['building_bricks'] \u001b[0m\n"
     ]
    }
   ],
   "source": [
    "#%%writefile jupyter_ali_campaign_editor_widgets.py\n",
    "\n",
    "\"\"\"! Виджеты редактора рекламной кампании. Используется кроме али еще и на фб. \n",
    "После изменения раскоментируй \n",
    "%%writefile campaign_editor_jupyter.py\n",
    "\n",
    "@code\n",
    "import campaign_editor_jupyter as ce\n",
    "\n",
    "ce.CampaignEditor().display_widgets()\n",
    "@endcode\n",
    "\"\"\"\n",
    "\n",
    "## \\file ../src/suppliers/aliexpress/campaign/_experiments/campaign_editor_jupyter.py\n",
    "# -*- coding: utf-8 -*-\n",
    "\n",
    "\n",
    "import header  \n",
    "\n",
    "from pathlib import Path\n",
    "from ipywidgets import widgets\n",
    "from IPython.display import display\n",
    "import webbrowser\n",
    "\n",
    "from header import gs\n",
    "from src.suppliers.aliexpress.campaign import AliCampaignGoogleSheet\n",
    "from src.logger import logger\n",
    "\n",
    "class JupyterCampaignEditorWidgets:\n",
    "    def __init__(self):\n",
    "        self.campaign_editor = None\n",
    "        self.campaigns_directory = Path(gs.path.google_drive, 'aliexpress', 'campaigns')\n",
    "        if not self.campaigns_directory.exists():\n",
    "            raise FileNotFoundError(f\"Directory does not exist: {self.campaigns_directory}\")\n",
    "\n",
    "        self.languages = {'EN': 'USD', 'HE': 'ILS', 'RU': 'ILS'}\n",
    "        self.campaign_name_dropdown = widgets.Dropdown(\n",
    "            options=self.get_directory_names(self.campaigns_directory),\n",
    "            description='Campaign Name:'\n",
    "        )\n",
    "        self.category_name_dropdown = widgets.Dropdown(\n",
    "            options=[],\n",
    "            description='Category:'\n",
    "        )\n",
    "        self.language_dropdown = widgets.Dropdown(\n",
    "            options=[(f\"{lang} - {curr}\", {lang: curr}) for lang, curr in self.languages.items()],\n",
    "            description='Language/Currency:'\n",
    "        )\n",
    "\n",
    "        self.initialize_button = widgets.Button(\n",
    "            description='Initialize Campaign Editor',\n",
    "            disabled=False,\n",
    "        )\n",
    "        self.save_button = widgets.Button(\n",
    "            description='Save campaign',\n",
    "            disabled=False,\n",
    "        )\n",
    "        self.show_products_button = widgets.Button(\n",
    "            description='Show Products',\n",
    "            disabled=False,\n",
    "        )\n",
    "        self.open_spreadsheet_button = widgets.Button(\n",
    "            description='Open Google Spreadsheet',\n",
    "            disabled=False,\n",
    "        )\n",
    "\n",
    "        self.setup_callbacks()\n",
    "\n",
    "    def get_directory_names(self, path):\n",
    "        \"\"\"Returns a list of directory names in the given path.\"\"\"\n",
    "        return [d.name for d in path.iterdir() if d.is_dir()]\n",
    "\n",
    "    def update_category_dropdown(self, campaign_name):\n",
    "        \"\"\"Updates the category dropdown based on the selected campaign.\"\"\"\n",
    "        campaign_path = self.campaigns_directory / campaign_name / 'category'\n",
    "        if not campaign_path.exists():\n",
    "            logger.error(f\"Path does not exist: {campaign_path}\")\n",
    "            self.category_name_dropdown.options = []\n",
    "        else:\n",
    "            campaign_categories = self.get_directory_names(campaign_path)\n",
    "            self.category_name_dropdown.options = campaign_categories\n",
    "            logger.debug(f\"Available categories: {campaign_categories}\")\n",
    "\n",
    "    def on_campaign_name_change(self, change):\n",
    "        campaign_name = change['new']\n",
    "        logger.debug(f\"Selected campaign: {campaign_name}\")\n",
    "        self.update_category_dropdown(campaign_name)\n",
    "\n",
    "    def initialize_campaign_editor(self, _):\n",
    "        campaign_name = self.campaign_name_dropdown.value\n",
    "        category_name = self.category_name_dropdown.value or None\n",
    "        locale = self.language_dropdown.value\n",
    "\n",
    "        if campaign_name and locale:\n",
    "            self.campaign_editor = AliCampaignGoogleSheet(campaign_name=campaign_name, language=locale)\n",
    "            self.update_category_dropdown(campaign_name)\n",
    "        else:\n",
    "            print(\"Please select campaign name and language/currency before initializing the editor.\")\n",
    "\n",
    "    def save_campaign(self, _):\n",
    "        campaign_name = self.campaign_name_dropdown.value\n",
    "        category_name = self.category_name_dropdown.value\n",
    "        locale = self.language_dropdown.value\n",
    "        if campaign_name and locale:\n",
    "            self.campaign_editor = AliCampaignGoogleSheet(campaign_name=campaign_name, category_name=category_name if category_name else None, language=locale)\n",
    "            try:\n",
    "                self.campaign_editor.save_categories_from_worksheet()\n",
    "                logger.info(\"Campaign and categories saved successfully.\")\n",
    "            except Exception as ex:\n",
    "                logger.error(\"Error saving campaign.\", ex)\n",
    "        else:\n",
    "            print(\"Please select campaign name and language/currency before saving the campaign.\")\n",
    "\n",
    "    def show_products(self, _):\n",
    "        campaign_name = self.campaign_name_dropdown.value\n",
    "        category_name = self.category_name_dropdown.value\n",
    "        locale = self.language_dropdown.value\n",
    "\n",
    "        try:\n",
    "            self.campaign_editor = AliCampaignGoogleSheet(campaign_name=campaign_name, language=locale)\n",
    "            self.campaign_editor.set_products_worksheet(category_name)\n",
    "        except Exception as ex:\n",
    "            logger.error(\"Error displaying products.\", ex)\n",
    "\n",
    "    def open_spreadsheet(self, _):\n",
    "        \"\"\"Opens the Google Spreadsheet in a browser.\"\"\"\n",
    "        if self.campaign_editor:\n",
    "            spreadsheet_url = f\"https://docs.google.com/spreadsheets/d/{self.campaign_editor.spreadsheet_id}/edit\"\n",
    "            webbrowser.open(spreadsheet_url)\n",
    "        else:\n",
    "            print(\"Please initialize the campaign editor first.\")\n",
    "\n",
    "    def setup_callbacks(self):\n",
    "        self.campaign_name_dropdown.observe(self.on_campaign_name_change, names='value')\n",
    "        self.initialize_button.on_click(self.initialize_campaign_editor)\n",
    "        self.save_button.on_click(self.save_campaign)\n",
    "        self.show_products_button.on_click(self.show_products)\n",
    "        self.open_spreadsheet_button.on_click(self.open_spreadsheet)\n",
    "\n",
    "    def display_widgets(self):\n",
    "        display(self.campaign_name_dropdown, self.category_name_dropdown, self.language_dropdown,\n",
    "                self.initialize_button, self.save_button, self.show_products_button, self.open_spreadsheet_button)\n",
    "\n",
    "        if self.campaign_name_dropdown.value:\n",
    "            self.update_category_dropdown(self.campaign_name_dropdown.value)\n",
    "            \n",
    "ce = JupyterCampaignEditorWidgets()\n",
    "ce.display_widgets()\n"
   ]
  },
  {
   "cell_type": "code",
   "execution_count": null,
   "id": "da97bde9-25f7-4fa9-9dde-6518d7efdf4b",
   "metadata": {},
   "outputs": [],
   "source": []
  },
  {
   "cell_type": "code",
   "execution_count": null,
   "id": "52890452-9426-42f3-a2c4-f78000305e73",
   "metadata": {},
   "outputs": [],
   "source": []
  },
  {
   "cell_type": "code",
   "execution_count": null,
   "id": "fffdb545-4880-48ef-943b-26dcde84228a",
   "metadata": {},
   "outputs": [],
   "source": []
  }
 ],
 "metadata": {
  "kernelspec": {
   "display_name": "Python (hypotez)",
   "language": "python",
   "name": "venv"
  },
  "language_info": {
   "codemirror_mode": {
    "name": "ipython",
    "version": 3
   },
   "file_extension": ".py",
   "mimetype": "text/x-python",
   "name": "python",
   "nbconvert_exporter": "python",
   "pygments_lexer": "ipython3",
   "version": "3.12.5"
  }
 },
 "nbformat": 4,
 "nbformat_minor": 5
}
