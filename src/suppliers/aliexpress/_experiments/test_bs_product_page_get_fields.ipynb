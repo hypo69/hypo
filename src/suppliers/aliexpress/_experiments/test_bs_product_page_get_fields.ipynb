{
 "cells": [
  {
   "cell_type": "markdown",
   "id": "712db699-3cbe-495b-867b-efc4d13417fa",
   "metadata": {},
   "source": [
    "### <font color=red>алиехпресс загружает через javascript. суп не работает</font>\n",
    "### <font color=red>алиехпресс загружает через javascript. lxml не работает</font>"
   ]
  },
  {
   "cell_type": "code",
   "execution_count": 4,
   "id": "644e7d98-0ee5-4d91-94db-da246cf9070a",
   "metadata": {},
   "outputs": [],
   "source": [
    "from bs4 import BeautifulSoup\n",
    "import requests\n",
    "import header\n",
    "from header import start_supplier\n",
    "from header import pprint, jprint\n",
    "from header import Supplier, Product, ProductFields"
   ]
  },
  {
   "cell_type": "code",
   "execution_count": 5,
   "id": "fcf39b7f-217f-4ca8-bbee-c5f305697890",
   "metadata": {},
   "outputs": [
    {
     "name": "stdout",
     "output_type": "stream",
     "text": [
      "\u001b[1m\u001b[33m\u001b[32m->INFO 14:12:32 from start: 0:00:53.682980 \u001b[0m\u001b[1m\u001b[33m\n",
      "                    -----------------------------------\n",
      "                            aliexpress \n",
      "                    -----------------------------------\n",
      "\t\u001b[30msuppliers.supplier\u001b[0m\u001b[1m\u001b[33m:\u001b[36m__init__:135\u001b[0m\u001b[1m\u001b[33m\u001b[0m\u001b[1m\u001b[0m\n",
      "\u001b[1m\u001b[33m\u001b[32m->INFO 14:12:32 from start: 0:00:53.684974 \u001b[0m\u001b[1m\u001b[33maliexpress begin to attach driver ...\n",
      "                    Старт драйвера  ...\n",
      "\t\u001b[30msuppliers.supplier\u001b[0m\u001b[1m\u001b[33m:\u001b[36m_load:219\u001b[0m\u001b[1m\u001b[33m\u001b[0m\u001b[1m\u001b[0m\n",
      "\u001b[1m\u001b[33m\u001b[32m->INFO 14:12:32 from start: 0:00:53.685972 \u001b[0m\u001b[1m\u001b[33m \n",
      "        ----------------------\n",
      "        Старт вебдрайвера firefox. \n",
      "        Будет выбран драйвер, подключатся настройки и профиль.\n",
      "        На моем компьютере это занимает около полуминуты\n",
      "        Ждем...\n",
      "        ----------------------\n",
      "        \n",
      "\t\u001b[30mwebdriver.Driver\u001b[0m\u001b[1m\u001b[33m:\u001b[36m__init__:236\u001b[0m\u001b[1m\u001b[33m\u001b[0m\u001b[1m\u001b[0m\n",
      "\u001b[1m\u001b[33m\u001b[32m->INFO 14:12:32 from start: 0:00:53.686972 \u001b[0m\u001b[1m\u001b[33m Firefox ... \n",
      "\t\u001b[30mwebdriver.Firefox\u001b[0m\u001b[1m\u001b[33m:\u001b[36m__init__:81\u001b[0m\u001b[1m\u001b[33m\u001b[0m\u001b[1m\u001b[0m\n",
      "\u001b[1m\u001b[33m\u001b[32m->INFO 14:12:44 from start: 0:01:05.701977 \u001b[0m\u001b[1m\u001b[33m ... стартовал \n",
      "\t\u001b[30mwebdriver.Firefox\u001b[0m\u001b[1m\u001b[33m:\u001b[36m__init__:183\u001b[0m\u001b[1m\u001b[33m\u001b[0m\u001b[1m\u001b[0m\n",
      "\u001b[1m\u001b[33m\u001b[32m->INFO 14:12:44 from start: 0:01:05.701977 \u001b[0m\u001b[1m\u001b[33m ... драйвер подключился за 12 seconds \n",
      "\t\u001b[30msuppliers.supplier\u001b[0m\u001b[1m\u001b[33m:\u001b[36m_load:228\u001b[0m\u001b[1m\u001b[33m\u001b[0m\u001b[1m\u001b[0m\n"
     ]
    }
   ],
   "source": [
    "supplier = start_supplier('aliexpress','en')\n",
    "s = supplier\n",
    "p = Product(supplier = s)\n",
    "_l : dict = s.locators['product']\n",
    "_d = s.driver\n",
    "_f = p.product_fields\n",
    "_test_url = 'https://www.aliexpress.com/item/32995535623.html'"
   ]
  },
  {
   "cell_type": "code",
   "execution_count": 6,
   "id": "b532f8c2-b6af-48d1-931c-7539e4d470c9",
   "metadata": {},
   "outputs": [],
   "source": [
    "response = requests.get(_test_url)"
   ]
  },
  {
   "cell_type": "code",
   "execution_count": 10,
   "id": "b2401e3a-043d-44c4-b862-02fcaf268ff9",
   "metadata": {},
   "outputs": [],
   "source": [
    "if response.status_code == 200:\n",
    "    # Получаем HTML-код страницы\n",
    "    html_content = response.text\n",
    "\n",
    "    # Создаем объект BeautifulSoup\n",
    "    soup = BeautifulSoup(html_content, 'html.parser')\n",
    "\n",
    "    # Теперь можно использовать soup для парсинга и извлечения данных\n",
    "    # Например, выведем заголовок страницы\n",
    "    #print(soup.title.text)\n",
    "else:\n",
    "    print(f\"Ошибка при загрузке страницы. Код ответа: {response.status_code}\")"
   ]
  },
  {
   "cell_type": "code",
   "execution_count": 11,
   "id": "725642cf-0448-4309-833d-ea58d59b3823",
   "metadata": {},
   "outputs": [],
   "source": [
    "#print(soup.prettify())\n",
    "with open(f\"{_f.id_product}.html\", 'w', encoding='utf-8') as file:\n",
    "    file.write(soup.prettify())"
   ]
  },
  {
   "cell_type": "code",
   "execution_count": null,
   "id": "c4213cbf-2ba1-4663-86f0-36fa35bd27c8",
   "metadata": {},
   "outputs": [],
   "source": []
  }
 ],
 "metadata": {
  "kernelspec": {
   "display_name": "Python 3 (ipykernel)",
   "language": "python",
   "name": "python3"
  },
  "language_info": {
   "codemirror_mode": {
    "name": "ipython",
    "version": 3
   },
   "file_extension": ".py",
   "mimetype": "text/x-python",
   "name": "python",
   "nbconvert_exporter": "python",
   "pygments_lexer": "ipython3",
   "version": "3.11.6"
  }
 },
 "nbformat": 4,
 "nbformat_minor": 5
}
