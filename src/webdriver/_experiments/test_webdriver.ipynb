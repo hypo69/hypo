{
 "cells": [
  {
   "cell_type": "code",
   "execution_count": null,
   "id": "bc87f9fe-0520-430c-a6bc-f161f577726d",
   "metadata": {
    "tags": []
   },
   "outputs": [
    {
     "name": "stderr",
     "output_type": "stream",
     "text": [
      "C:\\Users\\user\\Documents\\repos\\hypotez\\src\\webdriver\\driver.py:1: SyntaxWarning: invalid escape sequence '\\e'\n",
      "  \"\"\"! `WebDriver`\n",
      "C:\\Users\\user\\Documents\\repos\\hypotez\\src\\utils\\convertor\\xml2dict.py:71: SyntaxWarning: invalid escape sequence '\\{'\n",
      "  result = re.compile(\"\\{(.*)\\}(.*)\").search(tag)\n"
     ]
    }
   ],
   "source": [
    "import header\n",
    "from src.webdriver.driver import Driver, Firefox, Chrome, Edge\n",
    "from src.utils.printer import pprint"
   ]
  },
  {
   "cell_type": "code",
   "execution_count": 2,
   "id": "9ccf8300",
   "metadata": {},
   "outputs": [
    {
     "name": "stderr",
     "output_type": "stream",
     "text": [
      "2024-06-25 19:55:45,685 - INFO - \u001b[32mStart Firefox \u001b[0m\n"
     ]
    }
   ],
   "source": [
    "d = Driver(Firefox)"
   ]
  },
  {
   "cell_type": "code",
   "execution_count": null,
   "id": "ef2a3c44",
   "metadata": {},
   "outputs": [],
   "source": [
    "#pprint(d)"
   ]
  },
  {
   "cell_type": "code",
   "execution_count": null,
   "id": "0aaaeb8a-6496-4aae-a367-95e7f996712a",
   "metadata": {},
   "outputs": [],
   "source": [
    "d.get_url('https://portals.aliexpress.com/affiportals/web/home.htm')"
   ]
  },
  {
   "cell_type": "code",
   "execution_count": null,
   "id": "908297b2",
   "metadata": {},
   "outputs": [],
   "source": [
    "url = 'https://portals.aliexpress.com/affiportals/web/link_generator.htm?trackId=default&targetUrl=https://aliexpress.com'"
   ]
  },
  {
   "cell_type": "code",
   "execution_count": null,
   "id": "a5f7aa21",
   "metadata": {},
   "outputs": [],
   "source": [
    "d.get_url(url)"
   ]
  },
  {
   "cell_type": "code",
   "execution_count": null,
   "id": "2a0c101f",
   "metadata": {},
   "outputs": [],
   "source": []
  },
  {
   "cell_type": "code",
   "execution_count": null,
   "id": "fa4ff2bc",
   "metadata": {},
   "outputs": [],
   "source": []
  }
 ],
 "metadata": {
  "kernelspec": {
   "display_name": "Python 3 (ipykernel)",
   "language": "python",
   "name": "python3"
  },
  "language_info": {
   "codemirror_mode": {
    "name": "ipython",
    "version": 3
   },
   "file_extension": ".py",
   "mimetype": "text/x-python",
   "name": "python",
   "nbconvert_exporter": "python",
   "pygments_lexer": "ipython3",
   "version": "3.12.4"
  }
 },
 "nbformat": 4,
 "nbformat_minor": 5
}
