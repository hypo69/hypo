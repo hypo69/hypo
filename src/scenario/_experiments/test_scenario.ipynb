{
 "cells": [
  {
   "cell_type": "code",
   "execution_count": 10,
   "id": "49e42b89-487f-407a-90a4-ce43033dee5e",
   "metadata": {
    "tags": []
   },
   "outputs": [],
   "source": [
    "import header"
   ]
  },
  {
   "cell_type": "code",
   "execution_count": null,
   "id": "80b22ef5-5828-4b32-9e2d-e39a1f6862e3",
   "metadata": {
    "tags": []
   },
   "outputs": [],
   "source": [
    "#supplier_prefix = 'aliexpress'\n",
    "supplier_prefix = 'amazon'\n",
    "#supplier_prefix = 'kualastyle'\n",
    "#supplier_prefix = 'ebay'\n",
    "\n",
    "s = header.start_supplier(supplier_prefix)\n",
    "\"\"\" s - на протяжении всего кода означает класс `Supplier` \"\"\"\n",
    "\n",
    "print(\" Можно продолжать \")"
   ]
  },
  {
   "cell_type": "code",
   "execution_count": null,
   "id": "31409139-baf2-45d0-9658-a4301c692659",
   "metadata": {},
   "outputs": [],
   "source": [
    "scenario = Scenario(s)"
   ]
  },
  {
   "cell_type": "code",
   "execution_count": null,
   "id": "55b6df49-c94b-4b6d-8c86-fae3d02d348e",
   "metadata": {},
   "outputs": [],
   "source": [
    "scenario.run_scenarios()"
   ]
  }
 ],
 "metadata": {
  "kernelspec": {
   "display_name": "Python 3 (ipykernel)",
   "language": "python",
   "name": "python3"
  },
  "language_info": {
   "codemirror_mode": {
    "name": "ipython",
    "version": 3
   },
   "file_extension": ".py",
   "mimetype": "text/x-python",
   "name": "python",
   "nbconvert_exporter": "python",
   "pygments_lexer": "ipython3",
   "version": "3.11.3"
  }
 },
 "nbformat": 4,
 "nbformat_minor": 5
}
