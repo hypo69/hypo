{
 "cells": [
  {
   "cell_type": "code",
   "execution_count": 2,
   "id": "85009ee6-aaee-418b-afc2-1dd3d306b068",
   "metadata": {
    "jupyter": {
     "source_hidden": true
    }
   },
   "outputs": [],
   "source": [
    "import sys,os\n",
    "from pathlib import Path\n",
    "__root__ : Path = os.getcwd() [:os.getcwd().rfind(r'hypotez')+7]\n",
    "sys.path.append (__root__)   "
   ]
  },
  {
   "cell_type": "code",
   "execution_count": 3,
   "id": "69e52b83-39ea-4e65-8855-eced3f8c6052",
   "metadata": {
    "jupyter": {
     "source_hidden": true
    }
   },
   "outputs": [],
   "source": [
    "import asyncio\n",
    "from crawlee.playwright_crawler import PlaywrightCrawler, PlaywrightCrawlingContext"
   ]
  },
  {
   "cell_type": "code",
   "execution_count": null,
   "id": "a63f21bc-bfb6-412b-96a5-94a89b2226b6",
   "metadata": {},
   "outputs": [],
   "source": []
  }
 ],
 "metadata": {
  "kernelspec": {
   "display_name": "Python 3 (ipykernel)",
   "language": "python",
   "name": "python3"
  },
  "language_info": {
   "codemirror_mode": {
    "name": "ipython",
    "version": 3
   },
   "file_extension": ".py",
   "mimetype": "text/x-python",
   "name": "python",
   "nbconvert_exporter": "python",
   "pygments_lexer": "ipython3",
   "version": "3.12.4"
  }
 },
 "nbformat": 4,
 "nbformat_minor": 5
}
