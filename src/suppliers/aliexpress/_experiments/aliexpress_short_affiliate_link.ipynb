{
 "cells": [
  {
   "cell_type": "code",
   "execution_count": 2,
   "id": "d001507f",
   "metadata": {},
   "outputs": [],
   "source": [
    "import header\n",
    "from src.utils import pprint\n",
    "from src.suppliers.aliexpress import AliApi\n",
    "...\n",
    "url = 'https://aliexpress.com'"
   ]
  },
  {
   "cell_type": "code",
   "execution_count": 3,
   "id": "4b93349b",
   "metadata": {},
   "outputs": [],
   "source": [
    "a = AliApi()"
   ]
  },
  {
   "cell_type": "code",
   "execution_count": 4,
   "id": "7d969535",
   "metadata": {},
   "outputs": [
    {
     "name": "stdout",
     "output_type": "stream",
     "text": [
      "<class 'src.suppliers.aliexpress.api.api.AliexpressApi'>\n",
      "Class: type\n",
      "['object']\n",
      "Bases: None\n",
      "Methods:\n",
      "get_affiliate_links()\n",
      "get_categories()\n",
      "get_child_categories()\n",
      "get_hotproducts()\n",
      "get_parent_categories()\n",
      "retrieve_product_details()\n",
      "Properties:\n"
     ]
    }
   ],
   "source": [
    "from src.suppliers.aliexpress.api.api import AliexpressApi\n",
    "pprint(AliexpressApi)"
   ]
  },
  {
   "cell_type": "code",
   "execution_count": 5,
   "id": "ba9d0141",
   "metadata": {},
   "outputs": [
    {
     "name": "stdout",
     "output_type": "stream",
     "text": [
      "<src.suppliers.aliexpress.aliapi.AliApi object at 0x00000145EE8FA5A0>\n",
      "Class: AliApi\n",
      "['AliexpressApi']\n",
      "Bases: None\n",
      "Methods:\n",
      "get_affiliate_links()\n",
      "get_categories()\n",
      "get_child_categories()\n",
      "get_hotproducts()\n",
      "get_parent_categories()\n",
      "retrieve_product_categories()\n",
      "retrieve_product_details()\n",
      "retrieve_product_details_as_dict()\n",
      "Properties:\n",
      "_app_signature = None\n",
      "_currency = usd\n",
      "_key = 500950\n",
      "_language = en\n",
      "_secret = XVARez7wHym5nWfqY4rl7ZSfyPL1X0D6\n",
      "_tracking_id = default\n",
      "categories = None\n",
      "manager_campaigns = None\n",
      "manager_categories = None\n"
     ]
    }
   ],
   "source": [
    "pprint(a)"
   ]
  },
  {
   "cell_type": "code",
   "execution_count": null,
   "id": "e38cc61d",
   "metadata": {},
   "outputs": [],
   "source": [
    "d = a.driver"
   ]
  },
  {
   "cell_type": "code",
   "execution_count": null,
   "id": "1be7cbe3",
   "metadata": {},
   "outputs": [],
   "source": []
  }
 ],
 "metadata": {
  "kernelspec": {
   "display_name": "Python 3 (ipykernel)",
   "language": "python",
   "name": "python3"
  },
  "language_info": {
   "codemirror_mode": {
    "name": "ipython",
    "version": 3
   },
   "file_extension": ".py",
   "mimetype": "text/x-python",
   "name": "python",
   "nbconvert_exporter": "python",
   "pygments_lexer": "ipython3",
   "version": "3.12.4"
  }
 },
 "nbformat": 4,
 "nbformat_minor": 5
}
