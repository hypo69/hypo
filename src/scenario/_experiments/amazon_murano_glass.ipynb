{
 "cells": [
  {
   "cell_type": "code",
   "execution_count": null,
   "id": "32302075-b144-4372-9581-8637feb075d1",
   "metadata": {},
   "outputs": [],
   "source": [
    "import header\n",
    "from header import start_supplier\n",
    "s = start_supplier('amazon')\n",
    "\"\"\" s - на протяжении всего кода означает класс `Supplier` \"\"\""
   ]
  },
  {
   "cell_type": "code",
   "execution_count": null,
   "id": "b0cfc4c0-ba04-4c52-afd7-8e9248f800f5",
   "metadata": {},
   "outputs": [],
   "source": [
    "from dict_scenarios import scenario\n",
    "s.run_scenario(scenario['Murano Glass'])"
   ]
  },
  {
   "cell_type": "code",
   "execution_count": null,
   "id": "ce99fb85-5aa9-4641-ae57-169699b11ea3",
   "metadata": {},
   "outputs": [],
   "source": [
    "# перечитываю глобальные установки. \n",
    "# обычно удобно после измения json\n",
    "#gs._settings()"
   ]
  },
  {
   "cell_type": "code",
   "execution_count": null,
   "id": "d93711c3-3016-42e3-bd11-0da6434b1783",
   "metadata": {},
   "outputs": [],
   "source": [
    "k = list(s.current_scenario['presta_categories']['default_category'].keys())[0]"
   ]
  },
  {
   "cell_type": "code",
   "execution_count": null,
   "id": "e13dbcda-c422-49f1-b749-ac4a40eeb95d",
   "metadata": {},
   "outputs": [],
   "source": [
    "print(k)"
   ]
  },
  {
   "cell_type": "code",
   "execution_count": null,
   "id": "ee778544-8d5b-401e-92da-a42ea4fa6f16",
   "metadata": {},
   "outputs": [],
   "source": []
  }
 ],
 "metadata": {
  "kernelspec": {
   "display_name": "Python 3 (ipykernel)",
   "language": "python",
   "name": "python3"
  },
  "language_info": {
   "codemirror_mode": {
    "name": "ipython",
    "version": 3
   },
   "file_extension": ".py",
   "mimetype": "text/x-python",
   "name": "python",
   "nbconvert_exporter": "python",
   "pygments_lexer": "ipython3",
   "version": "3.11.3"
  }
 },
 "nbformat": 4,
 "nbformat_minor": 5
}
