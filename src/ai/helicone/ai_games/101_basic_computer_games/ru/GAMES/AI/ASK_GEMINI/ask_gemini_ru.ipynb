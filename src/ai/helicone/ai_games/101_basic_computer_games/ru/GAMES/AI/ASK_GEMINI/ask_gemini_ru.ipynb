{
  "nbformat": 4,
  "nbformat_minor": 0,
  "metadata": {
    "colab": {
      "provenance": [],
      "authorship_tag": "ABX9TyM9CcKb7fFIrvaPp0lkGrqb",
      "include_colab_link": true
    },
    "kernelspec": {
      "name": "python3",
      "display_name": "Python 3"
    },
    "language_info": {
      "name": "python"
    }
  },
  "cells": [
    {
      "cell_type": "markdown",
      "metadata": {
        "id": "view-in-github",
        "colab_type": "text"
      },
      "source": [
        "<a href=\"https://colab.research.google.com/github/hypo69/101_python_computer_games_ru/blob/master/GAMES/AI/ASK_GEMINI/ask_gemini_ru.ipynb\" target=\"_parent\"><img src=\"https://colab.research.google.com/assets/colab-badge.svg\" alt=\"Open In Colab\"/></a>"
      ]
    },
    {
      "cell_type": "code",
      "execution_count": null,
      "metadata": {
        "id": "T5o-e9oO8De7"
      },
      "outputs": [],
      "source": [
        "\n",
        "\n",
        "\n",
        "import google.generativeai as genai\n",
        "\n",
        "class GoogleGenerativeAI:\n",
        "    \"\"\"\n",
        "    Класс для взаимодействия с моделями Google Generative AI.\n",
        "    \"\"\"\n",
        "\n",
        "    MODELS = [\n",
        "        \"gemini-1.5-flash-8b\",\n",
        "        \"gemini-2-13b\",\n",
        "        \"gemini-3-20b\"\n",
        "    ]\n",
        "\n",
        "    def __init__(self, api_key: str, model_name: str = \"gemini-2.0-flash-exp\"):\n",
        "        \"\"\"\n",
        "        Инициализация модели GoogleGenerativeAI.\n",
        "\n",
        "        Аргументы:\n",
        "            api_key (str): Ключ API для доступа к генеративной модели.\n",
        "            model_name (str, optional): Название модели для использования. По умолчанию \"gemini-1.5-flash-8b\".\n",
        "        \"\"\"\n",
        "        self.api_key = api_key\n",
        "        self.model_name = model_name\n",
        "        genai.configure(api_key=self.api_key)\n",
        "        self.model = genai.GenerativeModel(model_name=self.model_name)\n",
        "\n",
        "    def ask(self, q: str) -> str:\n",
        "        \"\"\"\n",
        "        Отправляет текстовый запрос модели и возвращает ответ.\n",
        "\n",
        "        Аргументы:\n",
        "            q (str): Вопрос, который будет отправлен модели.\n",
        "\n",
        "        Возвращает:\n",
        "            str: Ответ от модели.\n",
        "        \"\"\"\n",
        "        try:\n",
        "            response = self.model.generate_content(q)\n",
        "            return response.text\n",
        "        except Exception as ex:\n",
        "            return f\"Error: {str(ex)}\"\n",
        "\n",
        "################################################################################\n",
        "#                                                                              #\n",
        "#             INSERT YOUR GEMINI API KEY                                       #\n",
        "#                                                                              #\n",
        "################################################################################\n",
        "\n",
        "API_KEY:str = input(\"API ключ от `gemini`\")\n",
        "model = GoogleGenerativeAI(api_key = API_KEY)\n",
        "while True:\n",
        "  q = input(\"Вопрос: \")\n",
        "  response = model.ask(q)\n",
        "  print(response)"
      ]
    },
    {
      "cell_type": "code",
      "source": [],
      "metadata": {
        "id": "HUoQy2UX8IcF"
      },
      "execution_count": null,
      "outputs": []
    }
  ]
}