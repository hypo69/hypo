{
 "cells": [
  {
   "cell_type": "markdown",
   "metadata": {
    "colab_type": "text",
    "id": "view-in-github"
   },
   "source": [
    "<a href=\"https://colab.research.google.com/github/hypo69/101_python_computer_games_ru/blob/master/GAMES/AI/ANAGRAM/anagram_ai_ru.ipynb\" target=\"_parent\"><img src=\"https://colab.research.google.com/assets/colab-badge.svg\" alt=\"Open In Colab\"/></a>"
   ]
  },
  {
   "cell_type": "code",
   "execution_count": null,
   "metadata": {
    "id": "ALqpvbvs9msV"
   },
   "outputs": [
    {
     "name": "stdout",
     "output_type": "stream",
     "text": [
      "Введены абв\n",
      "ваб\n",
      "\n",
      "Введены здравствуй\n",
      "вздуть\n",
      "\n",
      "Введены привет\n",
      "ветер\n",
      "\n"
     ]
    }
   ],
   "source": [
    "import google.generativeai as genai  # Импортируем библиотеку для работы с Gemini\n",
    "import re  # Импортируем библиотеку для работы с регулярными выражениями\n",
    "\n",
    "class GoogleGenerativeAI:\n",
    "    \"\"\"\n",
    "    Класс для взаимодействия с моделями Google Generative AI.\n",
    "    \"\"\"\n",
    "\n",
    "    MODELS = [\n",
    "        \"gemini-1.5-flash-8b\",\n",
    "        \"gemini-2-13b\",\n",
    "        \"gemini-3-20b\"\n",
    "    ]\n",
    "\n",
    "    def __init__(self, api_key: str, system_instruction: str = \"\", model_name: str = \"gemini-2.0-flash-exp\"):\n",
    "        \"\"\"\n",
    "        Инициализация модели GoogleGenerativeAI.\n",
    "\n",
    "        Args:\n",
    "            api_key: Ключ API для доступа к Gemini.\n",
    "            system_instruction: Инструкция для модели (системный промпт).\n",
    "            model_name: Название используемой модели Gemini.\n",
    "        \"\"\"\n",
    "        self.api_key = api_key\n",
    "        self.model_name = model_name\n",
    "        genai.configure(api_key=self.api_key)  # Конфигурируем библиотеку с API ключом\n",
    "        self.model = genai.GenerativeModel(model_name=self.model_name, system_instruction=system_instruction) # Инициализируем модель с инструкцией\n",
    "\n",
    "    def ask(self, q: str) -> str:\n",
    "        \"\"\"\n",
    "        Отправляет запрос модели и возвращает ответ.\n",
    "\n",
    "        Args:\n",
    "            q: Текст запроса.\n",
    "\n",
    "        Returns:\n",
    "            Ответ модели или сообщение об ошибке.\n",
    "        \"\"\"\n",
    "        try:\n",
    "            response = self.model.generate_content(q)  # Отправляем запрос модели\n",
    "            return response.text  # Возвращаем текстовый ответ\n",
    "        except Exception as ex:\n",
    "            return f\"Error: {str(ex)}\"  # Обрабатываем и возвращаем ошибку\n",
    "\n",
    "# Инструкция для Gemini (системный промпт)\n",
    "system_instruction = \"\"\"\n",
    "Ты — генератор анаграмм. Твоя задача — по заданному набору букв найти существующее слово русского языка, составленное из этих букв (используя все или часть из них).\n",
    "\n",
    "Правила:\n",
    "\n",
    "1. Игнорируй любые символы, кроме русских букв. Цифры и другие символы не учитываются.\n",
    "2. Если из заданных букв можно составить несколько слов, верни одно из них.\n",
    "3. Если из заданных букв невозможно составить ни одного слова русского языка, верни ответ \"Нет анаграмм\".\n",
    "4. Не генерируй неологизмы или выдуманные слова. Используй только существующие слова русского языка.\n",
    "5. Не объясняй процесс, просто возвращай слово или \"Нет анаграмм\".\n",
    "\"\"\"\n",
    "\n",
    "\n",
    "\n",
    "if __name__ == \"__main__\":\n",
    "    API_KEY: str = input(\"API ключ от `gemini`: \")  # Запрашиваем API ключ у пользователя\n",
    "    model = GoogleGenerativeAI(api_key=API_KEY, system_instruction=system_instruction) # Создаем экземпляр класса, передавая API ключ и инструкцию\n",
    "    while True:  # Бесконечный цикл для ввода запросов\n",
    "        q = input(\"Введите буквы, по которым Gemini подберет анаграмму (для выхода нажмите Ctrl+C): \")\n",
    "        # Очистка ввода от не кириллических символов\n",
    "        q = re.sub(r\"[^а-яА-ЯёЁ]\", \"\", q) # Удаляем все символы, кроме русских букв\n",
    "        if not q: # Проверяем, осталась ли строка пустой после очистки\n",
    "            print(\"Введены некорректные символы. Введите русские буквы.\")\n",
    "            continue # Переходим к следующей итерации цикла\n",
    "        print(f\"Введены {q}\")\n",
    "        response = model.ask(q) # Отправляем запрос модели\n",
    "        print(response) # Выводим ответ модели"
   ]
  },
  {
   "cell_type": "code",
   "execution_count": null,
   "metadata": {
    "id": "2M_wZXl59xmI"
   },
   "outputs": [],
   "source": []
  }
 ],
 "metadata": {
  "colab": {
   "authorship_tag": "ABX9TyOdkPCs1LNtYv/0nXEOvA+B",
   "include_colab_link": true,
   "provenance": []
  },
  "kernelspec": {
   "display_name": "Python (hypotez)",
   "language": "python",
   "name": "venv"
  },
  "language_info": {
   "codemirror_mode": {
    "name": "ipython",
    "version": 3
   },
   "file_extension": ".py",
   "mimetype": "text/x-python",
   "name": "python",
   "nbconvert_exporter": "python",
   "pygments_lexer": "ipython3",
   "version": "3.12.3"
  }
 },
 "nbformat": 4,
 "nbformat_minor": 0
}
