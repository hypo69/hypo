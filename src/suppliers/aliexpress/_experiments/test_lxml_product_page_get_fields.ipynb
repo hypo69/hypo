{
 "cells": [
  {
   "cell_type": "markdown",
   "id": "a14e1f29-d7b8-4ee7-98a4-76338ce04e18",
   "metadata": {},
   "source": [
    "### <font color=red>алиехпресс загружает через javascript. lxml не работает</font>\n",
    "### <font color=red>алиехпресс загружает через javascript. суп не работает</font>"
   ]
  },
  {
   "cell_type": "code",
   "execution_count": null,
   "id": "2064188c-f57e-4445-adb2-b40465821f16",
   "metadata": {},
   "outputs": [],
   "source": [
    "import header\n",
    "from header import start_supplier\n",
    "from header import pprint, jprint\n",
    "from header import Supplier, Product, ProductFields"
   ]
  },
  {
   "cell_type": "code",
   "execution_count": null,
   "id": "ae9bea24-9023-45fd-81de-6245030e0545",
   "metadata": {},
   "outputs": [],
   "source": [
    "supplier = start_supplier('aliexpress','en')"
   ]
  },
  {
   "cell_type": "code",
   "execution_count": null,
   "id": "bf9669eb-bfc5-4f95-8178-d143b10ccf9a",
   "metadata": {},
   "outputs": [],
   "source": [
    "from lxml import html\n",
    "import requests"
   ]
  },
  {
   "cell_type": "code",
   "execution_count": null,
   "id": "56c8df78-092d-4505-993a-217376028bc4",
   "metadata": {},
   "outputs": [],
   "source": [
    "s = supplier\n",
    "p = Product(supplier = s)\n",
    "_l : dict = s.locators['product']\n",
    "_d = s.driver\n",
    "_f = p.product_fields\n",
    "_test_url = 'https://www.aliexpress.com/item/32995535623.html'"
   ]
  },
  {
   "cell_type": "code",
   "execution_count": null,
   "id": "075c95af-5f22-4346-82be-533ecd7d4c1d",
   "metadata": {},
   "outputs": [],
   "source": [
    "_d.get_url(_test_url)"
   ]
  },
  {
   "cell_type": "code",
   "execution_count": null,
   "id": "8ec1cc29-e029-4654-965e-5135d9dde4ee",
   "metadata": {},
   "outputs": [],
   "source": [
    "response = requests.get(_test_url)\n",
    "tree = html.fromstring(response.text)\n",
    "#html_str = html.tostring(tree, encoding='unicode')"
   ]
  },
  {
   "cell_type": "code",
   "execution_count": null,
   "id": "f111a19f-f6cd-4349-91a1-22e1dad42ef6",
   "metadata": {},
   "outputs": [],
   "source": [
    "#print(tree)\n",
    "#print(html_str)"
   ]
  },
  {
   "cell_type": "code",
   "execution_count": null,
   "id": "30840322-e8ee-47a4-b776-fa3cd46476ea",
   "metadata": {},
   "outputs": [],
   "source": [
    "_f.id_product = _f.supplier_reference = _test_url.split('/')[-1].split('.')[0]\n",
    "_l['name']['selector'] =  '.'+ _l['name']['selector']\n",
    "_f.name = tree.xpath(_l['name']['selector'])"
   ]
  },
  {
   "cell_type": "code",
   "execution_count": null,
   "id": "a2f2c09b-d2ab-4bfe-895b-e0cb8449fe64",
   "metadata": {},
   "outputs": [],
   "source": [
    "with open(f\"{_f.id_product}.html\", 'w', encoding='utf-8') as file:\n",
    "    file.write(response.text)"
   ]
  },
  {
   "cell_type": "code",
   "execution_count": null,
   "id": "e1066f9d-6f74-4273-ae2c-11d103975363",
   "metadata": {},
   "outputs": [],
   "source": []
  },
  {
   "cell_type": "code",
   "execution_count": null,
   "id": "d4360f95-064e-4868-9e88-c07569ef6684",
   "metadata": {},
   "outputs": [],
   "source": [
    "print(_l['name']['selector'])"
   ]
  },
  {
   "cell_type": "code",
   "execution_count": null,
   "id": "bba7a4b2-226e-49fc-8cf0-091da1f59963",
   "metadata": {},
   "outputs": [],
   "source": [
    "print(tree.xpath('//h1[contains(\"@data-pl\",\"product-title\")]'))"
   ]
  },
  {
   "cell_type": "code",
   "execution_count": null,
   "id": "ffffd378-176c-4e85-b72d-4914eeefb42d",
   "metadata": {},
   "outputs": [],
   "source": []
  },
  {
   "cell_type": "code",
   "execution_count": null,
   "id": "1024f98d-210a-4e5c-aca0-51583fca0dd5",
   "metadata": {},
   "outputs": [],
   "source": [
    "print(_f.id_product, _f.name)"
   ]
  },
  {
   "cell_type": "code",
   "execution_count": null,
   "id": "e45062e9-c148-4a2b-9d2c-78de1e751b34",
   "metadata": {},
   "outputs": [],
   "source": [
    "print(tree.xpath(_l['name']['selector']))"
   ]
  },
  {
   "cell_type": "code",
   "execution_count": null,
   "id": "2ef1af47-fb12-441c-b7bd-4581eb85aa9a",
   "metadata": {},
   "outputs": [],
   "source": [
    "print(_l['name']['selector'])"
   ]
  },
  {
   "cell_type": "code",
   "execution_count": null,
   "id": "ddbfae67-80a7-47e6-88cd-b611aca9113d",
   "metadata": {},
   "outputs": [],
   "source": [
    "print(tree.xpath(\"//h1[contains('@data-pl', 'product-title')]\"))"
   ]
  },
  {
   "cell_type": "code",
   "execution_count": null,
   "id": "857e130f-9b12-40f5-a27f-f6d068148cc0",
   "metadata": {},
   "outputs": [],
   "source": [
    "print(tree.body)"
   ]
  },
  {
   "cell_type": "code",
   "execution_count": null,
   "id": "70e7a101-2bd0-4223-94a2-89fce2ddfaa0",
   "metadata": {},
   "outputs": [],
   "source": [
    "\"\"\"\n",
    "from lxml import html\n",
    "\n",
    "html_content = '''\n",
    "<html>\n",
    "  <body>\n",
    "    <div id=\"content\">\n",
    "      <p class=\"paragraph\">Hello, <span>world</span>!</p>\n",
    "    </div>\n",
    "  </body>\n",
    "</html>\n",
    "'''\n",
    "\n",
    "# Создаем объект ElementTree из HTML-кода\n",
    "tree = html.fromstring(html_content)\n",
    "\n",
    "# Используем xpath для выбора элемента\n",
    "result = tree.xpath('//p[@class=\"paragraph\"]/span')\n",
    "\n",
    "# Выводим результат\n",
    "print(result)\n",
    "\"\"\""
   ]
  },
  {
   "cell_type": "code",
   "execution_count": null,
   "id": "1fde10aa-3eaf-4696-aede-4fe47a9b9e40",
   "metadata": {},
   "outputs": [],
   "source": []
  }
 ],
 "metadata": {
  "kernelspec": {
   "display_name": "Python 3 (ipykernel)",
   "language": "python",
   "name": "python3"
  },
  "language_info": {
   "codemirror_mode": {
    "name": "ipython",
    "version": 3
   },
   "file_extension": ".py",
   "mimetype": "text/x-python",
   "name": "python",
   "nbconvert_exporter": "python",
   "pygments_lexer": "ipython3",
   "version": "3.11.6"
  }
 },
 "nbformat": 4,
 "nbformat_minor": 5
}
