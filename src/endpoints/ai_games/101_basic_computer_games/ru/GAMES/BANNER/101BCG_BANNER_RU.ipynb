{
  "nbformat": 4,
  "nbformat_minor": 0,
  "metadata": {
    "colab": {
      "provenance": [],
      "authorship_tag": "ABX9TyNOTjkPxpxP2kGFL8SrP4vE",
      "include_colab_link": true
    },
    "kernelspec": {
      "name": "python3",
      "display_name": "Python 3"
    },
    "language_info": {
      "name": "python"
    }
  },
  "cells": [
    {
      "cell_type": "markdown",
      "metadata": {
        "id": "view-in-github",
        "colab_type": "text"
      },
      "source": [
        "<a href=\"https://colab.research.google.com/github/hypo69/101_python_computer_games_ru/blob/master/GAMES/BANNER/101BCG_BANNER_RU.ipynb\" target=\"_parent\"><img src=\"https://colab.research.google.com/assets/colab-badge.svg\" alt=\"Open In Colab\"/></a>"
      ]
    },
    {
      "cell_type": "code",
      "execution_count": null,
      "metadata": {
        "id": "9Pv7qBm--kaY"
      },
      "outputs": [],
      "source": [
        "# Игра Banner: создание текстового баннера\n",
        "\n",
        "# Функция для создания баннера\n",
        "def create_banner(text):\n",
        "    \"\"\"\n",
        "    Создаёт текстовый баннер из введённого текста.\n",
        "    :param text: Строка, которую нужно преобразовать в баннер.\n",
        "    :return: None\n",
        "    \"\"\"\n",
        "    # Определяем ширину баннера (длина текста + 4 символа для рамки)\n",
        "    banner_width = len(text) + 4\n",
        "\n",
        "    # Выводим верхнюю границу баннера\n",
        "    print(\"*\" * banner_width)\n",
        "\n",
        "    # Выводим текст с рамкой\n",
        "    print(f\"* {text} *\")\n",
        "\n",
        "    # Выводим нижнюю границу баннера\n",
        "    print(\"*\" * banner_width)\n",
        "\n",
        "# Основная часть программы\n",
        "if __name__ == \"__main__\":\n",
        "    # Приветствие пользователя\n",
        "    print(\"Добро пожаловать в игру Banner!\")\n",
        "    print(\"Введите текст, и я создам для вас текстовый баннер.\")\n",
        "\n",
        "    # Запрашиваем у пользователя текст\n",
        "    user_text = input(\"Введите текст: \")\n",
        "\n",
        "    # Проверяем, что текст не пустой\n",
        "    if user_text.strip() == \"\":\n",
        "        print(\"Вы не ввели текст. Попробуйте снова.\")\n",
        "    else:\n",
        "        # Создаём и выводим баннер\n",
        "        print(\"\\nВаш баннер готов:\")\n",
        "        create_banner(user_text)\n",
        ""
      ]
    },
    {
      "cell_type": "code",
      "source": [],
      "metadata": {
        "id": "sLOXYjVq-3sa"
      },
      "execution_count": null,
      "outputs": []
    }
  ]
}