{
 "cells": [
  {
   "cell_type": "code",
   "execution_count": null,
   "id": "00e7d0ee",
   "metadata": {},
   "outputs": [],
   "source": [
    "\"\"\"! Deal, event\n",
    "Подготовка объявления в формате для фейсбук\n",
    "\"\"\"\n",
    "...\n",
    "import header\n",
    "from src.suppliers.aliexpress import AliPromoDeal\n",
    "\n",
    "deal_name = '150624_baseus_deals'\n",
    "a = AliPromoDeal(deal_name)\n",
    "#products = a.prepare_products_for_deal()"
   ]
  },
  {
   "cell_type": "code",
   "execution_count": null,
   "id": "ff8a36fe",
   "metadata": {},
   "outputs": [],
   "source": [
    "pprint(a)"
   ]
  }
 ],
 "metadata": {
  "kernelspec": {
   "display_name": "Python 3 (ipykernel)",
   "language": "python",
   "name": "python3"
  },
  "language_info": {
   "codemirror_mode": {
    "name": "ipython",
    "version": 3
   },
   "file_extension": ".py",
   "mimetype": "text/x-python",
   "name": "python",
   "nbconvert_exporter": "python",
   "pygments_lexer": "ipython3",
   "version": "3.11.9"
  }
 },
 "nbformat": 4,
 "nbformat_minor": 5
}
