{
 "cells": [
  {
   "cell_type": "markdown",
   "id": "89bbb140",
   "metadata": {},
   "source": [
    "Проверки входа через вебдрайвер. Мне нужны куки после входа"
   ]
  },
  {
   "cell_type": "code",
   "execution_count": null,
   "id": "9798f044",
   "metadata": {
    "scrolled": true
   },
   "outputs": [],
   "source": [
    "import header\n",
    "from pathlib import Path\n",
    "import pickle\n",
    "import requests\n",
    "\n",
    "from header import gs\n",
    "from src.suppliers.aliexpress import Aliexpress\n",
    "from src.utils import pprint\n",
    "#from src.suppliers.alexpress.scenarios import login"
   ]
  },
  {
   "cell_type": "code",
   "execution_count": null,
   "id": "3fc11d14",
   "metadata": {
    "scrolled": false
   },
   "outputs": [],
   "source": [
    "a = Aliexpress('firefox')"
   ]
  },
  {
   "cell_type": "code",
   "execution_count": null,
   "id": "4189ea86",
   "metadata": {},
   "outputs": [],
   "source": [
    "d = a.driver\n",
    "#d.get_url('https://aliexpress.com')"
   ]
  },
  {
   "cell_type": "code",
   "execution_count": null,
   "id": "ce65491e",
   "metadata": {},
   "outputs": [],
   "source": [
    "url = 'https://portals.aliexpress.com/affiportals/web/home.htm'\n",
    "d.get_url(url)"
   ]
  },
  {
   "cell_type": "code",
   "execution_count": null,
   "id": "61d225b3",
   "metadata": {},
   "outputs": [],
   "source": [
    "\n",
    "\n",
    "cookies_file = Path(gs.dir_tmp,'coockie')\n",
    "\n",
    "cookies = d.get_cookies()\n",
    "with open(cookies_file, 'wb') as file:\n",
    "    pickle.dump(cookies, file)"
   ]
  },
  {
   "cell_type": "code",
   "execution_count": null,
   "id": "232ae4bf",
   "metadata": {},
   "outputs": [],
   "source": [
    "print(a)\n"
   ]
  },
  {
   "cell_type": "code",
   "execution_count": null,
   "id": "cc3bd076",
   "metadata": {},
   "outputs": [],
   "source": [
    "pprint(gs)"
   ]
  },
  {
   "cell_type": "code",
   "execution_count": null,
   "id": "32d85afa",
   "metadata": {},
   "outputs": [],
   "source": []
  }
 ],
 "metadata": {
  "kernelspec": {
   "display_name": "Python 3 (ipykernel)",
   "language": "python",
   "name": "python3"
  },
  "language_info": {
   "codemirror_mode": {
    "name": "ipython",
    "version": 3
   },
   "file_extension": ".py",
   "mimetype": "text/x-python",
   "name": "python",
   "nbconvert_exporter": "python",
   "pygments_lexer": "ipython3",
   "version": "3.11.9"
  }
 },
 "nbformat": 4,
 "nbformat_minor": 5
}
