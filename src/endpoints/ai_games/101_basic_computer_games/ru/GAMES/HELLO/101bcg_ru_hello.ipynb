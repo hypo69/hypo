{
  "nbformat": 4,
  "nbformat_minor": 0,
  "metadata": {
    "colab": {
      "provenance": [],
      "authorship_tag": "ABX9TyM8BVOXQE6EvFhdzBZjj36H",
      "include_colab_link": true
    },
    "kernelspec": {
      "name": "python3",
      "display_name": "Python 3"
    },
    "language_info": {
      "name": "python"
    }
  },
  "cells": [
    {
      "cell_type": "markdown",
      "metadata": {
        "id": "view-in-github",
        "colab_type": "text"
      },
      "source": [
        "<a href=\"https://colab.research.google.com/github/hypo69/hypo/blob/master/docs/notepads/101BCG_RU/101BCG_RU_HELLO.ipynb\" target=\"_parent\"><img src=\"https://colab.research.google.com/assets/colab-badge.svg\" alt=\"Open In Colab\"/></a>"
      ]
    },
    {
      "cell_type": "markdown",
      "source": [
        "HELLO:\n",
        "=================\n",
        "Сложность: 1\n",
        "-----------------\n",
        "Игра \"Привет\" - это простая игра, которая просто выводит приветствие на экран.\n",
        "\n",
        "Правила игры:\n",
        "1. Игра не имеет правил, она просто отображает приветствие на экране.\n",
        "-----------------\n",
        "Алгоритм:\n",
        "1. Вывести на экран сообщение \"HELLO\".\n",
        "-----------------"
      ],
      "metadata": {
        "id": "W6Y6pR9jae7e"
      }
    },
    {
      "cell_type": "markdown",
      "source": [
        "![hello.png](data:image/png;base64,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)"
      ],
      "metadata": {
        "id": "1Nnv_xrEd1q6"
      }
    },
    {
      "cell_type": "code",
      "execution_count": null,
      "metadata": {
        "colab": {
          "base_uri": "https://localhost:8080/"
        },
        "id": "Y_wTcu_GaYHp",
        "outputId": "5bb12eb6-2c4c-4603-b476-b87408c97a62"
      },
      "outputs": [
        {
          "output_type": "stream",
          "name": "stdout",
          "text": [
            "HELLO\n"
          ]
        }
      ],
      "source": [
        "print(\"HELLO\")"
      ]
    }
  ]
}