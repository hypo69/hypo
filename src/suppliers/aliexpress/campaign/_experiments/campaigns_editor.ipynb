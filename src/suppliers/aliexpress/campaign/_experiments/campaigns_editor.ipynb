{
 "cells": [
  {
   "cell_type": "markdown",
   "id": "c535d3cc",
   "metadata": {},
   "source": [
    "# Создание новой рекламной кампании"
   ]
  },
  {
   "cell_type": "code",
   "execution_count": 1,
   "id": "d315c26c",
   "metadata": {},
   "outputs": [
    {
     "name": "stdin",
     "output_type": "stream",
     "text": [
      "Master password for KeePass database:  ········\n"
     ]
    }
   ],
   "source": [
    "import header\n",
    "import re\n",
    "from pathlib import Path\n",
    "from typing import List, Dict, Union, Optional\n",
    "from types import SimpleNamespace\n",
    "\n",
    "from __init__ import gs\n",
    "from src.suppliers.aliexpress import AliPromoCampaign\n",
    "from src.suppliers.aliexpress import AliAffiliatedProducts\n",
    "from src.utils import get_filenames, get_directory_names, read_text_file, csv2dict\n",
    "from src.utils import list2string\n",
    "from src.utils import j_loads_ns\n",
    "from src.utils import pprint\n",
    "from src.logger import logger\n",
    "\n",
    "campaigns_directory = Path(gs.path.external_data,'aliexpress','campaigns')\n",
    "campaign_names = get_directory_names(campaigns_directory)\n",
    "languages = {'EN': 'USD', 'HE': 'ILS', 'RU': 'ILS'}"
   ]
  },
  {
   "cell_type": "markdown",
   "id": "cf74833e",
   "metadata": {},
   "source": [
    "## Предварительная подготовка"
   ]
  },
  {
   "cell_type": "code",
   "execution_count": 4,
   "id": "20632761",
   "metadata": {},
   "outputs": [
    {
     "name": "stdout",
     "output_type": "stream",
     "text": [
      "['150624_baseus_campaigns',\n",
      " '280624_cleararanse',\n",
      " '280624_computers_smartphones_projectors',\n",
      " 'andoid_smartphones_under_200USD',\n",
      " 'big_save_270624',\n",
      " 'building_blocks']\n"
     ]
    }
   ],
   "source": [
    "pprint(campaign_names)"
   ]
  },
  {
   "cell_type": "code",
   "execution_count": 5,
   "id": "95a91776",
   "metadata": {},
   "outputs": [],
   "source": [
    "campaign_name = '280624_cleararanse'"
   ]
  },
  {
   "cell_type": "code",
   "execution_count": 6,
   "id": "4cc026f0",
   "metadata": {},
   "outputs": [],
   "source": [
    "campaign_path = campaigns_directory / campaign_name / 'categories'\n",
    "campaign_categories = get_directory_names(campaign_path)"
   ]
  },
  {
   "cell_type": "code",
   "execution_count": 1,
   "id": "e427a2c7-40c2-4abb-87f1-015fb2644094",
   "metadata": {},
   "outputs": [
    {
     "name": "stdout",
     "output_type": "stream",
     "text": [
      "Pretty printing has been turned OFF\n"
     ]
    }
   ],
   "source": [
    "pprint(campaign_categories)"
   ]
  },
  {
   "cell_type": "code",
   "execution_count": 7,
   "id": "8d635085",
   "metadata": {},
   "outputs": [],
   "source": [
    "language = 'EN'\n",
    "currency = 'USD'"
   ]
  },
  {
   "cell_type": "code",
   "execution_count": 8,
   "id": "6c36df8e",
   "metadata": {},
   "outputs": [],
   "source": []
  },
  {
   "cell_type": "code",
   "execution_count": 1,
   "id": "029b8efb",
   "metadata": {},
   "outputs": [
    {
     "ename": "NameError",
     "evalue": "name 'AliPromoCampaign' is not defined",
     "output_type": "error",
     "traceback": [
      "\u001b[1;31m---------------------------------------------------------------------------\u001b[0m",
      "\u001b[1;31mNameError\u001b[0m                                 Traceback (most recent call last)",
      "Cell \u001b[1;32mIn[1], line 1\u001b[0m\n\u001b[1;32m----> 1\u001b[0m a \u001b[38;5;241m=\u001b[39m \u001b[43mAliPromoCampaign\u001b[49m(campaign_name \u001b[38;5;241m=\u001b[39m campaign_name, \n\u001b[0;32m      2\u001b[0m                      category_name \u001b[38;5;241m=\u001b[39m category_name, \n\u001b[0;32m      3\u001b[0m                      language \u001b[38;5;241m=\u001b[39m language, \n\u001b[0;32m      4\u001b[0m                      currency \u001b[38;5;241m=\u001b[39m currency)\n",
      "\u001b[1;31mNameError\u001b[0m: name 'AliPromoCampaign' is not defined"
     ]
    }
   ],
   "source": [
    "a = AliPromoCampaign(campaign_name = campaign_name, \n",
    "                     category_name = category_name, \n",
    "                     language = language, \n",
    "                     currency = currency)"
   ]
  },
  {
   "cell_type": "code",
   "execution_count": 10,
   "id": "3f4b8a7f",
   "metadata": {},
   "outputs": [],
   "source": [
    "category_name = 'gaming_comuter_accessories'"
   ]
  },
  {
   "cell_type": "code",
   "execution_count": null,
   "id": "14830809",
   "metadata": {},
   "outputs": [],
   "source": [
    "campaign_category_path = campaign_path / category_name"
   ]
  },
  {
   "cell_type": "code",
   "execution_count": 41,
   "id": "b08eabc4",
   "metadata": {},
   "outputs": [
    {
     "name": "stderr",
     "output_type": "stream",
     "text": [
      "2024-07-02 17:43:36,714 - INFO - \u001b[32mStart processing C:\\Users\\user\\Documents\\repos\\hypotez\\external_data\\aliexpress\\campaigns\\280624_cleararanse\\categories \u001b[0m\n",
      "2024-07-02 17:43:36,732 - ERROR - \u001b[31mFile not found: C:\\Users\\user\\Documents\\repos\\hypotez\\external_data\\aliexpress\\campaigns\\280624_cleararanse\\categories\\EN\\parsed_products. \u001b[0m   \n",
      "        File: C:\\Users\\user\\Documents\\repos\\hypotez\\src\\utils\\jjson\\jjson.py,\n",
      "        Function: j_loads,\n",
      "        Line: 110\n",
      "Traceback (most recent call last):\n",
      "  File \"C:\\Users\\user\\Documents\\repos\\hypotez\\src\\utils\\jjson\\jjson.py\", line 106, in j_loads\n",
      "    with open(jjson, 'r', encoding='utf-8') as f:\n",
      "         ^^^^^^^^^^^^^^^^^^^^^^^^^^^^^^^^^^\n",
      "FileNotFoundError: [Errno 2] No such file or directory: 'C:\\\\Users\\\\user\\\\Documents\\\\repos\\\\hypotez\\\\external_data\\\\aliexpress\\\\campaigns\\\\280624_cleararanse\\\\categories\\\\EN\\\\parsed_products'\n"
     ]
    }
   ],
   "source": [
    "prod_ids = get_campaign_products()"
   ]
  },
  {
   "cell_type": "markdown",
   "id": "1220f62c",
   "metadata": {},
   "source": [
    "### <font color=red> если выскочила ошибка - выполнить код ниже </font>"
   ]
  },
  {
   "cell_type": "code",
   "execution_count": 42,
   "id": "32b61342",
   "metadata": {},
   "outputs": [
    {
     "name": "stderr",
     "output_type": "stream",
     "text": [
      "2024-07-02 17:47:45,348 - WARNING - \u001b[33mfile sources.txt not found! \u001b[0m   \n",
      "        File: C:\\Users\\user\\AppData\\Local\\Temp\\ipykernel_24176\\1821108124.py,\n",
      "        Function: prepare_products_for_campaign,\n",
      "        Line: 16\n",
      "NoneType: None\n",
      "2024-07-02 17:47:45,387 - INFO - \u001b[32m\n",
      "        ~~~~~~~~~~~~~~~~~~\n",
      "        C:\\Users\\user\\Documents\\repos\\hypotez\\external_data\\aliexpress\\campaigns\\280624_cleararanse\\categories\\gaming_comuter_accessories\\sources.txt\n",
      "        ~~~~~~~~~~~~~~~~~~~~~~~~ \u001b[0m\n"
     ]
    },
    {
     "name": "stdout",
     "output_type": "stream",
     "text": [
      "File 'C:\\Users\\user\\Documents\\repos\\hypotez\\external_data\\aliexpress\\campaigns\\280624_cleararanse\\categories\\gaming_comuter_accessories\\sources.txt' does not exist.\n"
     ]
    },
    {
     "ename": "NameError",
     "evalue": "name 'campaign_parser' is not defined",
     "output_type": "error",
     "traceback": [
      "\u001b[1;31m---------------------------------------------------------------------------\u001b[0m",
      "\u001b[1;31mNameError\u001b[0m                                 Traceback (most recent call last)",
      "Cell \u001b[1;32mIn[42], line 2\u001b[0m\n\u001b[0;32m      1\u001b[0m prod_ids \u001b[38;5;241m=\u001b[39m prepare_products_for_campaign()\n\u001b[1;32m----> 2\u001b[0m \u001b[43mcampaign_parser\u001b[49m\u001b[38;5;241m.\u001b[39m_affiliate_product(prod_ids)\n\u001b[0;32m      3\u001b[0m prod_ids \u001b[38;5;241m=\u001b[39m get_campaign_products()\n",
      "\u001b[1;31mNameError\u001b[0m: name 'campaign_parser' is not defined"
     ]
    }
   ],
   "source": [
    "prod_ids = prepare_products_for_campaign()\n",
    "campaign_parser._affiliate_product(prod_ids)\n",
    "prod_ids = get_campaign_products()"
   ]
  },
  {
   "cell_type": "code",
   "execution_count": 39,
   "id": "75e29a58",
   "metadata": {},
   "outputs": [
    {
     "name": "stdout",
     "output_type": "stream",
     "text": [
      "['1005005336370967',\n",
      " '1005005698038979',\n",
      " '1005005961658961',\n",
      " '1005006108754219',\n",
      " '1005006678030479',\n",
      " '1005006838602057',\n",
      " '1005006860958684',\n",
      " '1005006861049361',\n",
      " '1005006861729596',\n",
      " '1005006904770181',\n",
      " '1005006966377345',\n",
      " '1005006982276700',\n",
      " '1005006995616668',\n",
      " '1005006996323688',\n",
      " '1005007010570179']\n"
     ]
    }
   ],
   "source": [
    "pprint(prod_ids)"
   ]
  },
  {
   "cell_type": "code",
   "execution_count": 18,
   "id": "bbdd59f0",
   "metadata": {},
   "outputs": [
    {
     "name": "stderr",
     "output_type": "stream",
     "text": [
      "2024-07-02 17:23:03,921 - ERROR - \u001b[31mFailed to get filenames from directory \u001b[0m Exception: [WinError 3] The system cannot find the path specified: 'C:\\\\Users\\\\user\\\\Documents\\\\repos\\\\hypotez\\\\external_data\\\\aliexpress\\\\campaigns\\\\280624_cleararanse\\\\categories\\\\sources'   \n",
      "        File: C:\\Users\\user\\Documents\\repos\\hypotez\\src\\utils\\interface\\file.py,\n",
      "        Function: get_filenames,\n",
      "        Line: 71\n",
      "Traceback (most recent call last):\n",
      "  File \"C:\\Users\\user\\Documents\\repos\\hypotez\\src\\utils\\interface\\file.py\", line 68, in get_filenames\n",
      "    filenames = [file.name for file in path.iterdir() if file.is_file()]\n",
      "                ^^^^^^^^^^^^^^^^^^^^^^^^^^^^^^^^^^^^^^^^^^^^^^^^^^^^^^^^\n",
      "  File \"C:\\Users\\user\\Documents\\repos\\hypotez\\src\\utils\\interface\\file.py\", line 68, in <listcomp>\n",
      "    filenames = [file.name for file in path.iterdir() if file.is_file()]\n",
      "                ^^^^^^^^^^^^^^^^^^^^^^^^^^^^^^^^^^^^^^^^^^^^^^^^^^^^^^^^\n",
      "  File \"C:\\Program Files\\WindowsApps\\PythonSoftwareFoundation.Python.3.11_3.11.2544.0_x64__qbz5n2kfra8p0\\Lib\\pathlib.py\", line 931, in iterdir\n",
      "    for name in os.listdir(self):\n",
      "                ^^^^^^^^^^^^^^^^\n",
      "FileNotFoundError: [WinError 3] The system cannot find the path specified: 'C:\\\\Users\\\\user\\\\Documents\\\\repos\\\\hypotez\\\\external_data\\\\aliexpress\\\\campaigns\\\\280624_cleararanse\\\\categories\\\\sources'\n"
     ]
    }
   ],
   "source": []
  },
  {
   "cell_type": "code",
   "execution_count": null,
   "id": "09f96604",
   "metadata": {},
   "outputs": [],
   "source": [
    "def get_prod_ids(path_to_products):\n",
    "    product_filenames = get_filenames(path_to_products)\n",
    "    #print(product_filenames)\n",
    "    prod_ids = [s.split('.', 1)[0].strip() if '.' in s else s for s in product_filenames]\n",
    "    return prod_ids\n"
   ]
  },
  {
   "cell_type": "code",
   "execution_count": null,
   "id": "735dacf3",
   "metadata": {},
   "outputs": [],
   "source": []
  },
  {
   "cell_type": "code",
   "execution_count": null,
   "id": "44e47f7a",
   "metadata": {},
   "outputs": [],
   "source": [
    "def campaign(campaign_name, campaign_category):\n",
    "    a = AliPromoCampaign(campaign_name, campaign_category)\n",
    "    return a"
   ]
  },
  {
   "cell_type": "markdown",
   "id": "3cc7f247",
   "metadata": {},
   "source": [
    "big_save_270624"
   ]
  },
  {
   "cell_type": "code",
   "execution_count": null,
   "id": "d5a8a263",
   "metadata": {},
   "outputs": [],
   "source": [
    "campaign_name = 'big_save_270624'\n",
    "campaign_category = 'smartphones'\n",
    "language = 'EN'\n",
    "a = campaign(campaign_name, campaign_category)\n",
    "products = a.prepare_products_for_campaign()"
   ]
  },
  {
   "cell_type": "markdown",
   "id": "00c9d6b7",
   "metadata": {},
   "source": [
    "150624_baseus_deals"
   ]
  },
  {
   "cell_type": "code",
   "execution_count": null,
   "id": "74923fb8",
   "metadata": {},
   "outputs": [],
   "source": [
    "\"\"\"\n",
    "campaign_name = '150624_baseus_campaigns'\n",
    "campaign_category = 'office'\n",
    "language = 'EN'\n",
    "path_to_campaign_category = Path(campaigns_directory, campaign_name, 'categories',campaign_category,language)\n",
    "path_to_products = Path(Path(campaigns_directory, campaign_name,'categories',campaign_category,language,'sources'))\n",
    "prod_ids = csv2dict(Path(path_to_campaign_category,'products_urls.csv'))\n",
    "a = campaign(campaign_name, campaign_category)\n",
    "products = a.prepare_products_for_campaign(prod_ids)\n",
    "\"\"\""
   ]
  },
  {
   "cell_type": "code",
   "execution_count": null,
   "id": "7b730ab7",
   "metadata": {},
   "outputs": [],
   "source": [
    "campaign_name = '150624_baseus_campaigns'\n",
    "campaign_category = 'office'\n",
    "language = 'EN'\n",
    "a = campaign(campaign_name, campaign_category)\n",
    "products = a.prepare_products_for_campaign()"
   ]
  },
  {
   "cell_type": "markdown",
   "id": "98938714",
   "metadata": {},
   "source": [
    "building_blocks"
   ]
  },
  {
   "cell_type": "code",
   "execution_count": null,
   "id": "7886b2ed",
   "metadata": {},
   "outputs": [],
   "source": [
    "\n",
    "campaign_name = 'building_blocks'\n",
    "campaign_category = 'cars'\n",
    "language = 'EN'\n",
    "a = campaign(campaign_name, campaign_category)\n",
    "products = a.prepare_products_for_campaign(prod_ids)"
   ]
  },
  {
   "cell_type": "markdown",
   "id": "b3373bdf",
   "metadata": {},
   "source": [
    "280624_computers_smartphones_projectors"
   ]
  },
  {
   "cell_type": "code",
   "execution_count": null,
   "id": "2eb8e40c",
   "metadata": {},
   "outputs": [],
   "source": [
    "campaign_name = '280624_computers_smartphones_projectors'\n",
    "campaign_category = 'computers_smartphones_projectors'\n",
    "language = 'EN'\n",
    "a = campaign(campaign_name, campaign_category)\n",
    "products = a.prepare_products_for_campaign()"
   ]
  },
  {
   "cell_type": "markdown",
   "id": "2de19b5d",
   "metadata": {},
   "source": [
    "280624_cleararanse"
   ]
  },
  {
   "cell_type": "code",
   "execution_count": null,
   "id": "43debd5f",
   "metadata": {},
   "outputs": [],
   "source": [
    "campaign_name = '280624_cleararanse'\n",
    "campaign_category = 'gaming_comuter_accessories'\n",
    "language = 'EN'\n",
    "a = campaign(campaign_name, campaign_category)\n",
    "products = a.prepare_products_for_campaign()"
   ]
  },
  {
   "cell_type": "markdown",
   "id": "cc3304d5",
   "metadata": {},
   "source": [
    "<font color=red> продолжение</font>"
   ]
  },
  {
   "cell_type": "code",
   "execution_count": null,
   "id": "5af83225",
   "metadata": {},
   "outputs": [],
   "source": [
    "\n"
   ]
  },
  {
   "cell_type": "markdown",
   "id": "20b7bc82",
   "metadata": {},
   "source": [
    "## Создание промо для товаров"
   ]
  },
  {
   "cell_type": "markdown",
   "id": "ace4eb08",
   "metadata": {},
   "source": []
  },
  {
   "cell_type": "code",
   "execution_count": null,
   "id": "33bc3751",
   "metadata": {
    "scrolled": true
   },
   "outputs": [],
   "source": []
  },
  {
   "cell_type": "code",
   "execution_count": null,
   "id": "2d6b3539",
   "metadata": {},
   "outputs": [],
   "source": []
  }
 ],
 "metadata": {
  "kernelspec": {
   "display_name": "Python 3 (ipykernel)",
   "language": "python",
   "name": "python3"
  },
  "language_info": {
   "codemirror_mode": {
    "name": "ipython",
    "version": 3
   },
   "file_extension": ".py",
   "mimetype": "text/x-python",
   "name": "python",
   "nbconvert_exporter": "python",
   "pygments_lexer": "ipython3",
   "version": "3.12.4"
  }
 },
 "nbformat": 4,
 "nbformat_minor": 5
}
