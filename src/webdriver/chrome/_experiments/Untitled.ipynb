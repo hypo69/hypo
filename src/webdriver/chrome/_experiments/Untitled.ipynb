{
 "cells": [
  {
   "cell_type": "code",
   "execution_count": 4,
   "id": "ff28fe20",
   "metadata": {},
   "outputs": [
    {
     "ename": "NameError",
     "evalue": "name 'settings' is not defined",
     "output_type": "error",
     "traceback": [
      "\u001b[1;31m---------------------------------------------------------------------------\u001b[0m",
      "\u001b[1;31mNameError\u001b[0m                                 Traceback (most recent call last)",
      "Cell \u001b[1;32mIn[4], line 21\u001b[0m\n\u001b[0;32m     19\u001b[0m             options\u001b[38;5;241m.\u001b[39madd_argument(opt)\n\u001b[0;32m     20\u001b[0m     \u001b[38;5;28;01mreturn\u001b[39;00m options\n\u001b[1;32m---> 21\u001b[0m options: ChromeOptions \u001b[38;5;241m=\u001b[39m set_options(\u001b[43msettings\u001b[49m\u001b[38;5;241m.\u001b[39mget(\u001b[38;5;124m'\u001b[39m\u001b[38;5;124moptions\u001b[39m\u001b[38;5;124m'\u001b[39m))\n\u001b[0;32m     22\u001b[0m options\u001b[38;5;241m.\u001b[39madd_argument(\u001b[38;5;124mf\u001b[39m\u001b[38;5;124m'\u001b[39m\u001b[38;5;124muser-data-dir=\u001b[39m\u001b[38;5;132;01m{\u001b[39;00mprofile_directory\u001b[38;5;132;01m}\u001b[39;00m\u001b[38;5;124m'\u001b[39m)\n\u001b[0;32m     23\u001b[0m options\u001b[38;5;241m.\u001b[39mbinary_location \u001b[38;5;241m=\u001b[39m binary_location\n",
      "\u001b[1;31mNameError\u001b[0m: name 'settings' is not defined"
     ]
    }
   ],
   "source": [
    "import os\n",
    "from pathlib import Path\n",
    "from selenium import webdriver\n",
    "from selenium.webdriver.chrome.service import Service as ChromeService\n",
    "from selenium.webdriver.chrome.options import Options as ChromeOptions\n",
    "from selenium.common.exceptions import WebDriverException\n",
    "...\n",
    "\n",
    "binary_location = fr'C:\\\\Users\\\\user\\\\Documents\\\\repos\\\\hypotez\\\\bin\\\\webdrivers\\\\chrome\\\\125.0.6422.14\\\\chromedriver.exe'\n",
    "profile_directory = fr'C:\\\\Users\\\\user\\\\AppData\\\\Local\\\\Google\\\\Chrome\\\\User Data'\n",
    "...\n",
    "\n",
    " \"headers\": {\n",
    "   \"User-Agent\": \"Mozilla/5.0 (Windows NT 10.0; Win64; x64) AppleWebKit/537.36 (KHTML, like Gecko) Chrome/97.0.4692.71 Safari/537.36\",\n",
    "   \"Accept\": \"text/html,application/xhtml+xml,application/xml,application/json;q=0.9,*/*;q=0.8\",\n",
    "   \"Accept-Charset\": \"ISO-8859-1,utf-8;q=0.7,*;q=0.3\",\n",
    "   \"Accept-Encoding\": \"none\",\n",
    "   \"Accept-Language\": \"en-US,en;q=0.8\",\n",
    "   \"Connection\": \"keep-alive\"\n",
    " }\n",
    "        \n",
    "\n",
    "def set_options(opts=None) -> ChromeOptions:\n",
    "    \"\"\"! Launch options for the Chrome webdriver.\"\"\"\n",
    "    options = ChromeOptions()\n",
    "    if opts:\n",
    "        for opt in opts:\n",
    "            # Set options as needed for Chrome\n",
    "            options.add_argument(opt)\n",
    "    return options\n",
    "options: ChromeOptions = set_options(settings.get('options'))\n",
    "options.add_argument(f'user-data-dir={profile_directory}')\n",
    "options.binary_location = binary_location\n",
    "\n",
    "driver = webdriver.Chrome(options = options)\n",
    "\n",
    "\n",
    "..."
   ]
  },
  {
   "cell_type": "code",
   "execution_count": null,
   "id": "1f31ef6c",
   "metadata": {},
   "outputs": [],
   "source": []
  }
 ],
 "metadata": {
  "kernelspec": {
   "display_name": "Python 3 (ipykernel)",
   "language": "python",
   "name": "python3"
  },
  "language_info": {
   "codemirror_mode": {
    "name": "ipython",
    "version": 3
   },
   "file_extension": ".py",
   "mimetype": "text/x-python",
   "name": "python",
   "nbconvert_exporter": "python",
   "pygments_lexer": "ipython3",
   "version": "3.11.9"
  }
 },
 "nbformat": 4,
 "nbformat_minor": 5
}
