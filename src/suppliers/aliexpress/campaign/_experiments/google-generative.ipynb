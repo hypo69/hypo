{
 "cells": [
  {
   "cell_type": "code",
   "execution_count": 8,
   "id": "eaa60845-0642-4277-a64a-6f2291b92867",
   "metadata": {},
   "outputs": [],
   "source": [
    "import header\n",
    "import json\n",
    "from types import SimpleNamespace\n",
    "from src import gs\n",
    "from src.goog.generative_ai import GoolgeGenerativeAI\n",
    "from src.utils.printer import pprint\n",
    "from src.utils.file import read_text_file\n",
    "from src.utils import j_loads, j_loads_ns, j_dumps\n",
    "from src.utils.convertor.dict2ns_ns2dict import dict2namespace, namespace2dict"
   ]
  },
  {
   "cell_type": "code",
   "execution_count": 9,
   "id": "377d70c6-14aa-4a79-b716-a25925b06dc2",
   "metadata": {},
   "outputs": [],
   "source": [
    "prompt: SimpleNamespace = j_loads_ns(gs.path.src / 'suppliers' / 'aliexpress' / 'campaign' / 'prompts' /  'fill_and_translate_aliexpress_capmpaign.json')\n",
    "# Проверяем, что категория содержит список или словарь\n",
    "system_instruction = read_text_file(gs.path.src / 'suppliers' / 'aliexpress' / 'campaign' / 'prompts' / prompt.generate_campaign_details.system_instruction)\n"
   ]
  },
  {
   "cell_type": "code",
   "execution_count": 10,
   "id": "6fe57823-01d8-4e21-a2a9-1b0085ee3177",
   "metadata": {},
   "outputs": [],
   "source": [
    "campaign_name = 'lighting'\n",
    "language = 'EN'\n",
    "campaign = j_loads_ns(gs.path.google_drive / 'aliexpress' / 'campaigns' / campaign_name / f'{language}.json')\n",
    "categories = vars(campaign.category) if isinstance(campaign.category, SimpleNamespace) else campaign.category"
   ]
  },
  {
   "cell_type": "code",
   "execution_count": 17,
   "id": "84ad8021-a474-4e8f-bde5-8f3fe7ac232c",
   "metadata": {},
   "outputs": [
    {
     "name": "stderr",
     "output_type": "stream",
     "text": [
      "2024-08-13 19:34:17,757 - WARNING - \u001b[33mFile 'C:\\Users\\user\\Documents\\repos\\hypotez\\data\\aliexpress\\campaigns\\lighting\\category\\bedroom_lighting\\EN_USD\\product_titles.txt' does not exist. \u001b[0m   \n",
      "        File: C:\\Users\\user\\Documents\\repos\\hypotez\\src\\utils\\file\\file.py,\n",
      "        Function: read_text_file,\n",
      "        Line: 71\n",
      "NoneType: None\n",
      "2024-08-13 19:34:25,180 - WARNING - \u001b[33mFile 'C:\\Users\\user\\Documents\\repos\\hypotez\\data\\aliexpress\\campaigns\\lighting\\category\\wall_mounted_light\\EN_USD\\product_titles.txt' does not exist. \u001b[0m   \n",
      "        File: C:\\Users\\user\\Documents\\repos\\hypotez\\src\\utils\\file\\file.py,\n",
      "        Function: read_text_file,\n",
      "        Line: 71\n",
      "NoneType: None\n"
     ]
    },
    {
     "data": {
      "text/plain": [
       "{'category': {'wall_sconce_light': {'category_name': 'wall_sconce_light',\n",
       "   'title': 'Modern LED Wall Lamps & Sconces for Home Decor',\n",
       "   'description': 'A variety of modern LED wall lamps and sconces for different rooms like bathroom, bedroom, living room, kitchen and more. Includes options for bedside, mirror, and decorative lighting, with features like adjustable angles, dimmable options, and motion sensors.'}}}"
      ]
     },
     "execution_count": 17,
     "metadata": {},
     "output_type": "execute_result"
    }
   ],
   "source": [
    "model = GoolgeGenerativeAI(system_instruction = system_instruction)\n",
    "categories_ai:SimpleNamespace = SimpleNamespace( ** {'category' : '' })\n",
    "for category_name, category_value in categories.items():\n",
    "    \"\"\"! \"\"\"\n",
    "   \n",
    "    product_titles = read_text_file(gs.path.google_drive / \\\n",
    "                                    'aliexpress' / 'campaigns' / campaign_name / 'category' / category_name / \\\n",
    "                                    f\"{campaign.language}_{campaign.currency}\"/'product_titles.txt', get_list=True)\n",
    "    prompt = f'''\"category_name\"={category_name}\n",
    "                \"products_titles\" = [{product_titles}]'''\n",
    "    #pprint(prompt)\n",
    "    response = model.ask(prompt)\n",
    "    # Можно использовать response или сохранить его\n",
    "    #pprint(response)\n",
    "    res = json.loads(response)\n",
    "    setattr(categories_ai,'category',res)\n",
    "    #return response\n",
    "j_dumps (categories_ai,gs.path.google_drive / 'aliexpress' / 'campaigns' / campaign_name / f\"{language}_ai_{gs.now}.json\")"
   ]
  },
  {
   "cell_type": "code",
   "execution_count": null,
   "id": "8919cf12-e18f-414a-b890-90778230c244",
   "metadata": {},
   "outputs": [],
   "source": []
  }
 ],
 "metadata": {
  "kernelspec": {
   "display_name": "Python 3 (ipykernel)",
   "language": "python",
   "name": "python3"
  },
  "language_info": {
   "codemirror_mode": {
    "name": "ipython",
    "version": 3
   },
   "file_extension": ".py",
   "mimetype": "text/x-python",
   "name": "python",
   "nbconvert_exporter": "python",
   "pygments_lexer": "ipython3",
   "version": "3.12.5"
  }
 },
 "nbformat": 4,
 "nbformat_minor": 5
}
