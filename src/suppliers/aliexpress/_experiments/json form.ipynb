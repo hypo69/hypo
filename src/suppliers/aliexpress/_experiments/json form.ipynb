{
 "cells": [
  {
   "cell_type": "code",
   "execution_count": 1,
   "id": "bb2e85b5",
   "metadata": {},
   "outputs": [
    {
     "data": {
      "application/vnd.jupyter.widget-view+json": {
       "model_id": "637279a948e94798ae382cc59fe25be4",
       "version_major": 2,
       "version_minor": 0
      },
      "text/plain": [
       "Button(description='Load JSON File', style=ButtonStyle())"
      ]
     },
     "metadata": {},
     "output_type": "display_data"
    },
    {
     "data": {
      "application/vnd.jupyter.widget-view+json": {
       "model_id": "254af4bac1334a428420f7bf031c3094",
       "version_major": 2,
       "version_minor": 0
      },
      "text/plain": [
       "Output()"
      ]
     },
     "metadata": {},
     "output_type": "display_data"
    }
   ],
   "source": [
    "import header\n",
    "from pathlib import Path\n",
    "import ipywidgets as widgets\n",
    "from IPython.display import display\n",
    "from IPython.display import Javascript\n",
    "from tkinter import Tk, filedialog\n",
    "from src.utils import j_loads, j_dumps, j_loads_ns\n",
    "from src.utils import pprint\n",
    "\n",
    "# Function to create input widgets based on the JSON structure\n",
    "def create_widgets(data):\n",
    "    promotion_name = widgets.Text(value=data.promotion_name, description='Promotion Name:')\n",
    "    title = widgets.Text(value=data.title, description='Title:')\n",
    "    category_widgets = {}\n",
    "    \n",
    "    for category, details in data.categories.items():\n",
    "        category_title = widgets.Text(value=details.title, description=f'{category} Title:')\n",
    "        category_description = widgets.Text(value=details.description, description=f'{category} Description:')\n",
    "        tags = widgets.Text(value=', '.join(details.tags), description=f'{category} Tags:')\n",
    "        category_widgets[category] = (category_title, category_description, tags)\n",
    "    \n",
    "    return promotion_name, title, category_widgets\n",
    "\n",
    "# Function to update JSON structure based on input widget values\n",
    "def update_json(change, data, file_path):\n",
    "    data.promotion_name = promotion_name.value\n",
    "    data.title = title.value\n",
    "    for category, (category_title, category_description, tags) in category_widgets.items():\n",
    "        data.categories[category].title = category_title.value\n",
    "        data.categories[category].description = category_description.value\n",
    "        data.categories[category].tags = [tag.strip() for tag in tags.value.split(',')]\n",
    "    with open(file_path, 'w', encoding='utf-8') as file:\n",
    "        file.write(j_dumps(data, indent=4, ensure_ascii=False))\n",
    "\n",
    "# Function to add a new category\n",
    "def add_category(b):\n",
    "    category_name = new_category_name.value.strip()\n",
    "    if category_name and category_name not in data.categories:\n",
    "        data.categories[category_name] = j_loads_ns('{\"title\": \"\", \"description\": \"\", \"tags\": []}')\n",
    "        category_title = widgets.Text(value=\"\", description=f'{category_name} Title:')\n",
    "        category_description = widgets.Text(value=\"\", description=f'{category_name} Description:')\n",
    "        tags = widgets.Text(value=\"\", description=f'{category_name} Tags:')\n",
    "        category_widgets[category_name] = (category_title, category_description, tags)\n",
    "        \n",
    "        category_title.observe(on_change, names='value')\n",
    "        category_description.observe(on_change, names='value')\n",
    "        tags.observe(on_change, names='value')\n",
    "        \n",
    "        display(category_title, category_description, tags)\n",
    "\n",
    "# Function to select a JSON file\n",
    "def select_file(b):\n",
    "    display(Javascript('alert(\"Changes saved to ' + current_file_path + '\")'))\n",
    "    root = Tk()\n",
    "    root.withdraw()  # Hide the root window\n",
    "    file_path = filedialog.askopenfilename(filetypes=[(\"JSON files\", \"*.json\")])\n",
    "    root.destroy()\n",
    "    if file_path:\n",
    "        global data, current_file_path\n",
    "        current_file_path = file_path\n",
    "        data = j_loads_ns(file_path)\n",
    "        clear_widgets()\n",
    "        create_and_display_widgets(data, file_path)\n",
    "\n",
    "# Function to clear existing widgets\n",
    "def clear_widgets():\n",
    "    display_area.clear_output()\n",
    "\n",
    "# Function to create and display widgets\n",
    "def create_and_display_widgets(data, file_path):\n",
    "    global promotion_name, title, category_widgets\n",
    "    promotion_name, title, category_widgets = create_widgets(data)\n",
    "\n",
    "    promotion_name.observe(on_change, names='value')\n",
    "    title.observe(on_change, names='value')\n",
    "    for category, widgets_tuple in category_widgets.items():\n",
    "        for widget in widgets_tuple:\n",
    "            widget.observe(on_change, names='value')\n",
    "\n",
    "    with display_area:\n",
    "        display(promotion_name, title)\n",
    "        for widgets_tuple in category_widgets.values():\n",
    "            display(*widgets_tuple)\n",
    "        display(new_category_name, add_category_button)\n",
    "        display(save_button)\n",
    "\n",
    "# Attach the update function to the input widgets\n",
    "def on_change(change):\n",
    "    update_json(change, data, current_file_path)\n",
    "\n",
    "# Load JSON file button\n",
    "load_button = widgets.Button(description=\"Load JSON File\")\n",
    "load_button.on_click(select_file)\n",
    "\n",
    "# Input field and button to add a new category\n",
    "new_category_name = widgets.Text(value=\"\", description=\"New Category Name:\")\n",
    "add_category_button = widgets.Button(description=\"Add Category\")\n",
    "add_category_button.on_click(add_category)\n",
    "\n",
    "# Save button to manually save the changes\n",
    "save_button = widgets.Button(description=\"Save Changes\")\n",
    "def on_save_button_clicked(b):\n",
    "    update_json(None, data, current_file_path)\n",
    "    print(\"Changes saved to\", current_file_path)\n",
    "\n",
    "save_button.on_click(on_save_button_clicked)\n",
    "\n",
    "# Display the load button\n",
    "display(load_button)\n",
    "\n",
    "# Output area to display widgets\n",
    "display_area = widgets.Output()\n",
    "display(display_area)"
   ]
  },
  {
   "cell_type": "code",
   "execution_count": null,
   "id": "abca472c",
   "metadata": {},
   "outputs": [],
   "source": [
    "pprint(data)"
   ]
  },
  {
   "cell_type": "code",
   "execution_count": null,
   "id": "55485102",
   "metadata": {},
   "outputs": [],
   "source": []
  }
 ],
 "metadata": {
  "kernelspec": {
   "display_name": "Python 3 (ipykernel)",
   "language": "python",
   "name": "python3"
  },
  "language_info": {
   "codemirror_mode": {
    "name": "ipython",
    "version": 3
   },
   "file_extension": ".py",
   "mimetype": "text/x-python",
   "name": "python",
   "nbconvert_exporter": "python",
   "pygments_lexer": "ipython3",
   "version": "3.11.9"
  }
 },
 "nbformat": 4,
 "nbformat_minor": 5
}
