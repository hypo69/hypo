{
 "cells": [
  {
   "cell_type": "markdown",
   "id": "dac2820f",
   "metadata": {},
   "source": [
    "# Модуль для эксперементов с полями товара Алиехпресс"
   ]
  },
  {
   "cell_type": "markdown",
   "id": "f0196e88",
   "metadata": {},
   "source": [
    "## Стартовые установки и импорты"
   ]
  },
  {
   "cell_type": "code",
   "execution_count": null,
   "id": "474fc227-909f-46c5-b9e3-d9d234eea9c8",
   "metadata": {
    "scrolled": true
   },
   "outputs": [],
   "source": [
    "import sys\n",
    "import os\n",
    "from pathlib import Path\n",
    "\n",
    "# Добавляю к переменной путей в ОС (sys.path) путь к корню проекта и путь к файлам программы\n",
    "dir_root : Path = Path (os.getcwd()[:os.getcwd().rfind('hypotez')+8])\n",
    "print (dir_root)\n",
    "sys.path.append (str (dir_root) )  # Добавляю корневую папку в sys.path\n",
    "dir_src = Path (dir_root, 'src')\n",
    "print (dir_src)\n",
    "sys.path.append (str (dir_src) )  # Добавляю рабочую папку в sys.path \n",
    "\n",
    "\n",
    "from suppliers import Supplier\n",
    "from product import Product, ProductFields\n",
    "from tools import StringFormatter, StringNormalizer, StringValidator as SV\n",
    "from helpers import logger, pprint, jprint"
   ]
  },
  {
   "cell_type": "markdown",
   "id": "9f29dc1f",
   "metadata": {},
   "source": [
    "## Поставщик\n",
    "### С поставщиком загрузится и его вебдрайвер. Открытие окна браузера займет некоторое время"
   ]
  },
  {
   "cell_type": "code",
   "execution_count": null,
   "id": "0977f6ec-178a-4c41-ab98-5863935b8442",
   "metadata": {},
   "outputs": [],
   "source": [
    "def start_supplier(supplier_prefix: str = 'aliexpress', locale: str = 'en' ):\n",
    "    \"\"\" Старт поставщика \"\"\"\n",
    "    params: dict = \\\n",
    "    {\n",
    "        'supplier_prefix': supplier_prefix,\n",
    "        'locale': locale\n",
    "    }\n",
    "    \n",
    "    return Supplier(**params)\n",
    "s = start_supplier('aliexpress')"
   ]
  },
  {
   "cell_type": "markdown",
   "id": "f40a8f97",
   "metadata": {},
   "source": [
    "## тестовыe сценарии и набор URL"
   ]
  },
  {
   "cell_type": "code",
   "execution_count": null,
   "id": "f469edf6",
   "metadata": {},
   "outputs": [],
   "source": [
    "test_scenario: dict = {\n",
    "  \"category ID on site\": 40000002781737,\n",
    "  \"brand\": \"APPLE\",\n",
    "  \"url\": \"https://hi5group.aliexpress.com/store/group/iPhone-13-13-mini/1053035_40000002781737.html\",\n",
    "  \"active\": True,\n",
    "  \"condition\": \"new\",\n",
    "  \"presta_categories\": {\n",
    "    \"template\": {\n",
    "      \"apple\": \"iPhone 13\"\n",
    "    },\n",
    "      \"default_category\": { \"11209\": \"MURANO GLASS\" }\n",
    "  },\n",
    "  \n",
    "  \"product combinations\": [\n",
    "    \"bundle\",\n",
    "    \"color\"\n",
    "  ]\n",
    "}\n",
    "\n",
    "test_products_list: list = ['https://s.click.aliexpress.com/e/_oFLpkfz', \n",
    "                        'https://s.click.aliexpress.com/e/_oE5V3d9', \n",
    "                        'https://s.click.aliexpress.com/e/_oDnvttN', \n",
    "                        'https://s.click.aliexpress.com/e/_olWWQCP', \n",
    "                        'https://s.click.aliexpress.com/e/_ok0xeMn']"
   ]
  },
  {
   "cell_type": "markdown",
   "id": "5ecad43d",
   "metadata": {},
   "source": [
    "### Установки для работы с товаром.\n",
    "\n",
    "- `p` - инстанс класса `Product` <br/>\n",
    "- `_l` - словарь локаторов вебэлементов. <br/>\n",
    "Локаторы настроены каждый на свой элемент страницы `html`. Вебдрайвер `Driver` через локаторы исследует целевую страницу<br>\n",
    "- `_d` инстанс класса `Driver`, который подключен к этому поставщику\n",
    "- `_f` инстанс класса `ProductFields`, который принимая значения от `_d` переводит его в словарь полей формата `API PrestaShop`"
   ]
  },
  {
   "cell_type": "code",
   "execution_count": null,
   "id": "0f08cb74",
   "metadata": {},
   "outputs": [],
   "source": [
    "s.current_scenario = test_scenario\n",
    "p = Product(supplier = s)\n",
    "_l : dict = s.locators['product']\n",
    "_d = s.driver\n",
    "_f = p.product_fields"
   ]
  },
  {
   "cell_type": "markdown",
   "id": "069ea685",
   "metadata": {},
   "source": [
    "#### перехожу по URL"
   ]
  },
  {
   "cell_type": "code",
   "execution_count": null,
   "id": "b89e206c",
   "metadata": {},
   "outputs": [],
   "source": [
    "_d.get_url(test_products_list[0])"
   ]
  },
  {
   "cell_type": "markdown",
   "id": "53943c63",
   "metadata": {},
   "source": [
    "#### собираю поля"
   ]
  },
  {
   "cell_type": "code",
   "execution_count": null,
   "id": "ed0f8c0d",
   "metadata": {},
   "outputs": [],
   "source": [
    "_f.supplier_reference = _d.current_url.split('/')[-1].split('.')[0]\n",
    "_f.reference = f'''{s.supplier_id}-{_f.supplier_reference}'''\n",
    "#_f.name = StringNormalizer.normalize_product_name ( _d.execute_locator( _l['name'] )[0])\n",
    "_f.name =  _d.execute_locator( _l['name'] )[0]\n",
    "\n",
    "_category_default = list(s.current_scenario['presta_categories']['default_category'].keys())[0]\n",
    "_f.id_category_default = _category_default\n",
    "\n",
    "_f.id_lang\n",
    "_f.id_manufacturer = s.current_scenario['brand']\n",
    "_f.id_shop_default\n",
    "_f.id_supplier = s.supplier_id\n",
    "_f.id_tax = 13\n",
    "_f.affiliate_short_link = _d.execute_locator (_l['affiliate_short_link'])\n"
   ]
  },
  {
   "cell_type": "code",
   "execution_count": null,
   "id": "43b7d0ee",
   "metadata": {},
   "outputs": [],
   "source": [
    "pprint( _f.name['language'][0]['value'] )"
   ]
  },
  {
   "cell_type": "code",
   "execution_count": null,
   "id": "199bce05",
   "metadata": {},
   "outputs": [],
   "source": [
    "pprint ( _f.id_category_default)"
   ]
  },
  {
   "cell_type": "code",
   "execution_count": null,
   "id": "ff8f3332",
   "metadata": {},
   "outputs": [],
   "source": []
  }
 ],
 "metadata": {
  "kernelspec": {
   "display_name": "Python 3 (ipykernel)",
   "language": "python",
   "name": "python3"
  },
  "language_info": {
   "codemirror_mode": {
    "name": "ipython",
    "version": 3
   },
   "file_extension": ".py",
   "mimetype": "text/x-python",
   "name": "python",
   "nbconvert_exporter": "python",
   "pygments_lexer": "ipython3",
   "version": "3.11.6"
  }
 },
 "nbformat": 4,
 "nbformat_minor": 5
}
