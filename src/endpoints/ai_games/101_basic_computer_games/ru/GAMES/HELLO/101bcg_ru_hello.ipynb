{
  "nbformat": 4,
  "nbformat_minor": 0,
  "metadata": {
    "colab": {
      "provenance": [],
      "authorship_tag": "ABX9TyPQVXX9ijWk70Jm0FTc+Y3E",
      "include_colab_link": true
    },
    "kernelspec": {
      "name": "python3",
      "display_name": "Python 3"
    },
    "language_info": {
      "name": "python"
    }
  },
  "cells": [
    {
      "cell_type": "markdown",
      "metadata": {
        "id": "view-in-github",
        "colab_type": "text"
      },
      "source": [
        "<a href=\"https://colab.research.google.com/github/hypo69/101_python_computer_games_ru/blob/master/GAMES/HELLO/101bcg_ru_hello.ipynb\" target=\"_parent\"><img src=\"https://colab.research.google.com/assets/colab-badge.svg\" alt=\"Open In Colab\"/></a>"
      ]
    },
    {
      "cell_type": "code",
      "source": [
        "# Игра Hello\n",
        "# Эта программа выводит приветствие пользователю.\n",
        "# Это одна из самых простых программ, которая демонстрирует базовые команды Python.\n",
        "\n",
        "# Вывод приветствия на экран\n",
        "print(\"Привет! Добро пожаловать в игру Hello!\")  # Используем функцию print для вывода текста\n",
        "\n",
        "# Запрос имени пользователя\n",
        "name = input(\"Как тебя зовут? \")  # Используем функцию input для получения данных от пользователя\n",
        "\n",
        "# Вывод персонализированного приветствия\n",
        "print(f\"Привет, {name}! Приятно познакомиться!\")  # Используем f-строку для подстановки имени в текст\n",
        "\n",
        "# Дополнительное сообщение\n",
        "print(\"Спасибо за использование программы Hello!\")\n"
      ],
      "metadata": {
        "colab": {
          "base_uri": "https://localhost:8080/"
        },
        "id": "p95qXRqI1613",
        "outputId": "6e48860c-54db-4c83-f109-f9c8f3463abc"
      },
      "execution_count": null,
      "outputs": [
        {
          "output_type": "stream",
          "name": "stdout",
          "text": [
            "Привет! Добро пожаловать в игру Hello!\n",
            "Как тебя зовут? кодер\n",
            "Привет, кодер! Приятно познакомиться!\n",
            "Спасибо за использование программы Hello!\n"
          ]
        }
      ]
    }
  ]
}