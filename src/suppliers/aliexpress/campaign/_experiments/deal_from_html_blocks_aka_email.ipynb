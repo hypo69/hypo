{
 "cells": [
  {
   "cell_type": "code",
   "execution_count": 1,
   "id": "e4e63abe",
   "metadata": {},
   "outputs": [
    {
     "name": "stdout",
     "output_type": "stream",
     "text": [
      "Master password for KeePass database: ········\n"
     ]
    }
   ],
   "source": [
    "\n",
    "import os, sys, re, time\n",
    "from typing import Union\n",
    "from pathlib import Path\n",
    "from selenium.webdriver.remote.webelement import WebElement\n",
    "from selenium import webdriver\n",
    "from selenium.webdriver.common.by import By\n",
    "from selenium.common.exceptions import NoSuchElementException, WebDriverException\n",
    "...\n",
    "dir_root : Path = Path (os.getcwd()[:os.getcwd().rfind('hypotez')+7]) ## <- Корневая директория проекта\n",
    "sys.path.append (str (dir_root) )  # Добавляю корневую директорию в sys.path\n",
    "dir_src = Path (dir_root, 'src') \n",
    "sys.path.append (str (dir_root) ) # Добавляю рабочую директорию в sys.path \n",
    "\n",
    "from src import gs\n",
    "from src.utils import jjson, j_loads, j_dumps,  pprint\n",
    "from src.utils.convertor.xls2dict import xls2dict\n",
    "from src.utils.convertor.json2csv_dict2csv import json2csv\n",
    "from src.logger import logger\n",
    "\n",
    "#from src.suppliers.aliexpress.aliapi import AliApi\n"
   ]
  },
  {
   "cell_type": "code",
   "execution_count": 2,
   "id": "cdc7435f",
   "metadata": {},
   "outputs": [
    {
     "name": "stderr",
     "output_type": "stream",
     "text": [
      "2024-05-25 18:48:50,008 - INFO - \u001b[32m\u001b[40m \n",
      "        CHROME - webdiver just started. \n",
      "        The driver will be selected, settings and profile will be loaded. \n",
      "        On my computer, this will takes about half a minute. Waiting...\n",
      "         None\u001b[0m\n",
      "2024-05-25 18:48:50,425 - INFO - \u001b[32m\u001b[40m--port=9500 None\u001b[0m\n"
     ]
    }
   ],
   "source": [
    "from src.suppliers.aliexpress.aliapi import AliApi\n",
    "l:dict = j_loads(Path(gs.path.src,'suppliers','aliexpress','locators','from_mail.json'))\n",
    "code_blocks_path: Path = Path(gs.dir_root,'tmp','aliexpress','code_blocks_from_mail')\n",
    "pattern = r'/item/(\\d+).html'\n",
    "\n"
   ]
  },
  {
   "cell_type": "code",
   "execution_count": null,
   "id": "ada692c5",
   "metadata": {},
   "outputs": [],
   "source": [
    "class DealsFromEmail(AliApi):\n",
    "    \"\"\"! \"\"\"\n",
    "    def __init__(self,*args,**kwards):\n",
    "        \"\"\"! \"\"\"\n",
    "        super().__init__(*args,**kwards)\n",
    "    \n",
    "    def collect_products_from_html_products_blocks(self, url:str) -> bool:\n",
    "        \"\"\"! Открываю блок html, который а создал из почтовой рассылки\n",
    "        @todo Реализовать получение почты автоматом\n",
    "        \"\"\"\n",
    "        ...\n",
    "        d.get_url(url)\n",
    "        elements: WebElement = d.execute_locator(l['product_blocks'])\n",
    "        element: WebElement = None\n",
    "        \n",
    "        for element in elements:\n",
    "            a = element.find_element(By.TAG_NAME,'a')\n",
    "            match = re.search(pattern, a.get_attribute('href'))\n",
    "            if match:\n",
    "                product_id = match.group(1)\n",
    "            \n",
    "            product_details = self.retrieve_product_details(product_id)\n",
    "            saved_img = save_png(element.screenshot_as_png , Path(gs.dir_tmp,'aliexpress','advertisement',f'{product_id}.png') )\n",
    "            ...\n",
    "    def retrieve_product_details(self, product_id):\n",
    "        return self.retrieve_product_details(product_id)"
   ]
  },
  {
   "cell_type": "code",
   "execution_count": null,
   "id": "4896e3bd",
   "metadata": {},
   "outputs": [],
   "source": [
    "deal = DealsFromEmail()\n"
   ]
  },
  {
   "cell_type": "code",
   "execution_count": null,
   "id": "e03059f7",
   "metadata": {},
   "outputs": [],
   "source": [
    "path = fr'file:///C:/Users/user/Documents/repos/hypotez/tmp/aliexpress/code_blocks_from_mail/2405241618.html'"
   ]
  },
  {
   "cell_type": "code",
   "execution_count": null,
   "id": "35203922",
   "metadata": {},
   "outputs": [],
   "source": [
    "d.get_url(path)"
   ]
  },
  {
   "cell_type": "code",
   "execution_count": null,
   "id": "019389d6",
   "metadata": {},
   "outputs": [],
   "source": [
    "elements  = d.execute_locator(l['product_blocks'])"
   ]
  },
  {
   "cell_type": "code",
   "execution_count": null,
   "id": "408d57df",
   "metadata": {},
   "outputs": [],
   "source": [
    "\n",
    "i:int = 0\n",
    "pattern = r'/item/(\\d+).html'\n",
    "prod_ids: list = []\n",
    "for element in elements:\n",
    "    i+=1\n",
    "    \n",
    "    a = element.find_element(By.TAG_NAME,'a')\n",
    "    match = re.search(pattern, a.get_attribute('href'))\n",
    "    if match:\n",
    "        product_id = match.group(1)\n",
    "        saved_img = save_png(element.screenshot_as_png , Path(gs.dir_tmp,'aliexpress','advertisement',f'{product_id}.png') )\n",
    "        prod_details = deal.retrieve_product_details(product_id)\n",
    "        pprint(prod_details)\n",
    "        prod_ids.append(product_id)\n",
    "    pprint(product_id)\n",
    "    time.sleep(1)"
   ]
  },
  {
   "cell_type": "code",
   "execution_count": null,
   "id": "31b00c75",
   "metadata": {},
   "outputs": [],
   "source": [
    "print(prod_ids)"
   ]
  },
  {
   "cell_type": "code",
   "execution_count": null,
   "id": "2bf0ba23",
   "metadata": {},
   "outputs": [],
   "source": []
  }
 ],
 "metadata": {
  "kernelspec": {
   "display_name": "Python 3 (ipykernel)",
   "language": "python",
   "name": "python3"
  },
  "language_info": {
   "codemirror_mode": {
    "name": "ipython",
    "version": 3
   },
   "file_extension": ".py",
   "mimetype": "text/x-python",
   "name": "python",
   "nbconvert_exporter": "python",
   "pygments_lexer": "ipython3",
   "version": "3.11.9"
  }
 },
 "nbformat": 4,
 "nbformat_minor": 5
}
