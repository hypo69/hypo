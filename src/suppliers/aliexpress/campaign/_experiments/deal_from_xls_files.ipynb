{
 "cells": [
  {
   "cell_type": "code",
   "execution_count": null,
   "id": "5936cb41",
   "metadata": {},
   "outputs": [],
   "source": [
    "import header\n",
    "from src.utils import pprint\n",
    "from src.suppliers.aliexpress import DealsFromXLS"
   ]
  },
  {
   "cell_type": "code",
   "execution_count": null,
   "id": "42e9dede",
   "metadata": {},
   "outputs": [],
   "source": [
    "deals_parser = DealsFromXLS(language='EN', currency= 'USD')"
   ]
  },
  {
   "cell_type": "code",
   "execution_count": null,
   "id": "0f9c7661",
   "metadata": {},
   "outputs": [],
   "source": [
    "deal = deals_parser.get_next_deal()"
   ]
  }
 ],
 "metadata": {
  "kernelspec": {
   "display_name": "Python 3 (ipykernel)",
   "language": "python",
   "name": "python3"
  },
  "language_info": {
   "codemirror_mode": {
    "name": "ipython",
    "version": 3
   },
   "file_extension": ".py",
   "mimetype": "text/x-python",
   "name": "python",
   "nbconvert_exporter": "python",
   "pygments_lexer": "ipython3",
   "version": "3.11.9"
  }
 },
 "nbformat": 4,
 "nbformat_minor": 5
}
