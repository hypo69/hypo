{
  "nbformat": 4,
  "nbformat_minor": 0,
  "metadata": {
    "colab": {
      "provenance": [],
      "authorship_tag": "ABX9TyM0S92JZ5ce84M9hy6MH8fa",
      "include_colab_link": true
    },
    "kernelspec": {
      "name": "python3",
      "display_name": "Python 3"
    },
    "language_info": {
      "name": "python"
    }
  },
  "cells": [
    {
      "cell_type": "markdown",
      "metadata": {
        "id": "view-in-github",
        "colab_type": "text"
      },
      "source": [
        "<a href=\"https://colab.research.google.com/github/hypo69/101-python-ru/blob/master/GAMES/MUSICMATH/music_math.ipynb\" target=\"_parent\"><img src=\"https://colab.research.google.com/assets/colab-badge.svg\" alt=\"Open In Colab\"/></a>"
      ]
    },
    {
      "cell_type": "code",
      "execution_count": null,
      "metadata": {
        "colab": {
          "base_uri": "https://localhost:8080/"
        },
        "collapsed": true,
        "id": "CSI-ZJGpzffY",
        "outputId": "6795c237-d881-4fa5-b26b-11e47dd9e252",
        "cellView": "form"
      },
      "outputs": [
        {
          "output_type": "stream",
          "name": "stdout",
          "text": [
            "---------------------------------------------------------\n",
            "Примеры вычисления частот нот:\n",
            "Частота ноты A4: 440.00 Hz\n",
            "Частота ноты C5: 523.25 Hz\n",
            "Частота ноты A3: 220.00 Hz\n",
            "---------------------------------------------------------\n",
            "Примеры вычисления интервалов:\n",
            "Отношение частот между A4 и C5: 44/37\n",
            "Отношение частот между A4 и A5: 2\n",
            "Отношение частот между C4 и G4: 3/2\n",
            "---------------------------------------------------------\n",
            "Примеры расчета длительности нот:\n",
            "Длительность четвертной ноты при темпе 120 BPM: 0.125 сек.\n",
            "Длительность половинной ноты при темпе 60 BPM: 0.500 сек.\n",
            "Длительность целой ноты при темпе 100 BPM: 0.600 сек.\n",
            "---------------------------------------------------------\n",
            "Пример расчета общей длительности музыкального фрагмента:\n",
            "Длительность 4х тактов по 4/4 при 120BPM: 8.000 сек\n",
            "---------------------------------------------------------\n",
            "Пример расчета продолжительности ритмического паттерна:\n",
            "Длительность ритма 4/4 с нотами [0.25, 0.25, 0.5]: 1.00 целых нот\n",
            "Длительность ритма 2/4 с нотами [0.125, 0.125, 0.25]: 0.25 целых нот\n",
            "---------------------------------------------------------\n",
            "---------------------------------------------------------\n",
            "Пример определения номера ноты по частоте:\n",
            "Номер ноты для частоты 440.00 Hz: 0 (A4=0)\n",
            "Номер ноты для частоты 261.63 Hz: -9 (C4=-9)\n",
            "---------------------------------------------------------\n",
            "---------------------------------------------------------\n",
            "Пример генерации частот гаммы:\n",
            "Частоты нот мажорной гаммы от C4 (C, D, E, F, G, A, B):\n",
            "261.63 Hz, 293.66 Hz, 329.63 Hz, 349.23 Hz, 392.00 Hz, 440.00 Hz, 493.88 Hz, \n",
            "---------------------------------------------------------\n",
            "---------------------------------------------------------\n",
            "Пример расчета отклонения от целевой частоты:\n",
            "Отклонение 442.00 Hz от 440.00 Hz: 0.45%\n",
            "Отклонение 260.00 Hz от 261.63 Hz: -0.62%\n",
            "---------------------------------------------------------\n",
            "---------------------------------------------------------\n",
            "Пример определения информации о ноте:\n",
            "Частота 440.00 Hz, соответствует ноте A4, номер 0\n",
            "Частота 329.63 Hz, соответствует ноте E3, номер -5\n",
            "---------------------------------------------------------\n",
            "Пример использования тюнера:\n",
            "Занижение на 0.45%. Нужно повысить\n",
            "Завышение на 0.14%. Нужно понизить\n",
            "Идеально настроено!\n",
            "---------------------------------------------------------\n",
            "\n",
            "--- Примеры с вводом пользователя ---\n"
          ]
        }
      ],
      "source": [
        "# @title Модуль MusicMath: примеры связи математики и музыки.\n",
        "\n",
        "\"\"\"\n",
        "Модуль MusicMath: примеры связи математики и музыки.\n",
        "\"\"\"\n",
        "import math\n",
        "from fractions import Fraction\n",
        "import re\n",
        "\n",
        "def calculate_frequency(note_number, concert_a_freq=440.0):\n",
        "    \"\"\"\n",
        "    Вычисляет частоту ноты, зная её номер в хроматической гамме.\n",
        "\n",
        "    Args:\n",
        "        note_number (int): Номер ноты относительно A4 (A4 = 0).\n",
        "        concert_a_freq (float, optional): Частота ноты A4. Defaults to 440.0.\n",
        "\n",
        "    Returns:\n",
        "        float: Частота ноты в герцах.\n",
        "    \"\"\"\n",
        "    return concert_a_freq * math.pow(2, note_number / 12)\n",
        "\n",
        "def calculate_interval_ratio(note1_number, note2_number):\n",
        "    \"\"\"\n",
        "    Вычисляет отношение частот между двумя нотами, зная их номера.\n",
        "\n",
        "    Args:\n",
        "        note1_number (int): Номер первой ноты.\n",
        "        note2_number (int): Номер второй ноты.\n",
        "\n",
        "    Returns:\n",
        "         str: Отношение частот в виде простой дроби.\n",
        "    \"\"\"\n",
        "    freq1 = calculate_frequency(note1_number)\n",
        "    freq2 = calculate_frequency(note2_number)\n",
        "    ratio = freq2/freq1 if freq2>freq1 else freq1/freq2\n",
        "    fraction_ratio = Fraction(ratio).limit_denominator(100)  # Limit to reasonable denominators\n",
        "    return str(fraction_ratio)\n",
        "\n",
        "def calculate_tempo_duration(bpm, beat_length, beats):\n",
        "     \"\"\"\n",
        "    Вычисляет общую продолжительность в секундах музыкального фрагмента.\n",
        "\n",
        "    Args:\n",
        "         bpm (int): Темп в ударах в минуту.\n",
        "         beat_length(float): Продолжительность одного удара в секундах.\n",
        "         beats (int): Количество ударов в музыкальном фрагменте.\n",
        "\n",
        "    Returns:\n",
        "        float: Общая продолжительность фрагмента в секундах.\n",
        "    \"\"\"\n",
        "     return beat_length*beats\n",
        "\n",
        "def calculate_note_duration(tempo, note_value):\n",
        "    \"\"\"\n",
        "    Вычисляет длительность ноты в секундах.\n",
        "\n",
        "    Args:\n",
        "        tempo (int): Темп в ударах в минуту.\n",
        "        note_value (float): Длительность ноты относительно целой ноты (1.0 = целая, 0.5 = половинная, 0.25 = четвертная и т.д.).\n",
        "\n",
        "    Returns:\n",
        "        float: Длительность ноты в секундах.\n",
        "    \"\"\"\n",
        "    beat_duration = 60 / tempo\n",
        "    return beat_duration * note_value\n",
        "\n",
        "def calculate_rhythm_pattern(bar_length, note_values):\n",
        "    \"\"\"\n",
        "    Рассчитывает общую продолжительность ритмического паттерна в секундах.\n",
        "\n",
        "    Args:\n",
        "         bar_length (float): Длительность такта в количестве целых нот.\n",
        "         note_values (list): Список длительностей нот (относительно целой ноты)\n",
        "\n",
        "    Returns:\n",
        "         float: Общая длительность ритмического паттерна в секундах.\n",
        "    \"\"\"\n",
        "    pattern_duration = 0\n",
        "    for value in note_values:\n",
        "       pattern_duration += bar_length * value\n",
        "    return pattern_duration\n",
        "\n",
        "def calculate_note_number(frequency, concert_a_freq=440.0):\n",
        "    \"\"\"\n",
        "    Вычисляет номер ноты в хроматической гамме на основе частоты.\n",
        "\n",
        "    Args:\n",
        "        frequency (float): Частота ноты в герцах.\n",
        "        concert_a_freq (float, optional): Частота ноты A4. Defaults to 440.0.\n",
        "\n",
        "    Returns:\n",
        "        int: Номер ноты относительно A4 (A4 = 0).\n",
        "    \"\"\"\n",
        "    return round(12 * math.log2(frequency / concert_a_freq))\n",
        "\n",
        "def generate_scale_frequencies(root_note_number, scale_pattern, concert_a_freq=440.0):\n",
        "    \"\"\"\n",
        "    Генерирует частоты нот заданной гаммы.\n",
        "\n",
        "    Args:\n",
        "        root_note_number (int): Номер корневой ноты.\n",
        "        scale_pattern (list): Шаблон гаммы (последовательность полутонов).\n",
        "        concert_a_freq (float, optional): Частота ноты A4. Defaults to 440.0.\n",
        "\n",
        "    Returns:\n",
        "        list: Список частот нот в гамме.\n",
        "    \"\"\"\n",
        "    frequencies = []\n",
        "    current_note = root_note_number\n",
        "    for interval in scale_pattern:\n",
        "        frequencies.append(calculate_frequency(current_note, concert_a_freq))\n",
        "        current_note += interval\n",
        "    return frequencies\n",
        "\n",
        "def calculate_tuning_deviation(target_frequency, actual_frequency):\n",
        "    \"\"\"\n",
        "    Вычисляет отклонение частоты от целевой в процентах.\n",
        "\n",
        "    Args:\n",
        "        target_frequency (float): Целевая частота.\n",
        "        actual_frequency (float): Фактическая частота.\n",
        "\n",
        "    Returns:\n",
        "        float: Процент отклонения.\n",
        "    \"\"\"\n",
        "    return ((actual_frequency - target_frequency) / target_frequency) * 100\n",
        "\n",
        "def get_note_name(note_number):\n",
        "    \"\"\"\n",
        "    Возвращает название ноты по её номеру в хроматической гамме.\n",
        "\n",
        "    Args:\n",
        "        note_number (int): Номер ноты относительно A4 (A4 = 0).\n",
        "\n",
        "    Returns:\n",
        "        str: Название ноты (например, \"A4\", \"C#5\", \"Bb3\").\n",
        "    \"\"\"\n",
        "    notes = [\"A\", \"A#\", \"B\", \"C\", \"C#\", \"D\", \"D#\", \"E\", \"F\", \"F#\", \"G\", \"G#\"]\n",
        "    octave = (note_number // 12) + 4  # A4 является 0, поэтому добавляем 4\n",
        "    note_index = note_number % 12\n",
        "    return f\"{notes[note_index]}{octave}\"\n",
        "\n",
        "def get_note_info_from_freq(freq):\n",
        "    \"\"\"\n",
        "    Выводит информацию о ноте по её частоте.\n",
        "\n",
        "    Args:\n",
        "        freq (float): Частота ноты в герцах.\n",
        "    \"\"\"\n",
        "    note_num = calculate_note_number(freq)\n",
        "    note_name = get_note_name(note_num)\n",
        "    print(f\"Частота {freq:.2f} Hz, соответствует ноте {note_name}, номер {note_num}\")\n",
        "\n",
        "\n",
        "def tune_instrument(target_freq, actual_freq):\n",
        "    \"\"\"\n",
        "    Выводит информацию о том, насколько инструмент отклоняется от целевой частоты.\n",
        "\n",
        "    Args:\n",
        "        target_freq (float): Целевая частота.\n",
        "        actual_freq (float): Фактическая частота.\n",
        "    \"\"\"\n",
        "    dev = calculate_tuning_deviation(target_freq, actual_freq)\n",
        "    if dev > 0:\n",
        "        print(f\"Завышение на {dev:.2f}%. Нужно понизить\")\n",
        "    elif dev < 0:\n",
        "        print(f\"Занижение на {abs(dev):.2f}%. Нужно повысить\")\n",
        "    else:\n",
        "        print(\"Идеально настроено!\")\n",
        "\n",
        "def note_name_to_number(note_name):\n",
        "    \"\"\"\n",
        "    Преобразует название ноты (например, \"A4\") в её номер относительно A4 (A4 = 0).\n",
        "\n",
        "    Args:\n",
        "        note_name (str): Название ноты (например, \"A4\", \"C#5\", \"Bb3\").\n",
        "\n",
        "    Returns:\n",
        "        int: Номер ноты относительно A4 (A4 = 0), или None, если ввод некорректен.\n",
        "    \"\"\"\n",
        "    notes = [\"A\", \"A#\", \"B\", \"C\", \"C#\", \"D\", \"D#\", \"E\", \"F\", \"F#\", \"G\", \"G#\"]\n",
        "    match = re.match(r\"([A-Ga-g]#?)(-?\\d+)\", note_name)\n",
        "    if not match:\n",
        "        return None\n",
        "    note = match.group(1).upper()\n",
        "    octave = int(match.group(2))\n",
        "\n",
        "    try:\n",
        "        note_index = notes.index(note)\n",
        "    except ValueError:\n",
        "        return None\n",
        "\n",
        "    return (octave - 4) * 12 + note_index\n",
        "\n",
        "def find_nearest_notes(frequency, concert_a_freq=440.0):\n",
        "    \"\"\"\n",
        "    Находит две ближайшие ноты (сверху и снизу) к заданной частоте.\n",
        "\n",
        "    Args:\n",
        "        frequency (float): Частота ноты в герцах.\n",
        "        concert_a_freq (float, optional): Частота ноты A4. Defaults to 440.0.\n",
        "\n",
        "    Returns:\n",
        "      tuple: кортеж (имя нижней ноты, имя верхней ноты).\n",
        "    \"\"\"\n",
        "    note_number = 12 * math.log2(frequency / concert_a_freq)\n",
        "    lower_note_num = math.floor(note_number)\n",
        "    upper_note_num = math.ceil(note_number)\n",
        "\n",
        "    lower_note_name = get_note_name(lower_note_num)\n",
        "    upper_note_name = get_note_name(upper_note_num)\n",
        "    return lower_note_name, upper_note_name\n",
        "def print_musical_examples():\n",
        "    \"\"\"\n",
        "    Выводит примеры использования функций.\n",
        "    \"\"\"\n",
        "    print(\"---------------------------------------------------------\")\n",
        "    print(\"Примеры вычисления частот нот:\")\n",
        "    print(f\"Частота ноты A4: {calculate_frequency(0):.2f} Hz\")\n",
        "    print(f\"Частота ноты C5: {calculate_frequency(3):.2f} Hz\")  # C5 на 3 полутона выше A4\n",
        "    print(f\"Частота ноты A3: {calculate_frequency(-12):.2f} Hz\") # A3 на 12 полутона ниже A4\n",
        "    print(\"---------------------------------------------------------\")\n",
        "    print(\"Примеры вычисления интервалов:\")\n",
        "    print(f\"Отношение частот между A4 и C5: {calculate_interval_ratio(0, 3)}\")\n",
        "    print(f\"Отношение частот между A4 и A5: {calculate_interval_ratio(0, 12)}\")\n",
        "    print(f\"Отношение частот между C4 и G4: {calculate_interval_ratio(-9, -2)}\")\n",
        "    print(\"---------------------------------------------------------\")\n",
        "    print(\"Примеры расчета длительности нот:\")\n",
        "    print(f\"Длительность четвертной ноты при темпе 120 BPM: {calculate_note_duration(120, 0.25):.3f} сек.\")\n",
        "    print(f\"Длительность половинной ноты при темпе 60 BPM: {calculate_note_duration(60, 0.5):.3f} сек.\")\n",
        "    print(f\"Длительность целой ноты при темпе 100 BPM: {calculate_note_duration(100, 1):.3f} сек.\")\n",
        "    print(\"---------------------------------------------------------\")\n",
        "    print(\"Пример расчета общей длительности музыкального фрагмента:\")\n",
        "    print(f\"Длительность 4х тактов по 4/4 при 120BPM: {calculate_tempo_duration(120, 0.5, 16):.3f} сек\")\n",
        "    print(\"---------------------------------------------------------\")\n",
        "    print(\"Пример расчета продолжительности ритмического паттерна:\")\n",
        "    print(f\"Длительность ритма 4/4 с нотами [0.25, 0.25, 0.5]: {calculate_rhythm_pattern(1, [0.25, 0.25, 0.5]):.2f} целых нот\")\n",
        "    print(f\"Длительность ритма 2/4 с нотами [0.125, 0.125, 0.25]: {calculate_rhythm_pattern(0.5, [0.125, 0.125, 0.25]):.2f} целых нот\")\n",
        "    print(\"---------------------------------------------------------\")\n",
        "\n",
        "    print(\"---------------------------------------------------------\")\n",
        "    print(\"Пример определения номера ноты по частоте:\")\n",
        "    freq_example = 440.0\n",
        "    note_number_example = calculate_note_number(freq_example)\n",
        "    print(f\"Номер ноты для частоты {freq_example:.2f} Hz: {note_number_example} (A4=0)\")\n",
        "    freq_example = 261.63\n",
        "    note_number_example = calculate_note_number(freq_example)\n",
        "    print(f\"Номер ноты для частоты {freq_example:.2f} Hz: {note_number_example} (C4=-9)\")\n",
        "    print(\"---------------------------------------------------------\")\n",
        "\n",
        "    print(\"---------------------------------------------------------\")\n",
        "    print(\"Пример генерации частот гаммы:\")\n",
        "    major_scale = [2, 2, 1, 2, 2, 2, 1]  # Шаблон мажорной гаммы\n",
        "    c_major_freqs = generate_scale_frequencies(-9, major_scale) # C4 = -9\n",
        "    print(\"Частоты нот мажорной гаммы от C4 (C, D, E, F, G, A, B):\")\n",
        "    for freq in c_major_freqs:\n",
        "        print(f\"{freq:.2f} Hz\", end=\", \")\n",
        "    print(\"\\n---------------------------------------------------------\")\n",
        "\n",
        "    print(\"---------------------------------------------------------\")\n",
        "    print(\"Пример расчета отклонения от целевой частоты:\")\n",
        "    target_freq = 440.0\n",
        "    actual_freq = 442.0\n",
        "    deviation = calculate_tuning_deviation(target_freq, actual_freq)\n",
        "    print(f\"Отклонение {actual_freq:.2f} Hz от {target_freq:.2f} Hz: {deviation:.2f}%\")\n",
        "    target_freq = 261.63\n",
        "    actual_freq = 260\n",
        "    deviation = calculate_tuning_deviation(target_freq, actual_freq)\n",
        "    print(f\"Отклонение {actual_freq:.2f} Hz от {target_freq:.2f} Hz: {deviation:.2f}%\")\n",
        "    print(\"---------------------------------------------------------\")\n",
        "    print(\"---------------------------------------------------------\")\n",
        "    print(\"Пример определения информации о ноте:\")\n",
        "    get_note_info_from_freq(440.0)\n",
        "    get_note_info_from_freq(329.63)\n",
        "    print(\"---------------------------------------------------------\")\n",
        "    print(\"Пример использования тюнера:\")\n",
        "    tune_instrument(440.0,438.0)\n",
        "    tune_instrument(261.63, 262.0)\n",
        "    tune_instrument(440.0, 440.0)\n",
        "    print(\"---------------------------------------------------------\")\n",
        "\n",
        "if __name__ == \"__main__\":\n",
        "    print_musical_examples()\n",
        "\n",
        "    # Примеры с вводом пользователя (вне print_musical_examples):\n",
        "    print(\"\\n--- Примеры с вводом пользователя ---\")\n",
        "\n"
      ]
    },
    {
      "cell_type": "code",
      "source": [
        "\"\"\"\n",
        "\n",
        "           Пример 1:\n",
        "           В музыке каждая нота имеет свою уникальную частоту, измеряемую в герцах (Гц).\n",
        "           Например, нота A4 (ля четвертой октавы) обычно имеет частоту 440 Гц.\n",
        "           Этот блок кода демонстрирует использование функции calculate_frequency для вычисления частоты ноты.\n",
        "\n",
        "\"\"\"\n",
        "\n",
        "\n",
        "print(\"\\nПример calculate_frequency:\")\n",
        "# Запрашиваем у пользователя ввод имени ноты (например, A4, C#5, Bb3).\n",
        "note_name = input(\"Введите ноту (например, A4, C#5, Bb3): \")\n",
        "# Преобразуем имя ноты в числовой формат, который может быть использован в функции calculate_frequency.\n",
        "note_num = note_name_to_number(note_name)\n",
        "# Проверяем, было ли преобразование успешным. Если note_name_to_number вернула None, значит, формат ноты некорректный.\n",
        "if note_num is None:\n",
        "  print(\"Некорректный формат ноты.\")\n",
        "else:\n",
        "  # Если преобразование прошло успешно, вычисляем частоту ноты, используя функцию calculate_frequency из music_math.\n",
        "  # Предполагается, что переменная concert_a определена где-то ранее и содержит частоту эталонной ноты A4 (обычно 440 Гц).\n",
        "  freq = calculate_frequency(note_num, concert_a)\n",
        "  # Выводим результат вычисления - частоту ноты в герцах с двумя знаками после запятой.\n",
        "  print(f\"Частота ноты: {freq:.2f} Hz\")"
      ],
      "metadata": {
        "colab": {
          "base_uri": "https://localhost:8080/"
        },
        "id": "tJxunGH7z9mM",
        "outputId": "c5c1a0d6-d6c9-4f3a-9a23-2987c8c625b9"
      },
      "execution_count": null,
      "outputs": [
        {
          "output_type": "stream",
          "name": "stdout",
          "text": [
            "\n",
            "Пример calculate_frequency:\n",
            "Введите ноту (например, A4, C#5, Bb3): a5\n",
            "Частота ноты: 880.00 Hz\n"
          ]
        }
      ]
    },
    {
      "cell_type": "code",
      "source": [
        "\"\"\"\n",
        "\n",
        "           Пример 2:\n",
        "           Интервал в музыке - это расстояние между двумя нотами. Это расстояние может быть выражено через отношение их частот.\n",
        "           Например, октава имеет отношение частот 2:1, а квинта - 3:2.\n",
        "           Этот блок кода демонстрирует использование функции calculate_interval_ratio для вычисления отношения частот между двумя нотами.\n",
        "\n",
        "\"\"\"\n",
        "\n",
        "\n",
        "print(\"\\nПример calculate_interval_ratio:\")\n",
        "# Запрашиваем у пользователя ввод имени первой ноты (например, A4).\n",
        "note1_name = input(\"Введите первую ноту (например, A4): \")\n",
        "# Запрашиваем у пользователя ввод имени второй ноты (например, C5).\n",
        "note2_name = input(\"Введите вторую ноту (например, C5): \")\n",
        "# Преобразуем имена нот в числовой формат.\n",
        "note1_num = note_name_to_number(note1_name)\n",
        "note2_num = note_name_to_number(note2_name)\n",
        "# Проверяем, было ли преобразование успешным для обеих нот.\n",
        "if note1_num is None or note2_num is None:\n",
        "  print(\"Некорректный формат ноты.\")\n",
        "else:\n",
        "  # Если преобразование прошло успешно, вычисляем отношение частот между двумя нотами.\n",
        "  ratio = calculate_interval_ratio(note1_num, note2_num)\n",
        "  # Выводим результат вычисления - отношение частот в виде простой дроби.\n",
        "  print(f\"Отношение частот: {ratio}\")"
      ],
      "metadata": {
        "colab": {
          "base_uri": "https://localhost:8080/"
        },
        "id": "TPWd_Mzz0Gu7",
        "outputId": "d63a0f70-ded5-4fa9-c0db-0240342aa226"
      },
      "execution_count": null,
      "outputs": [
        {
          "output_type": "stream",
          "name": "stdout",
          "text": [
            "\n",
            "Пример calculate_interval_ratio:\n",
            "Введите первую ноту (например, A4): a5\n",
            "Введите вторую ноту (например, C5): c8\n",
            "Отношение частот: 352/37\n"
          ]
        }
      ]
    },
    {
      "cell_type": "code",
      "source": [
        "\"\"\"\n",
        "\n",
        "           Пример 3:\n",
        "           Длительность ноты в музыке определяет, как долго она звучит.\n",
        "           Длительность ноты обычно выражается относительно целой ноты (1).\n",
        "           Например, половинная нота имеет длительность 1/2, а четвертная - 1/4.\n",
        "           Этот блок кода демонстрирует использование функции calculate_note_duration для вычисления длительности ноты в секундах.\n",
        "\n",
        "\"\"\"\n",
        "\n",
        "print(\"\\nПример calculate_note_duration:\")\n",
        "# Запрашиваем у пользователя ввод темпа в ударах в минуту (BPM).\n",
        "tempo = int(input(\"Введите темп (BPM): \"))\n",
        "# Запрашиваем у пользователя ввод длительности ноты (например, 1, 1/2, 1/4).\n",
        "note_val_str = input(\"Введите длительность ноты (например, 1, 1/2, 1/4): \")\n",
        "# Преобразуем введенную строку с длительностью ноты в числовое значение (float).\n",
        "# Используем Fraction для корректной обработки дробей.\n",
        "note_val = float(Fraction(note_val_str))\n",
        "# Вычисляем длительность ноты в секундах.\n",
        "note_duration = calculate_note_duration(tempo, note_val)\n",
        "# Выводим результат вычисления - длительность ноты в секундах, округленную до трех знаков после запятой.\n",
        "print(f\"Длительность ноты: {note_duration:.3f} сек.\")"
      ],
      "metadata": {
        "colab": {
          "base_uri": "https://localhost:8080/"
        },
        "id": "fBFkvo3k0KAe",
        "outputId": "ae42ee7f-8906-40aa-9dbe-4764736fdbf1"
      },
      "execution_count": null,
      "outputs": [
        {
          "output_type": "stream",
          "name": "stdout",
          "text": [
            "\n",
            "Пример calculate_note_duration:\n",
            "Введите темп (BPM): 500\n",
            "Введите длительность ноты (например, 1, 1/2, 1/4): 1/2\n",
            "Длительность ноты: 0.060 сек.\n"
          ]
        }
      ]
    },
    {
      "cell_type": "code",
      "source": [
        "\"\"\"\n",
        "\n",
        "           Пример 4:\n",
        "           Общая длительность музыкального фрагмента зависит от темпа, длительности одного удара и количества ударов.\n",
        "           Темп измеряется в ударах в минуту (BPM).\n",
        "           Этот блок кода демонстрирует использование функции calculate_tempo_duration для вычисления общей длительности музыкального фрагмента.\n",
        "\n",
        "\"\"\"\n",
        "\n",
        "\n",
        "print(\"\\nПример calculate_tempo_duration:\")\n",
        "# Запрашиваем у пользователя ввод темпа в ударах в минуту (BPM).\n",
        "bpm = int(input(\"Введите темп (BPM): \"))\n",
        "# Запрашиваем у пользователя ввод длительности одного удара в секундах.\n",
        "beat_len = float(input(\"Введите длительность одного удара (в секундах): \"))\n",
        "# Запрашиваем у пользователя ввод общего количества ударов.\n",
        "beats = int(input(\"Введите количество ударов: \"))\n",
        "# Вычисляем общую длительность музыкального фрагмента в секундах.\n",
        "duration = calculate_tempo_duration(bpm, beat_len, beats)\n",
        "# Выводим результат вычисления - общую длительность в секундах, округленную до двух знаков после запятой.\n",
        "print(f\"Общая длительность: {duration:.2f} сек.\")"
      ],
      "metadata": {
        "colab": {
          "base_uri": "https://localhost:8080/"
        },
        "id": "i7sqAkIT0Nlk",
        "outputId": "6b679c85-2f46-491a-d546-b19c0de5bb95"
      },
      "execution_count": null,
      "outputs": [
        {
          "output_type": "stream",
          "name": "stdout",
          "text": [
            "\n",
            "Пример calculate_tempo_duration:\n",
            "Введите темп (BPM): 500\n",
            "Введите длительность одного удара (в секундах): 2\n",
            "Введите количество ударов: 8\n",
            "Общая длительность: 16.00 сек.\n"
          ]
        }
      ]
    },
    {
      "cell_type": "code",
      "source": [
        "\"\"\"\n",
        "\n",
        "           Пример 5:\n",
        "           Ритмический паттерн - это последовательность нот с определенными длительностями.\n",
        "           Длительность паттерна зависит от длительности такта и длительностей нот в нём.\n",
        "           Этот блок кода демонстрирует использование функции calculate_rhythm_pattern для вычисления общей длительности ритмического паттерна.\n",
        "\n",
        "\"\"\"\n",
        "\n",
        "\n",
        "print(\"\\nПример calculate_rhythm_pattern:\")\n",
        "# Запрашиваем у пользователя ввод длительности такта в целых нотах.\n",
        "bar_len = float(input(\"Введите длительность такта (в целых нотах): \"))\n",
        "# Запрашиваем у пользователя ввод длительностей нот в виде строки, разделенной запятыми (например, 1/4, 1/4, 1/2).\n",
        "note_values_str = input(\"Введите длительности нот через запятую (например, 1/4, 1/4, 1/2): \")\n",
        "# Преобразуем строку с длительностями нот в список числовых значений.\n",
        "# Используем Fraction для корректной обработки дробей и float для преобразования в числа с плавающей точкой.\n",
        "note_values = [float(Fraction(x)) for x in note_values_str.split(\",\")]\n",
        "# Вычисляем общую длительность ритмического паттерна в целых нотах.\n",
        "pattern_duration = calculate_rhythm_pattern(bar_len, note_values)\n",
        "# Выводим результат вычисления - длительность ритма в целых нотах, округленную до двух знаков после запятой.\n",
        "print(f\"Длительность ритма: {pattern_duration:.2f} целых нот\")"
      ],
      "metadata": {
        "colab": {
          "base_uri": "https://localhost:8080/"
        },
        "id": "bGv36MMn4YBy",
        "outputId": "38b8d94b-8db5-4906-9f39-4d6537c51635"
      },
      "execution_count": null,
      "outputs": [
        {
          "output_type": "stream",
          "name": "stdout",
          "text": [
            "\n",
            "Пример calculate_rhythm_pattern:\n",
            "Введите длительность такта (в целых нотах): 4\n",
            "Введите длительности нот через запятую (например, 1/4, 1/4, 1/2): 1/2,1/8,1/4\n",
            "Длительность ритма: 3.50 целых нот\n"
          ]
        }
      ]
    },
    {
      "cell_type": "code",
      "source": [
        "\"\"\"\n",
        "\n",
        "           Пример 6:\n",
        "           Каждая нота в музыкальной шкале имеет свою частоту.\n",
        "           Зная частоту, можно определить соответствующую ей ноту в хроматической гамме.\n",
        "           Этот блок кода демонстрирует использование функции calculate_note_number для определения номера ноты по её частоте.\n",
        "\n",
        "\"\"\"\n",
        "print(\"\\nПример calculate_note_number:\")\n",
        "# Запрашиваем у пользователя ввод частоты в герцах (Гц).\n",
        "freq = float(input(\"Введите частоту (Гц): \"))\n",
        "# Устанавливаем частоту ноты A4 (по умолчанию 440.0 Гц) - константа\n",
        "concert_a = 440.0\n",
        "# Вычисляем номер ноты в хроматической гамме на основе введенной частоты.\n",
        "note_number = calculate_note_number(freq, concert_a)\n",
        "# Получаем название ноты по её номеру.\n",
        "note_name = get_note_name(note_number)\n",
        "# Находим ближайшие ноты (снизу и сверху) к заданной частоте.\n",
        "lower_note, upper_note = find_nearest_notes(freq, concert_a)\n",
        "\n",
        "# Проверяем, насколько близка вычисленная нота к заданной частоте. Если разница в частотах незначительна выводим одну ноту\n",
        "if  abs(calculate_frequency(note_number)-freq) < 0.01 :\n",
        "    # Выводим название ближайшей ноты.\n",
        "    print(f\"Ближайшая нота: {note_name}\")\n",
        "else:\n",
        "    # Если частота не соответствует точно, выводим названия ближайших нот снизу и сверху.\n",
        "    print(f\"Ближайшие ноты: {lower_note} (снизу), {upper_note} (сверху)\")"
      ],
      "metadata": {
        "colab": {
          "base_uri": "https://localhost:8080/"
        },
        "id": "mdjDYIGR0SCf",
        "outputId": "5ffc4031-9714-497e-ad41-0fdaa4f61dd3"
      },
      "execution_count": null,
      "outputs": [
        {
          "output_type": "stream",
          "name": "stdout",
          "text": [
            "\n",
            "Пример calculate_note_number:\n",
            "Введите частоту (Гц): 820\n",
            "Ближайшие ноты: G4 (снизу), G#4 (сверху)\n"
          ]
        }
      ]
    },
    {
      "cell_type": "code",
      "source": [
        "\"\"\"\n",
        "\n",
        "           Пример 7:\n",
        "           Гамма - это последовательность нот, расположенных в определенном порядке и интервалах.\n",
        "           Частоты нот в гамме могут быть вычислены на основе её корневой ноты и интервального шаблона.\n",
        "           Этот блок кода демонстрирует использование функции generate_scale_frequencies для генерации частот нот в заданной гамме.\n",
        "\n",
        "\"\"\"\n",
        "print(\"\\nПример generate_scale_frequencies:\")\n",
        "# Запрашиваем у пользователя ввод имени корневой ноты (например, c4).\n",
        "root_note_name = input(\"Введите корневую ноту (например, c4): \")\n",
        "# Преобразуем имя корневой ноты в числовой формат.\n",
        "root_note = note_name_to_number(root_note_name)\n",
        "# Проверяем, было ли преобразование имени ноты успешным.\n",
        "if root_note is None:\n",
        "  print(\"Некорректный формат ноты\")\n",
        "else:\n",
        "    # Запрашиваем у пользователя ввод шаблона гаммы в виде строки, разделенной запятыми (например, 2,2,1,2,2,2,1).\n",
        "    scale_pattern_str = input(\"Введите шаблон гаммы через запятую (например, 2,2,1,2,2,2,1): \")\n",
        "    # Преобразуем строку с шаблоном гаммы в список целых чисел.\n",
        "    scale_pattern = [int(x) for x in scale_pattern_str.split(\",\")]\n",
        "    # Устанавливаем частоту ноты A4 (по умолчанию 440.0 Гц) - константа\n",
        "    concert_a = 440.0\n",
        "    # Генерируем частоты нот в гамме.\n",
        "    scale_frequencies = generate_scale_frequencies(root_note, scale_pattern, concert_a)\n",
        "    # Выводим заголовок перед списком частот.\n",
        "    print(\"Частоты нот в гамме:\")\n",
        "    # Выводим частоты нот в гамме, разделенные запятой.\n",
        "    for freq in scale_frequencies:\n",
        "        print(f\"{freq:.2f} Hz\", end=\", \")\n",
        "    print()"
      ],
      "metadata": {
        "colab": {
          "base_uri": "https://localhost:8080/"
        },
        "id": "KvkjHnt34sfG",
        "outputId": "6e4c0427-be05-4832-8d85-60a1b2116ebf"
      },
      "execution_count": null,
      "outputs": [
        {
          "output_type": "stream",
          "name": "stdout",
          "text": [
            "\n",
            "Пример generate_scale_frequencies:\n",
            "Введите корневую ноту (например, c4): c4\n",
            "Введите шаблон гаммы через запятую (например, 2,2,1,2,2,2,1): 2,4,2,6,7\n",
            "Частоты нот в гамме:\n",
            "523.25 Hz, 587.33 Hz, 739.99 Hz, 830.61 Hz, 1174.66 Hz, \n"
          ]
        }
      ]
    },
    {
      "cell_type": "code",
      "source": [
        "\"\"\"\n",
        "\n",
        "           Пример 8:\n",
        "           При настройке музыкальных инструментов часто необходимо определить, насколько фактическая частота звука отличается от целевой.\n",
        "           Отклонение выражается в процентах от целевой частоты.\n",
        "           Этот блок кода демонстрирует использование функции calculate_tuning_deviation для вычисления отклонения частоты.\n",
        "\n",
        "\"\"\"\n",
        "print(\"\\nПример calculate_tuning_deviation:\")\n",
        "# Запрашиваем у пользователя ввод целевой частоты в герцах (Гц).\n",
        "target_freq = float(input(\"Введите целевую частоту (Гц): \"))\n",
        "# Запрашиваем у пользователя ввод фактической частоты в герцах (Гц).\n",
        "actual_freq = float(input(\"Введите фактическую частоту (Гц): \"))\n",
        "# Вычисляем отклонение фактической частоты от целевой в процентах.\n",
        "deviation = calculate_tuning_deviation(target_freq, actual_freq)\n",
        "# Выводим результат вычисления - отклонение в процентах, округленное до двух знаков после запятой.\n",
        "print(f\"Отклонение: {deviation:.2f}%\")"
      ],
      "metadata": {
        "colab": {
          "base_uri": "https://localhost:8080/"
        },
        "id": "kLrErddR4yMd",
        "outputId": "53368152-17cb-435f-aff9-14bcf56cfc84"
      },
      "execution_count": null,
      "outputs": [
        {
          "output_type": "stream",
          "name": "stdout",
          "text": [
            "\n",
            "Пример calculate_tuning_deviation:\n",
            "Введите целевую частоту (Гц): 520\n",
            "Введите фактическую частоту (Гц): 350\n",
            "Отклонение: -32.69%\n"
          ]
        }
      ]
    },
    {
      "cell_type": "code",
      "source": [
        "\"\"\"\n",
        "\n",
        "           Пример 9:\n",
        "           Зная частоту ноты, можно определить её имя и номер в хроматической гамме.\n",
        "           Этот блок кода демонстрирует использование функции get_note_info_from_freq для вывода информации о ноте по её частоте.\n",
        "\n",
        "\"\"\"\n",
        "print(\"\\nПример get_note_info_from_freq:\")\n",
        "# Запрашиваем у пользователя ввод частоты ноты в герцах (Гц).\n",
        "freq = float(input(\"Введите частоту ноты (Гц): \"))\n",
        "# Выводим информацию о ноте на основе введенной частоты.\n",
        "get_note_info_from_freq(freq)"
      ],
      "metadata": {
        "colab": {
          "base_uri": "https://localhost:8080/"
        },
        "id": "NEizDS-74-UK",
        "outputId": "78bbaf0b-14d3-42e2-92ea-d98350d2e622"
      },
      "execution_count": null,
      "outputs": [
        {
          "output_type": "stream",
          "name": "stdout",
          "text": [
            "\n",
            "Пример get_note_info_from_freq:\n",
            "Введите частоту ноты (Гц): 550\n",
            "Частота 550.00 Hz, соответствует ноте C#4, номер 4\n"
          ]
        }
      ]
    },
    {
      "cell_type": "code",
      "source": [
        "\"\"\"\n",
        "\n",
        "           Пример 10:\n",
        "           Функция tune_instrument помогает пользователю настроить музыкальный инструмент,\n",
        "           сообщая, нужно ли повысить или понизить фактическую частоту до целевой.\n",
        "           Этот блок кода демонстрирует использование функции tune_instrument для имитации настройки инструмента.\n",
        "\n",
        "\"\"\"\n",
        "print(\"\\nПример tune_instrument:\")\n",
        "# Запрашиваем у пользователя ввод целевой частоты в герцах (Гц).\n",
        "target_freq = float(input(\"Введите целевую частоту (Гц): \"))\n",
        "# Запрашиваем у пользователя ввод фактической частоты в герцах (Гц).\n",
        "actual_freq = float(input(\"Введите фактическую частоту (Гц): \"))\n",
        "# Выводим информацию о том, насколько фактическая частота отклоняется от целевой, и как это исправить.\n",
        "tune_instrument(target_freq, actual_freq)"
      ],
      "metadata": {
        "colab": {
          "base_uri": "https://localhost:8080/"
        },
        "id": "vDj0rbZg5C46",
        "outputId": "5344b939-29ee-419a-88e3-16b043e696d2"
      },
      "execution_count": null,
      "outputs": [
        {
          "output_type": "stream",
          "name": "stdout",
          "text": [
            "\n",
            "Пример tune_instrument:\n",
            "Введите целевую частоту (Гц): 520\n",
            "Введите фактическую частоту (Гц): 500\n",
            "Занижение на 3.85%. Нужно повысить\n"
          ]
        }
      ]
    },
    {
      "cell_type": "code",
      "source": [],
      "metadata": {
        "id": "T_d6tLUvBk5v"
      },
      "execution_count": null,
      "outputs": []
    }
  ]
}