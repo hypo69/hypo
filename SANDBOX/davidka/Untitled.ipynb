{
 "cells": [
  {
   "cell_type": "code",
   "execution_count": 6,
   "id": "b57256ab-6b6e-4adc-a9a4-967bcae4d181",
   "metadata": {},
   "outputs": [],
   "source": [
    "import header\n",
    "from src import gs\n",
    "from src import USE_ENV\n",
    "from src.endpoints.prestashop.api import PrestaShop"
   ]
  },
  {
   "cell_type": "code",
   "execution_count": 7,
   "id": "a0a6f75d-c71a-45d5-9666-b2c7ee64cebd",
   "metadata": {},
   "outputs": [],
   "source": [
    "class Config:\n",
    "    \"\"\"Configuration class for PrestaShop API.\"\"\"\n",
    "\n",
    "    language: str\n",
    "    ps_version: str = ''\n",
    "    MODE: str = 'dev'  # 'dev8', 'prod'\n",
    "    \"\"\"\n",
    "    MODE (str) = определяет конечную точку API\n",
    "    принимаемые значения:\n",
    "    `dev` - dev.emil_design.com prestashop 1.7\n",
    "    `dev8` - dev8.emil_design.com prestashop 8\n",
    "    `prod` - emil_design.com prestashop 1.7 <- ⚠️ Внимание!  Рабочий магазин!\n",
    "    \"\"\"\n",
    "    POST_FORMAT = 'XML'\n",
    "    API_DOMAIN: str = ''\n",
    "    API_KEY: str = ''\n",
    "\n",
    "    if USE_ENV:\n",
    "        from dotenv import load_dotenv\n",
    "\n",
    "        load_dotenv()\n",
    "        API_DOMAIN = os.getenv('HOST')\n",
    "        API_KEY = os.getenv('API_KEY')\n",
    "\n",
    "    elif MODE == 'dev':\n",
    "        API_DOMAIN = gs.credentials.presta.client.dev_emil_design.api_domain\n",
    "        API_KEY = gs.credentials.presta.client.dev_emil_design.api_key\n",
    "\n",
    "    elif MODE == 'dev8':\n",
    "        API_DOMAIN = gs.credentials.presta.client.dev8_emil_design.api_domain\n",
    "        API_KEY = gs.credentials.presta.client.dev8_emil_design.api_key\n",
    "\n",
    "    elif MODE == 'prod':\n",
    "        API_DOMAIN = gs.credentials.presta.client.emil_design.api_domain\n",
    "        API_KEY = gs.credentials.presta.client.emil_design.api_key\n",
    "\n",
    "    else:\n",
    "        # `DEV` для API устанавливается если MODE пустой или имеет невалидное значение\n",
    "        MODE = 'dev'\n",
    "        API_DOMAIN = gs.credentials.presta.client.dev_emil_design.api_domain\n",
    "        API_KEY = gs.credentials.presta.client.dev_emil_design.api_key\n"
   ]
  },
  {
   "cell_type": "code",
   "execution_count": null,
   "id": "7713f9ef-82f0-4b2e-b0f1-9105e50f13cd",
   "metadata": {},
   "outputs": [],
   "source": []
  }
 ],
 "metadata": {
  "kernelspec": {
   "display_name": "Python 3 (ipykernel)",
   "language": "python",
   "name": "python3"
  },
  "language_info": {
   "codemirror_mode": {
    "name": "ipython",
    "version": 3
   },
   "file_extension": ".py",
   "mimetype": "text/x-python",
   "name": "python",
   "nbconvert_exporter": "python",
   "pygments_lexer": "ipython3",
   "version": "3.12.3"
  }
 },
 "nbformat": 4,
 "nbformat_minor": 5
}
