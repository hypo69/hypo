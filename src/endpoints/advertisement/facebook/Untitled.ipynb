{
 "cells": [
  {
   "cell_type": "code",
   "execution_count": 4,
   "id": "93bdb971-b0b3-4a7a-8139-2941aec4022c",
   "metadata": {
    "jupyter": {
     "source_hidden": true
    }
   },
   "outputs": [
    {
     "name": "stdin",
     "output_type": "stream",
     "text": [
      "Enter KeePass master password:  ········\n"
     ]
    }
   ],
   "source": [
    "from pathlib import Path\n",
    "import header\n",
    "from src import gs\n",
    "from src.utils import j_loads\n",
    "\n",
    "def get_locales(path: Path) -> list[dict[str, str]]:\n",
    "    \"\"\"Load locales data from a JSON file.\n",
    "\n",
    "    Args:\n",
    "        path (Path): Path to the JSON file containing locales data.\n",
    "\n",
    "    Returns:\n",
    "        list[dict[str, str]]: List of dictionaries with locale and currency pairs.\n",
    "\n",
    "    Examples:\n",
    "        >>> from src.suppliers.aliexpress.utils.locales import load_locales_data\n",
    "        >>> locales = load_locales_data(Path('/path/to/locales.json'))\n",
    "        >>> print(locales)\n",
    "        [{'EN': 'USD'}, {'HE': 'ILS'}, {'RU': 'ILS'}, {'EN': 'EUR'}, {'EN': 'GBR'}, {'RU': 'EUR'}]\n",
    "    \"\"\"\n",
    "    return j_loads(gs.path.src / 'suppliers' / 'aliexpress' / 'utils' / 'locales.json').get('locales', [])\n",
    "\n",
    "\n",
    "locales:list[dict[str, str]] = get_locales (gs.path.src / 'suppliers' / 'aliexpress' / 'utils' / 'locales.json')"
   ]
  },
  {
   "cell_type": "code",
   "execution_count": 2,
   "id": "17d85e20-2cd9-4ab7-a477-a5d181f5d67f",
   "metadata": {},
   "outputs": [
    {
     "name": "stdout",
     "output_type": "stream",
     "text": [
      "3\n"
     ]
    }
   ],
   "source": [
    "print(b)"
   ]
  },
  {
   "cell_type": "code",
   "execution_count": null,
   "id": "67aed57f-c0de-410d-87d8-0dbebb50fc15",
   "metadata": {},
   "outputs": [],
   "source": [
    "a=6"
   ]
  },
  {
   "cell_type": "code",
   "execution_count": 3,
   "id": "212cadb7-b0ab-4425-9d08-26e28e33fe9f",
   "metadata": {},
   "outputs": [
    {
     "name": "stdout",
     "output_type": "stream",
     "text": [
      "3\n"
     ]
    }
   ],
   "source": [
    "print(b)"
   ]
  },
  {
   "cell_type": "code",
   "execution_count": null,
   "id": "b4539498-363c-4cbe-a595-4d9b2d3f33ed",
   "metadata": {},
   "outputs": [],
   "source": []
  }
 ],
 "metadata": {
  "kernelspec": {
   "display_name": "Python 3 (ipykernel)",
   "language": "python",
   "name": "python3"
  },
  "language_info": {
   "codemirror_mode": {
    "name": "ipython",
    "version": 3
   },
   "file_extension": ".py",
   "mimetype": "text/x-python",
   "name": "python",
   "nbconvert_exporter": "python",
   "pygments_lexer": "ipython3",
   "version": "3.12.5"
  }
 },
 "nbformat": 4,
 "nbformat_minor": 5
}
