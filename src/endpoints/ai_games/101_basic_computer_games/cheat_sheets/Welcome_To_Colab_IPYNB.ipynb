{
  "nbformat": 4,
  "nbformat_minor": 0,
  "metadata": {
    "colab": {
      "provenance": [],
      "authorship_tag": "ABX9TyPg6nJMrkC8h3gsVOSUMW44",
      "include_colab_link": true
    },
    "kernelspec": {
      "name": "python3",
      "display_name": "Python 3"
    },
    "language_info": {
      "name": "python"
    }
  },
  "cells": [
    {
      "cell_type": "markdown",
      "metadata": {
        "id": "view-in-github",
        "colab_type": "text"
      },
      "source": [
        "<a href=\"https://colab.research.google.com/github/hypo69/101_python_computer_games_ru/blob/master/cheat_sheets/Welcome_To_Colab_IPYNB.ipynb\" target=\"_parent\"><img src=\"https://colab.research.google.com/assets/colab-badge.svg\" alt=\"Open In Colab\"/></a>"
      ]
    },
    {
      "cell_type": "markdown",
      "source": [
        "# Что такое Google Colab?\n",
        "\n",
        "Google Colab — это облачная платформа, созданная Google, для работы с интерактивными блокнотами Jupyter Notebook.\n",
        "Она предоставляет мощные инструменты для написания и выполнения кода на Python, анализа данных, обучения моделей машинного обучения и совместной работы над проектами.\n",
        "\n",
        "Colab предоставляет доступ к мощным вычислительным ресурсам, включая графические процессоры (GPU) и тензорные процессоры (TPU).\n",
        "Это позволяет решать сложные задачи, такие как обработка больших данных или обучение нейросетей, без необходимости приобретать дорогое оборудование. Colab построен на основе Jupyter Notebook, предоставляя удобный интерфейс для работы с кодом, текстом и визуализациями. Вы можете выполнять ячейки кода, вставлять поясняющий текст, создавать графики и визуализации прямо в браузере. Использовать Colab можно сразу после открытия. Нет необходимости устанавливать дополнительные программы, библиотеки или драйверы. Всё уже настроено для работы. Вы можете подключить свой Google Диск, что позволяет легко загружать данные, сохранять проекты и обеспечивать доступ к файлам из любого места. Colab поддерживает совместную работу. Вы можете делиться своими проектами с коллегами, редактировать блокноты одновременно и обсуждать изменения в реальном времени.\n",
        "\n",
        "\n",
        "\n",
        "# Как работает Google Colab?  \n",
        "- Вы запускаете блокнот Jupyter в браузере, что избавляет от необходимости установки локального окружения.  \n",
        "- Код выполняется на удаленных серверах Google, а результаты отображаются в вашем блокноте.  \n",
        "- Данные могут загружаться из локального устройства или из облака, такого как Google Drive.  \n",
        "- Вы можете использовать Colab для написания Python-кода, работы с библиотеками для машинного обучения (например, TensorFlow, PyTorch), анализа данных с использованием Pandas или создания визуализаций через Matplotlib и Seaborn.  \n",
        "\n"
      ],
      "metadata": {
        "id": "7tuLPCQIK7ba"
      }
    },
    {
      "cell_type": "markdown",
      "source": [
        "# магические методы и команды bash для работы с файловой ситемой google colab"
      ],
      "metadata": {
        "id": "CCB7NQt5Lfdn"
      }
    },
    {
      "cell_type": "code",
      "source": [
        "%pwd"
      ],
      "metadata": {
        "colab": {
          "base_uri": "https://localhost:8080/",
          "height": 35
        },
        "id": "g2Q8CDjILaFG",
        "outputId": "0e43fa1a-acdb-4b8d-ccf4-09ef027c6f15"
      },
      "execution_count": null,
      "outputs": [
        {
          "output_type": "execute_result",
          "data": {
            "text/plain": [
              "'/content'"
            ],
            "application/vnd.google.colaboratory.intrinsic+json": {
              "type": "string"
            }
          },
          "metadata": {},
          "execution_count": 1
        }
      ]
    },
    {
      "cell_type": "markdown",
      "source": [
        "%pwd - это магическая команда Jupyter, которая выводит текущую рабочую директорию. В данном случае, это /content. Это корень файловой системы Colab, где ты начинаешь работу."
      ],
      "metadata": {
        "id": "pUGboHTAMGyr"
      }
    },
    {
      "cell_type": "markdown",
      "source": [
        "---"
      ],
      "metadata": {
        "id": "GNXY4nJmMLOs"
      }
    },
    {
      "cell_type": "code",
      "source": [
        "%ls"
      ],
      "metadata": {
        "colab": {
          "base_uri": "https://localhost:8080/"
        },
        "id": "AvGIAP0IME_X",
        "outputId": "2e664397-eb4b-4985-81e8-e5f25b0ad56e"
      },
      "execution_count": null,
      "outputs": [
        {
          "output_type": "stream",
          "name": "stdout",
          "text": [
            "\u001b[0m\u001b[01;34msample_data\u001b[0m/\n"
          ]
        }
      ]
    },
    {
      "cell_type": "markdown",
      "source": [
        "%ls - это еще одна магическая команда Jupyter, которая выводит список файлов и каталогов в текущей рабочей директории. В данном случае, это показывает, что внутри /content есть каталог sample_data/."
      ],
      "metadata": {
        "id": "d5g4J2klMS3E"
      }
    },
    {
      "cell_type": "markdown",
      "source": [
        "---"
      ],
      "metadata": {
        "id": "g8DGUEUMMVrR"
      }
    },
    {
      "cell_type": "code",
      "source": [
        "%cd sample_data\n",
        "%ls"
      ],
      "metadata": {
        "colab": {
          "base_uri": "https://localhost:8080/"
        },
        "id": "6K3yWGzRMWRn",
        "outputId": "2cb6a70f-0ec7-4e5a-dca6-7889d6555043"
      },
      "execution_count": null,
      "outputs": [
        {
          "output_type": "stream",
          "name": "stdout",
          "text": [
            "/content/sample_data\n",
            "\u001b[0m\u001b[01;32manscombe.json\u001b[0m*               california_housing_train.csv  mnist_train_small.csv\n",
            "california_housing_test.csv  mnist_test.csv                \u001b[01;32mREADME.md\u001b[0m*\n"
          ]
        }
      ]
    },
    {
      "cell_type": "markdown",
      "source": [
        "%cd sample_data - это магическая команда, которая меняет текущую рабочую директорию на sample_data/.\n",
        "\n",
        "%ls - снова выводит список файлов и каталогов, но уже внутри sample_data/. Ты видишь, что тут есть файлы anscombe.json, california_housing_test.csv и другие."
      ],
      "metadata": {
        "id": "lrbXbxB5McJh"
      }
    },
    {
      "cell_type": "markdown",
      "source": [
        "---"
      ],
      "metadata": {
        "id": "q03RsjAJMesC"
      }
    },
    {
      "cell_type": "code",
      "source": [
        "!head -5 README.md"
      ],
      "metadata": {
        "colab": {
          "base_uri": "https://localhost:8080/"
        },
        "id": "sShW0-nYMgYf",
        "outputId": "c075adb1-5851-47c9-c53b-7fe91c392370"
      },
      "execution_count": null,
      "outputs": [
        {
          "output_type": "stream",
          "name": "stdout",
          "text": [
            "This directory includes a few sample datasets to get you started.\n",
            "\n",
            "*   `california_housing_data*.csv` is California housing data from the 1990 US\n",
            "    Census; more information is available at:\n",
            "    https://docs.google.com/document/d/e/2PACX-1vRhYtsvc5eOR2FWNCwaBiKL6suIOrxJig8LcSBbmCbyYsayia_DvPOOBlXZ4CAlQ5nlDD8kTaIDRwrN/pub\n"
          ]
        }
      ]
    },
    {
      "cell_type": "markdown",
      "source": [
        "!head -5 README.md - это команда bash, которая выводит первые 5 строк файла README.md. Символ ! используется для запуска команд bash в Colab. Эта команда позволяет просмотреть содержимое файла, который, как оказывается, содержит описание набора данных."
      ],
      "metadata": {
        "id": "f_ky6PKSMm1U"
      }
    },
    {
      "cell_type": "markdown",
      "source": [
        "---"
      ],
      "metadata": {
        "id": "Ovg3_zZ9Mn7-"
      }
    },
    {
      "cell_type": "code",
      "source": [
        "!echo \"sample file\" > sample_file.txt\n",
        "%ls"
      ],
      "metadata": {
        "colab": {
          "base_uri": "https://localhost:8080/"
        },
        "id": "YPqtH2pjMjjv",
        "outputId": "f676e681-a86b-4e74-d029-2e94e49e35fd"
      },
      "execution_count": null,
      "outputs": [
        {
          "output_type": "stream",
          "name": "stdout",
          "text": [
            "\u001b[0m\u001b[01;32manscombe.json\u001b[0m*               california_housing_train.csv  mnist_train_small.csv  sample_file.txt\n",
            "california_housing_test.csv  mnist_test.csv                \u001b[01;32mREADME.md\u001b[0m*\n"
          ]
        }
      ]
    },
    {
      "cell_type": "markdown",
      "source": [
        "!echo \"sample file\" > sample_file.txt - это bash команда, которая создает файл sample_file.txt и записывает в него строку \"sample file\".\n",
        "\n",
        "%ls - выводит список файлов, и теперь мы видим, что в текущей директории появился файл sample_file.txt.\n",
        "\n",
        "Ячейка [1]:"
      ],
      "metadata": {
        "id": "lg-nxbVyMykm"
      }
    },
    {
      "cell_type": "markdown",
      "source": [
        "---"
      ],
      "metadata": {
        "id": "6ZR7eGeOMzqq"
      }
    },
    {
      "cell_type": "code",
      "source": [
        "!cat sample_file.txt"
      ],
      "metadata": {
        "colab": {
          "base_uri": "https://localhost:8080/"
        },
        "id": "JJhSOqT_MuAB",
        "outputId": "24e33e9c-cc31-4d27-f8e9-48a76ba5b903"
      },
      "execution_count": null,
      "outputs": [
        {
          "output_type": "stream",
          "name": "stdout",
          "text": [
            "sample file\n"
          ]
        }
      ]
    },
    {
      "cell_type": "markdown",
      "source": [
        "!cat sample_file.txt - это bash команда, которая выводит содержимое файла sample_file.txt. В данном случае, выводится строка \"sample file\"."
      ],
      "metadata": {
        "id": "s6I-AxpkM3pr"
      }
    },
    {
      "cell_type": "markdown",
      "source": [
        "---"
      ],
      "metadata": {
        "id": "F1C1WWg9M7an"
      }
    },
    {
      "cell_type": "markdown",
      "source": [
        "ЗАГРУЗКА ФАЙЛОВ\n",
        "=================="
      ],
      "metadata": {
        "id": "5ouNN84DXAGy"
      }
    },
    {
      "cell_type": "code",
      "source": [
        "from google.colab import files"
      ],
      "metadata": {
        "id": "jKpWyj9lM2oA"
      },
      "execution_count": 1,
      "outputs": []
    },
    {
      "cell_type": "code",
      "source": [
        "# Пример использования загруженных файлов\n",
        "for file_name, file_data in uploaded.items():\n",
        "   print(f\"Файл: {file_name}\")\n",
        "   # Обработка данных файла\n",
        "   # Например:\n",
        "   # import pandas as pd\n",
        "   # df = pd.read_csv(io.BytesIO(file_data))\n",
        "   # print(df.head())"
      ],
      "metadata": {
        "id": "rvRnAkp8XK_1"
      },
      "execution_count": null,
      "outputs": []
    }
  ]
}